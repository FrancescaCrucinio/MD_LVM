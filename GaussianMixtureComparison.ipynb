{
 "cells": [
  {
   "cell_type": "code",
   "execution_count": 1,
   "id": "78bed646",
   "metadata": {},
   "outputs": [
    {
     "data": {
      "text/plain": [
       "<module 'md_lvm' from '/Users/francescacrucinio/Documents/MD_LVM/md_lvm.py'>"
      ]
     },
     "execution_count": 1,
     "metadata": {},
     "output_type": "execute_result"
    }
   ],
   "source": [
    "# standard libraries\n",
    "import importlib\n",
    "from matplotlib import pyplot as plt\n",
    "import numpy as np\n",
    "from scipy.stats import norm\n",
    "from scipy import linalg, stats, optimize\n",
    "import time\n",
    "from copy import deepcopy\n",
    "from lib_neurips import error, create_K, sinkhorn_em_algorithm_single, em_algorithm_single\n",
    "import sys\n",
    "sys.path.append('/Users/francescacrucinio/Documents/MD_LVM')\n",
    "\n",
    "import md_lvm\n",
    "importlib.reload(md_lvm)"
   ]
  },
  {
   "cell_type": "code",
   "execution_count": 2,
   "id": "74ad59ca",
   "metadata": {},
   "outputs": [],
   "source": [
    "theta = 1\n",
    "ndata = 1000"
   ]
  },
  {
   "cell_type": "code",
   "execution_count": 3,
   "id": "65ffab06",
   "metadata": {},
   "outputs": [],
   "source": [
    "Niter = 100\n",
    "gamma = 0.05\n",
    "props = np.linspace(0.5,1,51)\n",
    "\n",
    "#number of repetitions in experiment\n",
    "nrep = 10\n",
    "mu_final_em = np.zeros((len(props), nrep, Niter))\n",
    "mu_final_em_theta = np.zeros((len(props), nrep, Niter))\n",
    "mu_final_sinkhorn = np.zeros((len(props), nrep, Niter))\n",
    "theta_em = np.zeros((len(props),nrep,Niter,2))\n",
    "mu_md = np.zeros((len(props),nrep,Niter))\n",
    "times_em = np.zeros((len(props), nrep))\n",
    "times_oem = np.zeros((len(props), nrep))\n",
    "times_sem = np.zeros((len(props), nrep))\n",
    "times_md = np.zeros((len(props), nrep))"
   ]
  },
  {
   "cell_type": "code",
   "execution_count": 4,
   "id": "e69010ba",
   "metadata": {},
   "outputs": [
    {
     "name": "stderr",
     "output_type": "stream",
     "text": [
      "/var/folders/yb/2yx4lkb90l57vb9ljkzffpq40000gn/T/ipykernel_12031/3717286106.py:13: RuntimeWarning: divide by zero encountered in log\n",
      "  log_theta[1] = np.log(1-prop)\n",
      "/Users/francescacrucinio/Documents/MD_LVM/lib_neurips.py:38: RuntimeWarning: divide by zero encountered in log\n",
      "  log_theta0 = np.log(theta0)\n",
      "/Users/francescacrucinio/Documents/MD_LVM/lib_neurips.py:78: RuntimeWarning: divide by zero encountered in log\n",
      "  u = eps * (np.log(mu_x) - logsumexp(M, axis=1)) + u\n",
      "/Users/francescacrucinio/Documents/MD_LVM/lib_neurips.py:78: RuntimeWarning: invalid value encountered in subtract\n",
      "  u = eps * (np.log(mu_x) - logsumexp(M, axis=1)) + u\n",
      "/Users/francescacrucinio/Documents/MD_LVM/lib_neurips.py:82: RuntimeWarning: divide by zero encountered in log\n",
      "  u = eps * (np.log(mu_x) - logsumexp(M, axis=1)) + u\n",
      "/Users/francescacrucinio/Documents/MD_LVM/md_lvm.py:196: RuntimeWarning: divide by zero encountered in log\n",
      "  ll = -(y-theta*x)**2/2-0.5*np.log(2*np.pi) +np.log((x==-1)+alpha*x)\n",
      "/Users/francescacrucinio/Documents/MD_LVM/md_lvm.py:206: RuntimeWarning: invalid value encountered in multiply\n",
      "  log_acceptance = (1-(1-gamma)**n)*(ll_gmm_alpha(theta_current, prop, data, alpha) - ll_gmm_alpha(theta_current, v, data, alpha)) + 2*np.log(alpha/(1-alpha))*(prop-v)\n",
      "/Users/francescacrucinio/Documents/MD_LVM/md_lvm.py:206: RuntimeWarning: divide by zero encountered in double_scalars\n",
      "  log_acceptance = (1-(1-gamma)**n)*(ll_gmm_alpha(theta_current, prop, data, alpha) - ll_gmm_alpha(theta_current, v, data, alpha)) + 2*np.log(alpha/(1-alpha))*(prop-v)\n"
     ]
    }
   ],
   "source": [
    "for r in range(nrep):\n",
    "    X0 = np.random.randn(ndata, 1).astype('float32')\n",
    "    for p0 in range(len(props)): \n",
    "        prop = props[p0]\n",
    "        X = deepcopy(X0)\n",
    "        X[:int(ndata*prop), 0] += theta\n",
    "        X[int(ndata*prop):ndata, 0] += -theta\n",
    "        \n",
    "        theta0 = np.reshape(np.array([prop, 1-prop]), [2,1])\n",
    "\n",
    "        log_theta = np.zeros((2,1))\n",
    "        log_theta[0] = np.log(prop)\n",
    "        log_theta[1] = np.log(1-prop)\n",
    "            \n",
    "        mu00  = np.reshape(np.array([-2, 2]), [2,1]).astype('float32')\n",
    "        \n",
    "        start = time.time()\n",
    "        a,b,seq = em_algorithm_single(X, mu00, 1, log_theta, n_iter=Niter, update_theta=False)\n",
    "        end = time.time()\n",
    "        times_em[p0,r] = end-start\n",
    "        for n in range(Niter):\n",
    "            mu_final_em[p0,r,n] = seq[n][0,0]\n",
    "\n",
    "        start = time.time()\n",
    "        a,b,seq = em_algorithm_single(X, mu00, 1, log_theta, n_iter=Niter, update_theta=True)\n",
    "        end = time.time()\n",
    "        times_oem[p0,r] = end-start\n",
    "        for n in range(Niter):\n",
    "            mu_final_em_theta[p0,r,n] = seq[n][0,0]            \n",
    "            \n",
    "        start = time.time()    \n",
    "        a,theta0,seq=sinkhorn_em_algorithm_single(X, mu00, 1, log_theta, n_iter=Niter, n_iter_sinkhorn=200)\n",
    "        end = time.time()\n",
    "        times_sem[p0,r] = end-start    \n",
    "            \n",
    "        for n in range(Niter):\n",
    "            mu_final_sinkhorn[p0,r,n] = seq[n][0,0]\n",
    "            \n",
    "        start = time.time()\n",
    "        mu_md[p0, r, :],_,_ = md_lvm.md_gmm_fast(X.flatten(), gamma, Niter, ndata, -2, 2*np.random.binomial(1, 0.5, ndata)-1, prop)\n",
    "        end = time.time()\n",
    "        times_md[p0,r] = end-start"
   ]
  },
  {
   "cell_type": "code",
   "execution_count": 8,
   "id": "91f8006f",
   "metadata": {},
   "outputs": [
    {
     "data": {
      "image/png": "[encoded data removed]",
      "text/plain": [
       "<Figure size 432x288 with 1 Axes>"
      ]
     },
     "metadata": {
      "needs_background": "light"
     },
     "output_type": "display_data"
    }
   ],
   "source": [
    "plt.plot(props,mu_final_em[:,0,-1],label='EM', linewidth=2)\n",
    "plt.plot(props,mu_final_em_theta[:,0,-1],label='O-EM', linewidth=2)\n",
    "plt.plot(props,mu_final_sinkhorn[:,0,-1],label='s-EM', linewidth=2)\n",
    "plt.axhline(y=theta, c = 'black', linestyle = 'dashed', lw = 2, label = 'True theta')\n",
    "plt.plot(props,mu_md[:,0,-1],label='SMCs-LVM', linewidth=2)\n",
    "plt.legend(fontsize=15)\n",
    "plt.xticks(fontsize=14)\n",
    "plt.yticks(fontsize=14)\n",
    "# plt.savefig('gaussian_mixture_full.pdf', bbox_inches=\"tight\")"
   ]
  },
  {
   "cell_type": "code",
   "execution_count": 7,
   "id": "e9845632",
   "metadata": {},
   "outputs": [
    {
     "data": {
      "text/plain": [
       "(1.6348386278339462,\n",
       " 0.0092239356508442,\n",
       " 0.0183103926041547,\n",
       " 1.6144307206658757)"
      ]
     },
     "execution_count": 7,
     "metadata": {},
     "output_type": "execute_result"
    }
   ],
   "source": [
    "np.mean(times_md), np.mean(times_em), np.mean(times_oem), np.mean(times_sem)"
   ]
  }
 ],
 "metadata": {
  "kernelspec": {
   "display_name": "Python 3 (ipykernel)",
   "language": "python",
   "name": "python3"
  },
  "language_info": {
   "codemirror_mode": {
    "name": "ipython",
    "version": 3
   },
   "file_extension": ".py",
   "mimetype": "text/x-python",
   "name": "python",
   "nbconvert_exporter": "python",
   "pygments_lexer": "ipython3",
   "version": "3.9.7"
  }
 },
 "nbformat": 4,
 "nbformat_minor": 5
}

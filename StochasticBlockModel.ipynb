{
 "cells": [
  {
   "cell_type": "code",
   "execution_count": 1,
   "id": "8ac548e4",
   "metadata": {},
   "outputs": [],
   "source": [
    "# standard libraries\n",
    "import importlib\n",
    "from matplotlib import pyplot as plt\n",
    "import numpy as np\n",
    "from scipy.stats import norm\n",
    "from scipy import linalg, stats, optimize\n",
    "import time\n",
    "import networkx as nx\n",
    "import sys\n",
    "sys.path.append('/Users/francescacrucinio/Documents/MD_LVM')\n",
    "\n",
    "import md_lvm\n",
    "importlib.reload(md_lvm)\n",
    "import saem"
   ]
  },
  {
   "cell_type": "code",
   "execution_count": 2,
   "id": "dbb52d57",
   "metadata": {},
   "outputs": [],
   "source": [
    "nodes = 100\n",
    "pi = np.array([0.6, 0.4])\n",
    "probs = np.array([[0.25, 0.1], [0.1, 0.2]])"
   ]
  },
  {
   "cell_type": "code",
   "execution_count": 3,
   "id": "8a9364db",
   "metadata": {},
   "outputs": [],
   "source": [
    "z = np.loadtxt(\"z.txt\")\n",
    "y = np.loadtxt(\"adj.txt\")"
   ]
  },
  {
   "cell_type": "code",
   "execution_count": 4,
   "id": "a6c16277",
   "metadata": {},
   "outputs": [],
   "source": [
    "th0 = np.array([0.5, 0.5, 0.5, 0.5, 0.5])  # Initial parameter guess.\n",
    "X0 = np.random.binomial(1, 0.5, nodes)  # Initial particle cloud."
   ]
  },
  {
   "cell_type": "code",
   "execution_count": 5,
   "id": "b95e530f",
   "metadata": {},
   "outputs": [],
   "source": [
    "Niter = 5000\n",
    "N = nodes\n",
    "gamma = 0.005"
   ]
  },
  {
   "cell_type": "code",
   "execution_count": 6,
   "id": "b39df5f1",
   "metadata": {},
   "outputs": [],
   "source": [
    "theta, x, W = md_lvm.md_sbm_fast(y, gamma, Niter, N, th0, X0)"
   ]
  },
  {
   "cell_type": "code",
   "execution_count": 7,
   "id": "3b4d0b77",
   "metadata": {},
   "outputs": [
    {
     "data": {
      "text/plain": [
       "array([[0.5       , 0.5       , 0.5       , 0.5       , 0.5       ],\n",
       "       [0.500014  , 0.49792   , 0.498343  , 0.498315  , 0.498804  ],\n",
       "       [0.5       , 0.49670749, 0.4966941 , 0.49667224, 0.49672162],\n",
       "       ...,\n",
       "       [0.86143552, 0.16575758, 0.38261213, 0.38249084, 0.40412897],\n",
       "       [0.86149357, 0.16575758, 0.38261213, 0.38249084, 0.40412897],\n",
       "       [0.8615516 , 0.16575758, 0.38261213, 0.38249084, 0.40412897]])"
      ]
     },
     "execution_count": 7,
     "metadata": {},
     "output_type": "execute_result"
    }
   ],
   "source": [
    "theta"
   ]
  },
  {
   "cell_type": "code",
   "execution_count": 8,
   "id": "2073f186",
   "metadata": {},
   "outputs": [
    {
     "data": {
      "text/plain": [
       "[<matplotlib.lines.Line2D at 0x7f81910d66d0>,\n",
       " <matplotlib.lines.Line2D at 0x7f81910d6640>,\n",
       " <matplotlib.lines.Line2D at 0x7f81910d6760>,\n",
       " <matplotlib.lines.Line2D at 0x7f81910d6880>,\n",
       " <matplotlib.lines.Line2D at 0x7f81910d69a0>]"
      ]
     },
     "execution_count": 8,
     "metadata": {},
     "output_type": "execute_result"
    },
    {
     "data": {
      "image/png": "[encoded data removed]",
      "text/plain": [
       "<Figure size 432x288 with 1 Axes>"
      ]
     },
     "metadata": {
      "needs_background": "light"
     },
     "output_type": "display_data"
    }
   ],
   "source": [
    "plt.plot(theta)"
   ]
  },
  {
   "cell_type": "code",
   "execution_count": 9,
   "id": "13f074fc",
   "metadata": {},
   "outputs": [
    {
     "data": {
      "text/plain": [
       "0.0"
      ]
     },
     "execution_count": 9,
     "metadata": {},
     "output_type": "execute_result"
    }
   ],
   "source": [
    "saem.sbm_ari(z-1, x[-1,:])"
   ]
  },
  {
   "cell_type": "code",
   "execution_count": 10,
   "id": "a66c65c2",
   "metadata": {},
   "outputs": [
    {
     "data": {
      "text/plain": [
       "(array([0., 1., 1., 0., 0., 0., 1., 1., 0., 1., 0., 0., 0., 1., 0., 1., 0.,\n",
       "        0., 0., 0., 1., 1., 1., 1., 0., 0., 1., 0., 1., 1., 0., 0., 1., 0.,\n",
       "        0., 0., 1., 1., 0., 1., 1., 0., 1., 0., 0., 1., 0., 1., 0., 0., 1.,\n",
       "        0., 0., 1., 1., 0., 0., 0., 1., 0., 1., 1., 0., 0., 1., 0., 1., 1.,\n",
       "        0., 0., 0., 1., 1., 1., 0., 0., 0., 0., 1., 1., 1., 1., 1., 1., 0.,\n",
       "        0., 0., 1., 0., 1., 0., 1., 1., 0., 1., 0., 0., 0., 0., 0.]),\n",
       " array([0., 0., 0., 0., 0., 0., 0., 0., 0., 0., 0., 0., 0., 0., 0., 0., 0.,\n",
       "        0., 0., 0., 0., 0., 0., 0., 0., 0., 0., 0., 0., 0., 0., 0., 0., 0.,\n",
       "        0., 0., 0., 0., 0., 0., 0., 0., 0., 0., 0., 0., 0., 0., 0., 0., 0.,\n",
       "        0., 0., 0., 0., 0., 0., 0., 0., 0., 0., 0., 0., 0., 0., 0., 0., 0.,\n",
       "        0., 0., 0., 0., 0., 0., 0., 0., 0., 0., 0., 0., 0., 0., 0., 0., 0.,\n",
       "        0., 0., 0., 0., 0., 0., 0., 0., 0., 0., 0., 0., 0., 0., 0.]))"
      ]
     },
     "execution_count": 10,
     "metadata": {},
     "output_type": "execute_result"
    }
   ],
   "source": [
    "z-1, x[-1,:]"
   ]
  }
 ],
 "metadata": {
  "kernelspec": {
   "display_name": "Python 3 (ipykernel)",
   "language": "python",
   "name": "python3"
  },
  "language_info": {
   "codemirror_mode": {
    "name": "ipython",
    "version": 3
   },
   "file_extension": ".py",
   "mimetype": "text/x-python",
   "name": "python",
   "nbconvert_exporter": "python",
   "pygments_lexer": "ipython3",
   "version": "3.9.7"
  }
 },
 "nbformat": 4,
 "nbformat_minor": 5
}

{
 "cells": [
  {
   "cell_type": "code",
   "execution_count": 1,
   "id": "8ac548e4",
   "metadata": {},
   "outputs": [
    {
     "data": {
      "text/plain": [
       "<module 'md_lvm' from '/Users/francescacrucinio/Documents/MD_LVM/md_lvm.py'>"
      ]
     },
     "execution_count": 1,
     "metadata": {},
     "output_type": "execute_result"
    }
   ],
   "source": [
    "# standard libraries\n",
    "import importlib\n",
    "from matplotlib import pyplot as plt\n",
    "import numpy as np\n",
    "from scipy.stats import norm\n",
    "from scipy import linalg, stats, optimize\n",
    "import time\n",
    "import networkx as nx\n",
    "import sys\n",
    "sys.path.append('/Users/francescacrucinio/Documents/MD_LVM')\n",
    "\n",
    "import md_lvm\n",
    "importlib.reload(md_lvm)"
   ]
  },
  {
   "cell_type": "code",
   "execution_count": 2,
   "id": "dbb52d57",
   "metadata": {},
   "outputs": [],
   "source": [
    "nodes = 100\n",
    "pi = np.array([0.6, 0.4])\n",
    "probs = np.array([[0.25, 0.1], [0.1, 0.2]])"
   ]
  },
  {
   "cell_type": "code",
   "execution_count": 3,
   "id": "8e475378",
   "metadata": {},
   "outputs": [],
   "source": [
    "# sizes = [int(nodes*p), int(nodes*(1-p))]\n",
    "# probs = [[0.25, 0.1], [0.1, 0.2]]\n",
    "# g = nx.stochastic_block_model(sizes, probs, seed=0)\n",
    "# len(g)\n",
    "# nx.draw(g)\n",
    "# A = nx.adjacency_matrix(g)\n",
    "# y = A.toarray()"
   ]
  },
  {
   "cell_type": "code",
   "execution_count": 4,
   "id": "5e207732",
   "metadata": {},
   "outputs": [],
   "source": [
    "def sbm_sample(pi, nu, nodes):\n",
    "    # block allocation\n",
    "    x = np.random.choice(np.arange(len(pi)), nodes, p=pi)\n",
    "    # adjacency matrix \n",
    "    A = np.zeros((nodes, nodes))\n",
    "    for i in range(nodes):\n",
    "        A[i, np.delete(np.arange(nodes), i)] = np.random.binomial(1, p = probs[x[i], np.delete(x, i)], size = nodes-1)\n",
    "    return A, x"
   ]
  },
  {
   "cell_type": "code",
   "execution_count": 5,
   "id": "8a9364db",
   "metadata": {},
   "outputs": [],
   "source": [
    "y, res_z = sbm_sample(pi, probs, nodes)\n",
    "# y = np.loadtxt(\"adj.txt\")"
   ]
  },
  {
   "cell_type": "code",
   "execution_count": 6,
   "id": "a6c16277",
   "metadata": {},
   "outputs": [],
   "source": [
    "th0 = np.array([0.5, 0.5, 0.5, 0.5])  # Initial parameter guess.\n",
    "X0 = np.random.binomial(1, 0.5, nodes)+1  # Initial particle cloud."
   ]
  },
  {
   "cell_type": "code",
   "execution_count": 7,
   "id": "b95e530f",
   "metadata": {},
   "outputs": [],
   "source": [
    "Niter = 300\n",
    "N = nodes\n",
    "gamma = 0.01"
   ]
  },
  {
   "cell_type": "code",
   "execution_count": 8,
   "id": "c4a837b2",
   "metadata": {},
   "outputs": [
    {
     "name": "stderr",
     "output_type": "stream",
     "text": [
      "/Users/francescacrucinio/Documents/MD_LVM/md_lvm.py:242: RuntimeWarning: invalid value encountered in log\n",
      "  prior[i] = np.log(theta[0])\n",
      "/Users/francescacrucinio/Documents/MD_LVM/md_lvm.py:242: RuntimeWarning: invalid value encountered in log\n",
      "  prior[i] = np.log(theta[0])\n"
     ]
    }
   ],
   "source": [
    "theta, x, W = md_lvm.md_sbm_fast(y, gamma, Niter, N, th0, X0)"
   ]
  },
  {
   "cell_type": "code",
   "execution_count": 9,
   "id": "2073f186",
   "metadata": {},
   "outputs": [
    {
     "data": {
      "text/plain": [
       "[<matplotlib.lines.Line2D at 0x7ff109e5bc10>,\n",
       " <matplotlib.lines.Line2D at 0x7ff109e5bc40>,\n",
       " <matplotlib.lines.Line2D at 0x7ff109e5bca0>,\n",
       " <matplotlib.lines.Line2D at 0x7ff109e5bdc0>]"
      ]
     },
     "execution_count": 9,
     "metadata": {},
     "output_type": "execute_result"
    },
    {
     "data": {
      "image/png": "[encoded data removed]",
      "text/plain": [
       "<Figure size 432x288 with 1 Axes>"
      ]
     },
     "metadata": {
      "needs_background": "light"
     },
     "output_type": "display_data"
    }
   ],
   "source": [
    "plt.plot(theta)"
   ]
  },
  {
   "cell_type": "code",
   "execution_count": 10,
   "id": "ec41b357",
   "metadata": {},
   "outputs": [
    {
     "data": {
      "text/plain": [
       "array([[0.5       , 0.5       , 0.5       , 0.5       ],\n",
       "       [0.4988    , 0.49408   , 0.486208  , 0.492496  ],\n",
       "       [0.49284797, 0.49112794, 0.47422891, 0.48100715],\n",
       "       ...,\n",
       "       [       nan, 0.39782831,        nan,        nan],\n",
       "       [       nan, 0.39782831,        nan,        nan],\n",
       "       [       nan, 0.39782831,        nan,        nan]])"
      ]
     },
     "execution_count": 10,
     "metadata": {},
     "output_type": "execute_result"
    }
   ],
   "source": [
    "theta"
   ]
  }
 ],
 "metadata": {
  "kernelspec": {
   "display_name": "Python 3 (ipykernel)",
   "language": "python",
   "name": "python3"
  },
  "language_info": {
   "codemirror_mode": {
    "name": "ipython",
    "version": 3
   },
   "file_extension": ".py",
   "mimetype": "text/x-python",
   "name": "python",
   "nbconvert_exporter": "python",
   "pygments_lexer": "ipython3",
   "version": "3.9.7"
  }
 },
 "nbformat": 4,
 "nbformat_minor": 5
}

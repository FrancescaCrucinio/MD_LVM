{
 "cells": [
  {
   "cell_type": "code",
   "execution_count": 1,
   "id": "8ac548e4",
   "metadata": {},
   "outputs": [],
   "source": [
    "# standard libraries\n",
    "import importlib\n",
    "from matplotlib import pyplot as plt\n",
    "import numpy as np\n",
    "from scipy.stats import norm\n",
    "from scipy import linalg, stats, optimize\n",
    "import time\n",
    "import networkx as nx\n",
    "import sys\n",
    "sys.path.append('/Users/francescacrucinio/Documents/MD_LVM')\n",
    "\n",
    "import md_lvm\n",
    "importlib.reload(md_lvm)\n",
    "import saem"
   ]
  },
  {
   "cell_type": "code",
   "execution_count": 2,
   "id": "dbb52d57",
   "metadata": {},
   "outputs": [],
   "source": [
    "nodes = 100\n",
    "pi = np.array([0.6, 0.4])\n",
    "probs = np.array([[0.25, 0.1], [0.1, 0.2]])"
   ]
  },
  {
   "cell_type": "code",
   "execution_count": 3,
   "id": "8a9364db",
   "metadata": {},
   "outputs": [],
   "source": [
    "z = np.loadtxt(\"z.txt\")\n",
    "y = np.loadtxt(\"adj.txt\")"
   ]
  },
  {
   "cell_type": "code",
   "execution_count": 4,
   "id": "a6c16277",
   "metadata": {},
   "outputs": [],
   "source": [
    "th0 = np.array([0.5, 0.5, 0.5, 0.5, 0.5])  # Initial parameter guess.\n",
    "X0 = np.random.binomial(1, 0.5, nodes)  # Initial particle cloud."
   ]
  },
  {
   "cell_type": "code",
   "execution_count": 5,
   "id": "b95e530f",
   "metadata": {},
   "outputs": [],
   "source": [
    "Niter = 10000\n",
    "N = nodes\n",
    "gamma = 0.001"
   ]
  },
  {
   "cell_type": "code",
   "execution_count": null,
   "id": "8ab4be27",
   "metadata": {},
   "outputs": [],
   "source": [
    "theta, x, W = md_lvm.md_sbm_fast(y, gamma, Niter, N, th0, X0)"
   ]
  },
  {
   "cell_type": "code",
   "execution_count": null,
   "id": "f4dec60d",
   "metadata": {},
   "outputs": [],
   "source": [
    "theta"
   ]
  },
  {
   "cell_type": "code",
   "execution_count": null,
   "id": "2073f186",
   "metadata": {},
   "outputs": [],
   "source": [
    "plt.plot(theta)"
   ]
  },
  {
   "cell_type": "code",
   "execution_count": null,
   "id": "3e5df91d",
   "metadata": {},
   "outputs": [],
   "source": [
    "saem.sbm_ari(z-1, x[-1,:])"
   ]
  },
  {
   "cell_type": "code",
   "execution_count": null,
   "id": "e8436e6f",
   "metadata": {},
   "outputs": [],
   "source": [
    "z-1, x[-1,:]"
   ]
  }
 ],
 "metadata": {
  "kernelspec": {
   "display_name": "Python 3 (ipykernel)",
   "language": "python",
   "name": "python3"
  },
  "language_info": {
   "codemirror_mode": {
    "name": "ipython",
    "version": 3
   },
   "file_extension": ".py",
   "mimetype": "text/x-python",
   "name": "python",
   "nbconvert_exporter": "python",
   "pygments_lexer": "ipython3",
   "version": "3.9.7"
  }
 },
 "nbformat": 4,
 "nbformat_minor": 5
}

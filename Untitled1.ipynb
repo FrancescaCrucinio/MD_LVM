{
 "cells": [
  {
   "cell_type": "code",
   "execution_count": 1,
   "id": "7390f8cb",
   "metadata": {},
   "outputs": [
    {
     "data": {
      "text/plain": [
       "<module 'md_lvm' from '/Users/francescacrucinio/Documents/MD_LVM/md_lvm.py'>"
      ]
     },
     "execution_count": 1,
     "metadata": {},
     "output_type": "execute_result"
    }
   ],
   "source": [
    "import importlib\n",
    "import numpy as np \n",
    "import math, scipy\n",
    "from scipy.stats import multivariate_normal, geom, logistic\n",
    "import matplotlib.pyplot as plt\n",
    "\n",
    "import md_lvm\n",
    "import ica\n",
    "importlib.reload(ica)\n",
    "importlib.reload(md_lvm)"
   ]
  },
  {
   "cell_type": "code",
   "execution_count": 2,
   "id": "5d61d832",
   "metadata": {},
   "outputs": [],
   "source": [
    "Y = np.loadtxt(\"censored_ica_data100.txt\")"
   ]
  },
  {
   "cell_type": "code",
   "execution_count": 3,
   "id": "e9f7b763",
   "metadata": {},
   "outputs": [],
   "source": [
    "d = Y.shape[0]\n",
    "ndata = Y.shape[1]\n",
    "p = 2"
   ]
  },
  {
   "cell_type": "code",
   "execution_count": 4,
   "id": "91bc5386",
   "metadata": {},
   "outputs": [
    {
     "data": {
      "text/plain": [
       "10"
      ]
     },
     "execution_count": 4,
     "metadata": {},
     "output_type": "execute_result"
    }
   ],
   "source": [
    "Y.shape[1]"
   ]
  },
  {
   "cell_type": "code",
   "execution_count": 5,
   "id": "430b1cc7",
   "metadata": {},
   "outputs": [],
   "source": [
    "tmp = np.loadtxt(\"ica_truth.txt\")\n",
    "true_A = tmp[:d, :]\n",
    "true_sigma = tmp[d, 0]\n",
    "alpha = 0.8\n",
    "a1 = np.abs(np.reshape(true_A[:, 0], [16, 16]))\n",
    "a2 = np.abs(np.reshape(true_A[:, 1], [16, 16]))"
   ]
  },
  {
   "cell_type": "code",
   "execution_count": 6,
   "id": "619ca6df",
   "metadata": {},
   "outputs": [],
   "source": [
    "alpha = 0.8\n",
    "Niter = 2000\n",
    "N = 200"
   ]
  },
  {
   "cell_type": "code",
   "execution_count": 7,
   "id": "28637093",
   "metadata": {},
   "outputs": [],
   "source": [
    "sigma = np.zeros((Niter))\n",
    "A = np.zeros((Niter, d, p))"
   ]
  },
  {
   "cell_type": "code",
   "execution_count": 8,
   "id": "d5febc26",
   "metadata": {},
   "outputs": [],
   "source": [
    "learning_rate_sigma = 0.00001\n",
    "learning_rate_A = 0.0001\n",
    "h = 0.0001"
   ]
  },
  {
   "cell_type": "code",
   "execution_count": 9,
   "id": "0eb0436f",
   "metadata": {},
   "outputs": [],
   "source": [
    "sigma0 = np.random.uniform(size = 1)\n",
    "A0 = np.reshape(np.random.uniform(size = d*p), [d, p])\n",
    "\n",
    "A[0,:,:] = A0\n",
    "sigma[0] = sigma0"
   ]
  },
  {
   "cell_type": "code",
   "execution_count": 10,
   "id": "bf442ccf",
   "metadata": {},
   "outputs": [],
   "source": [
    "def grad_x_ica(sigma, A, X, Y):\n",
    "    d, m = Y.shape\n",
    "    N = X.shape[0]\n",
    "    p = X.shape[1]\n",
    "    gradient = np.zeros((m, N, p))\n",
    "    for i in range(m):\n",
    "        for j in range(N):\n",
    "            tmp = np.matmul(Y[:, i] - np.matmul(A, X[j,:]), A)\n",
    "            gradient[i,j,:] = np.sign(tmp) * np.exp(np.log(np.abs(tmp)) - np.log(sigma**2))\n",
    "    return np.sum(gradient, axis = 0) + 2*(np.exp(X)-np.exp(-X))/(np.exp(X)+np.exp(-X))"
   ]
  },
  {
   "cell_type": "code",
   "execution_count": 11,
   "id": "7874e9dd",
   "metadata": {},
   "outputs": [],
   "source": [
    "def ica_gradient_sigma(A, sigma, Y, X):\n",
    "    N = X.shape[0]\n",
    "    d, m = Y.shape\n",
    "    gradient = np.zeros((m, N))\n",
    "    for i in range(m):\n",
    "        gradient[i, :] = np.sum((Y[:, i] - np.matmul(A, X.T).T)**2, axis = 1)/sigma**3 - d/sigma\n",
    "    return np.sum(gradient, axis = 0)\n",
    "def ica_gradient_A(A, sigma, Y, X):\n",
    "    d, m = Y.shape\n",
    "    N = X.shape[0]\n",
    "    p = X.shape[1]\n",
    "    gradient = np.zeros((m, N, d, p))\n",
    "    for i in range(m):\n",
    "        for j in range(N):\n",
    "            tmp = np.outer((Y[:, i] - np.matmul(A, X[j,:]).T).T, X[j,:])\n",
    "            gradient[i,j,:,:] = np.sign(tmp) * np.exp(np.log(np.abs(tmp)) - np.log(sigma**2))\n",
    "    return np.sum(gradient, axis = 0)"
   ]
  },
  {
   "cell_type": "code",
   "execution_count": 12,
   "id": "a260c3b0",
   "metadata": {},
   "outputs": [],
   "source": [
    "X = np.random.normal(size = (N, p))  # Initial particle cloud."
   ]
  },
  {
   "cell_type": "code",
   "execution_count": 13,
   "id": "12388fe6",
   "metadata": {},
   "outputs": [],
   "source": [
    "for n in range(1, Niter):\n",
    "    # IPLA\n",
    "    sigma[n] = sigma[n-1] + learning_rate_sigma*np.mean(ica_gradient_sigma(A[n-1, :, :], sigma[n-1], Y, X)) + np.sqrt(2*learning_rate_sigma/N)*np.random.normal(0, 1, size = 1)\n",
    "    A[n,:,:] = A[n-1,:,:] + learning_rate_A*np.mean(ica_gradient_A(A[n-1, :, :], sigma[n-1], Y, X), axis = 0) + np.sqrt(2*learning_rate_A/N)*np.random.normal(0, 1, size = (d, p))\n",
    "    X = (X - h*grad_x_ica(sigma[n-1], A[n-1, :, :], X, Y)\n",
    "          + np.sqrt(2*h)*np.random.normal(0, 1, (N, p)))"
   ]
  },
  {
   "cell_type": "code",
   "execution_count": 14,
   "id": "1fa9980e",
   "metadata": {},
   "outputs": [
    {
     "data": {
      "text/plain": [
       "<matplotlib.lines.Line2D at 0x7fa379346eb0>"
      ]
     },
     "execution_count": 14,
     "metadata": {},
     "output_type": "execute_result"
    },
    {
     "data": {
      "image/png": "[encoded data removed]",
      "text/plain": [
       "<Figure size 432x288 with 1 Axes>"
      ]
     },
     "metadata": {
      "needs_background": "light"
     },
     "output_type": "display_data"
    }
   ],
   "source": [
    "plt.plot(sigma)\n",
    "plt.axhline(true_sigma, c='k')"
   ]
  },
  {
   "cell_type": "code",
   "execution_count": 15,
   "id": "939a6d42",
   "metadata": {},
   "outputs": [
    {
     "data": {
      "text/plain": [
       "array([0.22982765, 2.25882558, 2.2687483 , ..., 0.57217418, 0.57183681,\n",
       "       0.57212854])"
      ]
     },
     "execution_count": 15,
     "metadata": {},
     "output_type": "execute_result"
    }
   ],
   "source": [
    "sigma"
   ]
  },
  {
   "cell_type": "code",
   "execution_count": 16,
   "id": "e9f7aa3c",
   "metadata": {},
   "outputs": [],
   "source": [
    "A_md_tmp = np.abs(np.reshape(A[:, :, 0], [Niter, 16, 16]))\n",
    "A_md_tmp2 = np.abs(np.reshape(A[:, :, 1], [Niter, 16, 16]))"
   ]
  },
  {
   "cell_type": "code",
   "execution_count": 17,
   "id": "ef6013e6",
   "metadata": {},
   "outputs": [],
   "source": [
    "for j in range(Niter):\n",
    "    A_md_tmp[j, :, :] = A_md_tmp[j, :, :]/np.max(A_md_tmp[j, :, :])\n",
    "    A_md_tmp2[j, :, :] = A_md_tmp2[j, :, :]/np.max(A_md_tmp2[j, :, :])"
   ]
  },
  {
   "cell_type": "code",
   "execution_count": 18,
   "id": "18794f83",
   "metadata": {},
   "outputs": [],
   "source": [
    "trace_saem = np.trace(A_md_tmp, axis1 = 1, axis2 = 2)\n",
    "trace_saem2 = np.trace(A_md_tmp2, axis1 = 1, axis2 = 2)"
   ]
  },
  {
   "cell_type": "code",
   "execution_count": 19,
   "id": "67d346d9",
   "metadata": {},
   "outputs": [
    {
     "data": {
      "text/plain": [
       "[<matplotlib.lines.Line2D at 0x7fa388135f40>]"
      ]
     },
     "execution_count": 19,
     "metadata": {},
     "output_type": "execute_result"
    },
    {
     "data": {
      "image/png": "[encoded data removed]",
      "text/plain": [
       "<Figure size 432x288 with 1 Axes>"
      ]
     },
     "metadata": {
      "needs_background": "light"
     },
     "output_type": "display_data"
    }
   ],
   "source": [
    "plt.plot(range(Niter), trace_saem, label = 'saem')\n",
    "plt.plot(range(Niter), trace_saem2, label = 'saem')\n",
    "# plt.legend(loc='center right', bbox_to_anchor=(1.5, 0))\n",
    "# plt.savefig('ica_a1_convergence.pdf', bbox_inches=\"tight\")"
   ]
  },
  {
   "cell_type": "code",
   "execution_count": 20,
   "id": "56a90f4d",
   "metadata": {},
   "outputs": [],
   "source": [
    "estimated_a1_md = np.abs(np.reshape(A[Niter-1, :, 0]/np.max(A[Niter-1, :, 0]), [16, 16]))\n",
    "estimated_a2_md = np.abs(np.reshape(A[Niter-1, :, 1]/np.max(A[Niter-1, :, 1]), [16, 16]))"
   ]
  },
  {
   "cell_type": "code",
   "execution_count": 21,
   "id": "0e08855c",
   "metadata": {},
   "outputs": [
    {
     "data": {
      "text/plain": [
       "<matplotlib.image.AxesImage at 0x7fa39b507ac0>"
      ]
     },
     "execution_count": 21,
     "metadata": {},
     "output_type": "execute_result"
    },
    {
     "data": {
      "image/png": "[encoded data removed]",
      "text/plain": [
       "<Figure size 864x288 with 4 Axes>"
      ]
     },
     "metadata": {
      "needs_background": "light"
     },
     "output_type": "display_data"
    }
   ],
   "source": [
    "_, axs = plt.subplots(2, 2, figsize = (12, 4))\n",
    "plt.gray()\n",
    "axs[0,0].imshow(estimated_a1_md)\n",
    "axs[0,1].imshow(a1)\n",
    "axs[1,0].imshow(estimated_a2_md)\n",
    "axs[1,1].imshow(a2)"
   ]
  },
  {
   "cell_type": "code",
   "execution_count": 22,
   "id": "3bb53e9c",
   "metadata": {},
   "outputs": [
    {
     "data": {
      "text/plain": [
       "<matplotlib.collections.PathCollection at 0x7fa379cf6940>"
      ]
     },
     "execution_count": 22,
     "metadata": {},
     "output_type": "execute_result"
    },
    {
     "data": {
      "image/png": "[encoded data removed]",
      "text/plain": [
       "<Figure size 432x288 with 1 Axes>"
      ]
     },
     "metadata": {
      "needs_background": "light"
     },
     "output_type": "display_data"
    }
   ],
   "source": [
    "plt.scatter(X[:, 0], X[:, 1])"
   ]
  }
 ],
 "metadata": {
  "kernelspec": {
   "display_name": "Python 3 (ipykernel)",
   "language": "python",
   "name": "python3"
  },
  "language_info": {
   "codemirror_mode": {
    "name": "ipython",
    "version": 3
   },
   "file_extension": ".py",
   "mimetype": "text/x-python",
   "name": "python",
   "nbconvert_exporter": "python",
   "pygments_lexer": "ipython3",
   "version": "3.9.7"
  }
 },
 "nbformat": 4,
 "nbformat_minor": 5
}

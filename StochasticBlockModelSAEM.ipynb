{
 "cells": [
  {
   "cell_type": "code",
   "execution_count": 1,
   "id": "88b5893c",
   "metadata": {},
   "outputs": [
    {
     "data": {
      "text/plain": [
       "<module 'saem' from '/Users/francescacrucinio/Documents/MD_LVM/saem.py'>"
      ]
     },
     "execution_count": 1,
     "metadata": {},
     "output_type": "execute_result"
    }
   ],
   "source": [
    "# standard libraries\n",
    "import importlib\n",
    "from matplotlib import pyplot as plt\n",
    "import numpy as np\n",
    "from scipy.stats import norm\n",
    "from scipy import linalg, stats, optimize\n",
    "import time\n",
    "import sys\n",
    "sys.path.append('/Users/francescacrucinio/Documents/MD_LVM')\n",
    "\n",
    "# import md_lvm\n",
    "# importlib.reload(md_lvm)\n",
    "import saem\n",
    "importlib.reload(saem)"
   ]
  },
  {
   "cell_type": "code",
   "execution_count": 2,
   "id": "f23de63a",
   "metadata": {},
   "outputs": [],
   "source": [
    "nodes = 100\n",
    "pi = np.array([0.6, 0.4])\n",
    "probs = np.array([[0.25, 0.1], [0.1, 0.2]])"
   ]
  },
  {
   "cell_type": "code",
   "execution_count": 3,
   "id": "c6a424b2",
   "metadata": {},
   "outputs": [],
   "source": [
    "# def sbm_sample(pi, nu, nodes):\n",
    "#     # block allocation\n",
    "#     x = np.random.choice(np.arange(len(pi)), nodes, p=pi)\n",
    "#     # adjacency matrix \n",
    "#     A = np.zeros((nodes, nodes))\n",
    "#     for i in range(nodes):\n",
    "#         A[i, np.delete(np.arange(nodes), i)] = np.random.binomial(1, p = probs[x[i], np.delete(x, i)], size = nodes-1)\n",
    "#     return A, x"
   ]
  },
  {
   "cell_type": "code",
   "execution_count": 4,
   "id": "bc86798b",
   "metadata": {},
   "outputs": [],
   "source": [
    "# y, res_z = sbm_sample(pi, probs, nodes)\n",
    "# # y = np.loadtxt(\"adj.txt\")"
   ]
  },
  {
   "cell_type": "code",
   "execution_count": 5,
   "id": "325366ad",
   "metadata": {},
   "outputs": [],
   "source": [
    "z = np.loadtxt(\"z.txt\")\n",
    "y = np.loadtxt(\"adj.txt\")"
   ]
  },
  {
   "cell_type": "code",
   "execution_count": 6,
   "id": "6a737c54",
   "metadata": {},
   "outputs": [],
   "source": [
    "th0 = np.array([0.5, 0.5, 0.5, 0.5, 0.5])  # Initial parameter guess.\n",
    "X0 = np.random.binomial(1, 0.5, nodes)  # Initial particle cloud."
   ]
  },
  {
   "cell_type": "code",
   "execution_count": 7,
   "id": "b847a6b0",
   "metadata": {},
   "outputs": [],
   "source": [
    "Niter = 500\n",
    "burnin = 50\n",
    "Nrep = 10\n",
    "theta_saem_est = np.zeros((Nrep, 5))\n",
    "ari_saem = np.zeros(Nrep)"
   ]
  },
  {
   "cell_type": "code",
   "execution_count": 8,
   "id": "ece0275f",
   "metadata": {},
   "outputs": [],
   "source": [
    "for j in range(Nrep):\n",
    "    z_iter = np.zeros([Niter, nodes])\n",
    "    s1_iter = np.zeros(Niter)\n",
    "    s2_iter = np.zeros((Niter, 4))\n",
    "    s3_iter = np.zeros((Niter, 4))\n",
    "    theta_saem = np.zeros((Niter, th0.size))\n",
    "    n = 0\n",
    "    z_iter[n, :] =  np.random.binomial(1, 0.5, size = nodes)\n",
    "    theta_saem[n,:] = th0\n",
    "    for n in range(1, Niter):\n",
    "        # SAEM\n",
    "        delta = 1/n\n",
    "#         if (n<= burnin):\n",
    "#             delta = 0.6\n",
    "#         else:\n",
    "#             delta = (n-burnin)**(-0.6)\n",
    "        z_iter[n, :] = saem.sbm_saem_proposal(y, z_iter[n-1, :], theta_saem[n-1,:])\n",
    "        s1_update, s2_update, s3_update = saem.sbm_saem_sufficient_stat(z_iter[n, :], y)\n",
    "        s1_iter[n] = s1_iter[n-1] + delta*(s1_update - s1_iter[n-1])\n",
    "        s2_iter[n, :] = s2_iter[n-1, :] + delta*(s2_update - s2_iter[n-1, :])\n",
    "        s3_iter[n, :] = s3_iter[n-1, :] + delta*(s3_update - s3_iter[n-1, :])\n",
    "        theta_saem[n,:] = saem.sbm_saem_mle(s1_iter[n], s2_iter[n,:], s3_iter[n,:], nodes)\n",
    "    ari_saem[j] = saem.sbm_ari(z-1, z_iter[-1,:])\n",
    "    theta_saem_est[j, :] = theta_saem[-1,:]"
   ]
  },
  {
   "cell_type": "code",
   "execution_count": 9,
   "id": "02f8c8aa",
   "metadata": {},
   "outputs": [
    {
     "data": {
      "text/plain": [
       "array([-0.00848485,  0.24242424,  0.84484848,  0.84484848,  0.37818182,\n",
       "        0.22262626,  0.92080808, -0.00646465,  0.04808081,  0.88242424])"
      ]
     },
     "execution_count": 9,
     "metadata": {},
     "output_type": "execute_result"
    }
   ],
   "source": [
    "ari_saem"
   ]
  },
  {
   "cell_type": "code",
   "execution_count": 10,
   "id": "aa0c599a",
   "metadata": {},
   "outputs": [
    {
     "data": {
      "text/plain": [
       "array([[0.44358717, 0.17865747, 0.17332965, 0.16022701, 0.15593231],\n",
       "       [0.51102204, 0.14893897, 0.16603364, 0.14563703, 0.20501143],\n",
       "       [0.46086172, 0.19798661, 0.11556334, 0.10256717, 0.2407587 ],\n",
       "       [0.4712024 , 0.18989385, 0.11897315, 0.10843229, 0.24082854],\n",
       "       [0.47675351, 0.15272647, 0.16664402, 0.13834961, 0.20087953],\n",
       "       [0.44557114, 0.14261786, 0.16456914, 0.14600664, 0.19761026],\n",
       "       [0.46609218, 0.20171509, 0.11113583, 0.0995918 , 0.24568362],\n",
       "       [0.53140281, 0.15826793, 0.17895635, 0.15349177, 0.17433152],\n",
       "       [0.48102204, 0.14819662, 0.15450596, 0.16488849, 0.19211254],\n",
       "       [0.52378758, 0.2452678 , 0.10272888, 0.11683244, 0.19473088]])"
      ]
     },
     "execution_count": 10,
     "metadata": {},
     "output_type": "execute_result"
    }
   ],
   "source": [
    "theta_saem_est"
   ]
  },
  {
   "cell_type": "code",
   "execution_count": 11,
   "id": "25ccb6a7",
   "metadata": {},
   "outputs": [],
   "source": [
    "rse = np.zeros((Nrep, 5))\n",
    "switched = np.zeros((Nrep))\n",
    "for j in range(Nrep):\n",
    "    _, rse[j, :], switched[j] = saem.se_sbm(theta_saem_est[j], pi, probs)"
   ]
  },
  {
   "cell_type": "code",
   "execution_count": 12,
   "id": "df12d7e8",
   "metadata": {},
   "outputs": [
    {
     "data": {
      "image/png": "[encoded data removed]",
      "text/plain": [
       "<Figure size 432x288 with 1 Axes>"
      ]
     },
     "metadata": {
      "needs_background": "light"
     },
     "output_type": "display_data"
    }
   ],
   "source": [
    "plt.boxplot(rse);\n",
    "plt.yscale('log')"
   ]
  },
  {
   "cell_type": "code",
   "execution_count": 13,
   "id": "9e9bc902",
   "metadata": {},
   "outputs": [
    {
     "data": {
      "text/plain": [
       "0.7"
      ]
     },
     "execution_count": 13,
     "metadata": {},
     "output_type": "execute_result"
    }
   ],
   "source": [
    "np.sum(switched)/Nrep"
   ]
  }
 ],
 "metadata": {
  "kernelspec": {
   "display_name": "Python 3 (ipykernel)",
   "language": "python",
   "name": "python3"
  },
  "language_info": {
   "codemirror_mode": {
    "name": "ipython",
    "version": 3
   },
   "file_extension": ".py",
   "mimetype": "text/x-python",
   "name": "python",
   "nbconvert_exporter": "python",
   "pygments_lexer": "ipython3",
   "version": "3.9.7"
  }
 },
 "nbformat": 4,
 "nbformat_minor": 5
}

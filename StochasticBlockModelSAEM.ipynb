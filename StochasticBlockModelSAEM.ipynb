{
 "cells": [
  {
   "cell_type": "code",
   "execution_count": null,
   "id": "88b5893c",
   "metadata": {},
   "outputs": [],
   "source": [
    "# standard libraries\n",
    "import importlib\n",
    "from matplotlib import pyplot as plt\n",
    "import numpy as np\n",
    "from scipy.stats import norm\n",
    "from scipy import linalg, stats, optimize\n",
    "import time\n",
    "import networkx as nx\n",
    "import sys\n",
    "sys.path.append('/Users/francescacrucinio/Documents/MD_LVM')\n",
    "\n",
    "import md_lvm\n",
    "importlib.reload(md_lvm)"
   ]
  },
  {
   "cell_type": "code",
   "execution_count": null,
   "id": "f23de63a",
   "metadata": {},
   "outputs": [],
   "source": [
    "nodes = 100\n",
    "pi = np.array([0.6, 0.4])\n",
    "probs = np.array([[0.25, 0.1], [0.1, 0.2]])"
   ]
  },
  {
   "cell_type": "code",
   "execution_count": null,
   "id": "c6a424b2",
   "metadata": {},
   "outputs": [],
   "source": [
    "def sbm_sample(pi, nu, nodes):\n",
    "    # block allocation\n",
    "    x = np.random.choice(np.arange(len(pi)), nodes, p=pi)\n",
    "    # adjacency matrix \n",
    "    A = np.zeros((nodes, nodes))\n",
    "    for i in range(nodes):\n",
    "        A[i, np.delete(np.arange(nodes), i)] = np.random.binomial(1, p = probs[x[i], np.delete(x, i)], size = nodes-1)\n",
    "    return A, x"
   ]
  },
  {
   "cell_type": "code",
   "execution_count": null,
   "id": "bc86798b",
   "metadata": {},
   "outputs": [],
   "source": [
    "y, res_z = sbm_sample(pi, probs, nodes)\n",
    "# y = np.loadtxt(\"adj.txt\")"
   ]
  },
  {
   "cell_type": "code",
   "execution_count": null,
   "id": "6a737c54",
   "metadata": {},
   "outputs": [],
   "source": [
    "th0 = np.array([0.5, 0.5, 0.5, 0.5])  # Initial parameter guess.\n",
    "X0 = np.random.binomial(1, 0.5, nodes)+1  # Initial particle cloud."
   ]
  },
  {
   "cell_type": "code",
   "execution_count": null,
   "id": "1e73a02a",
   "metadata": {},
   "outputs": [],
   "source": []
  },
  {
   "cell_type": "code",
   "execution_count": null,
   "id": "17eec216",
   "metadata": {},
   "outputs": [],
   "source": [
    "def sbm_saem_proposal(data, v, theta_current):\n",
    "    N = v.size\n",
    "    prop = 2*np.random.binomial(1, 0.5, N)-1\n",
    "    log_acceptance = ll_sbm(theta_current, prop, data) - ll_sbm(theta_current, v, data)\n",
    "    accepted = np.log(np.random.uniform(size = v.shape[0])) <= log_acceptance\n",
    "    output = v.copy()\n",
    "    output[accepted] = prop[accepted]\n",
    "    return output\n",
    "def sbm_saem_sufficient_stat(v, data):\n",
    "    s1 = np.sum(v == 1)\n",
    "    s2 = np.zeros(3)\n",
    "    s3 = np.zeros(3)\n",
    "    for i in range(N):\n",
    "        for j in range(N):\n",
    "            if(j != i):\n",
    "                if(x[i] == 1):\n",
    "                    if(x[j] == 1):\n",
    "                        s2[0] += y[i,j] + y[j,i]\n",
    "                        s3[0] += (1-y[i,j]) + (1-y[j,i])\n",
    "                    if(x[j] == 2):\n",
    "                        s2[1] += y[i,j] + y[j,i]\n",
    "                        s3[1] += (1-y[i,j]) + (1-y[j,i])\n",
    "                if(x[i] == 2):\n",
    "                    if(x[j] == 1):\n",
    "                        s2[1] += y[i,j] + y[j,i]\n",
    "                        s3[1] += (1-y[i,j]) + (1-y[j,i])\n",
    "                    if(x[j] == 2):\n",
    "                        s2[2] += y[i,j] + y[j,i]\n",
    "                        s3[2] += (1-y[i,j]) + (1-y[j,i])\n",
    "    return s1, s2, s3\n",
    "def sbm_saem_mle(s1, s2, s3, N):\n",
    "    pq = s1/N\n",
    "    nu = s2/(s2+s3)\n",
    "    return pq, nu"
   ]
  }
 ],
 "metadata": {
  "kernelspec": {
   "display_name": "Python 3 (ipykernel)",
   "language": "python",
   "name": "python3"
  },
  "language_info": {
   "codemirror_mode": {
    "name": "ipython",
    "version": 3
   },
   "file_extension": ".py",
   "mimetype": "text/x-python",
   "name": "python",
   "nbconvert_exporter": "python",
   "pygments_lexer": "ipython3",
   "version": "3.9.7"
  }
 },
 "nbformat": 4,
 "nbformat_minor": 5
}

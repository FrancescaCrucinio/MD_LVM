{
 "cells": [
  {
   "cell_type": "code",
   "execution_count": 68,
   "id": "88b5893c",
   "metadata": {},
   "outputs": [
    {
     "data": {
      "text/plain": [
       "<module 'saem' from '/Users/francescacrucinio/Documents/MD_LVM/saem.py'>"
      ]
     },
     "execution_count": 68,
     "metadata": {},
     "output_type": "execute_result"
    }
   ],
   "source": [
    "# standard libraries\n",
    "import importlib\n",
    "from matplotlib import pyplot as plt\n",
    "import numpy as np\n",
    "from scipy.stats import norm\n",
    "from scipy import linalg, stats, optimize\n",
    "import time\n",
    "import sys\n",
    "sys.path.append('/Users/francescacrucinio/Documents/MD_LVM')\n",
    "\n",
    "# import md_lvm\n",
    "# importlib.reload(md_lvm)\n",
    "import saem\n",
    "importlib.reload(saem)"
   ]
  },
  {
   "cell_type": "code",
   "execution_count": 2,
   "id": "f23de63a",
   "metadata": {},
   "outputs": [],
   "source": [
    "nodes = 100\n",
    "pi = np.array([0.6, 0.4])\n",
    "probs = np.array([[0.25, 0.1], [0.1, 0.2]])"
   ]
  },
  {
   "cell_type": "code",
   "execution_count": 3,
   "id": "c6a424b2",
   "metadata": {},
   "outputs": [],
   "source": [
    "# def sbm_sample(pi, nu, nodes):\n",
    "#     # block allocation\n",
    "#     x = np.random.choice(np.arange(len(pi)), nodes, p=pi)\n",
    "#     # adjacency matrix \n",
    "#     A = np.zeros((nodes, nodes))\n",
    "#     for i in range(nodes):\n",
    "#         A[i, np.delete(np.arange(nodes), i)] = np.random.binomial(1, p = probs[x[i], np.delete(x, i)], size = nodes-1)\n",
    "#     return A, x"
   ]
  },
  {
   "cell_type": "code",
   "execution_count": 4,
   "id": "bc86798b",
   "metadata": {},
   "outputs": [],
   "source": [
    "# y, res_z = sbm_sample(pi, probs, nodes)\n",
    "# # y = np.loadtxt(\"adj.txt\")"
   ]
  },
  {
   "cell_type": "code",
   "execution_count": 5,
   "id": "325366ad",
   "metadata": {},
   "outputs": [],
   "source": [
    "z = np.loadtxt(\"z.txt\")\n",
    "y = np.loadtxt(\"adj.txt\")"
   ]
  },
  {
   "cell_type": "code",
   "execution_count": 6,
   "id": "6a737c54",
   "metadata": {},
   "outputs": [],
   "source": [
    "th0 = np.array([0.5, 0.5, 0.5, 0.5, 0.5])  # Initial parameter guess.\n",
    "X0 = np.random.binomial(1, 0.5, nodes)  # Initial particle cloud."
   ]
  },
  {
   "cell_type": "code",
   "execution_count": 17,
   "id": "b847a6b0",
   "metadata": {},
   "outputs": [],
   "source": [
    "Niter = 1000\n",
    "Nrep = 10\n",
    "theta_saem_est = np.zeros((Nrep, 5))\n",
    "ari_saem = np.zeros(Nrep)"
   ]
  },
  {
   "cell_type": "code",
   "execution_count": 18,
   "id": "83c95671",
   "metadata": {},
   "outputs": [],
   "source": [
    "for j in range(Nrep):\n",
    "    z_iter = np.zeros([Niter, nodes])\n",
    "    s1_iter = np.zeros(Niter)\n",
    "    s2_iter = np.zeros((Niter, 4))\n",
    "    s3_iter = np.zeros((Niter, 4))\n",
    "    theta_saem = np.zeros((Niter, th0.size))\n",
    "    n = 0\n",
    "    z_iter[n, :] =  np.random.binomial(1, 0.5, size = nodes)\n",
    "    theta_saem[n,:] = th0\n",
    "    for n in range(1, Niter):\n",
    "        # SAEM\n",
    "        delta = 1/n\n",
    "        z_iter[n, :] = saem.sbm_saem_proposal(y, z_iter[n-1, :], theta_saem[n-1,:])\n",
    "        s1_update, s2_update, s3_update = saem.sbm_saem_sufficient_stat(z_iter[n, :], y)\n",
    "        s1_iter[n] = s1_iter[n-1] + delta*(s1_update - s1_iter[n-1])\n",
    "        s2_iter[n, :] = s2_iter[n-1, :] + delta*(s2_update - s2_iter[n-1, :])\n",
    "        s3_iter[n, :] = s3_iter[n-1, :] + delta*(s3_update - s3_iter[n-1, :])\n",
    "        theta_saem[n,:] = saem.sbm_saem_mle(s1_iter[n], s2_iter[n,:], s3_iter[n,:], nodes)\n",
    "    ari_saem[j] = saem.sbm_ari(z-1, z_iter[-1,:])\n",
    "    theta_saem_est[j, :] = theta_saem[-1,:]"
   ]
  },
  {
   "cell_type": "code",
   "execution_count": 23,
   "id": "02f8c8aa",
   "metadata": {},
   "outputs": [
    {
     "data": {
      "text/plain": [
       "array([0.80808081, 0.04808081, 0.88242424, 0.08080808, 0.15151515,\n",
       "       0.84484848, 0.12080808, 0.88242424, 0.00969697, 0.96      ])"
      ]
     },
     "execution_count": 23,
     "metadata": {},
     "output_type": "execute_result"
    }
   ],
   "source": [
    "ari_saem"
   ]
  },
  {
   "cell_type": "code",
   "execution_count": 24,
   "id": "aa0c599a",
   "metadata": {},
   "outputs": [
    {
     "data": {
      "text/plain": [
       "array([[0.52235235, 0.24241188, 0.10659667, 0.12017847, 0.19033174],\n",
       "       [0.49735736, 0.18700613, 0.14722124, 0.17804002, 0.1511663 ],\n",
       "       [0.55057057, 0.21835847, 0.12052075, 0.14070427, 0.17368625],\n",
       "       [0.48401401, 0.14933016, 0.17290801, 0.15234367, 0.18609802],\n",
       "       [0.56907908, 0.18926306, 0.14409372, 0.17033759, 0.14737406],\n",
       "       [0.45630631, 0.2080211 , 0.10708965, 0.09697439, 0.24485372],\n",
       "       [0.39755756, 0.14666264, 0.15117898, 0.15415886, 0.19140725],\n",
       "       [0.48063063, 0.25297526, 0.10732535, 0.12272601, 0.18395738],\n",
       "       [0.47236236, 0.16522785, 0.16526526, 0.16594903, 0.1664516 ],\n",
       "       [0.53028028, 0.2470789 , 0.09866461, 0.11164198, 0.20137115]])"
      ]
     },
     "execution_count": 24,
     "metadata": {},
     "output_type": "execute_result"
    }
   ],
   "source": [
    "theta_saem_est"
   ]
  },
  {
   "cell_type": "code",
   "execution_count": 69,
   "id": "9431643a",
   "metadata": {},
   "outputs": [],
   "source": [
    "rse = np.zeros((Nrep, 5))\n",
    "for j in range(Nrep):\n",
    "    _, rse[j, :] = saem.se_sbm(theta_saem_est[j], pi, probs)"
   ]
  },
  {
   "cell_type": "code",
   "execution_count": 70,
   "id": "802ff551",
   "metadata": {},
   "outputs": [
    {
     "data": {
      "image/png": "[encoded data removed]",
      "text/plain": [
       "<Figure size 432x288 with 1 Axes>"
      ]
     },
     "metadata": {
      "needs_background": "light"
     },
     "output_type": "display_data"
    }
   ],
   "source": [
    "plt.boxplot(rse);"
   ]
  }
 ],
 "metadata": {
  "kernelspec": {
   "display_name": "Python 3 (ipykernel)",
   "language": "python",
   "name": "python3"
  },
  "language_info": {
   "codemirror_mode": {
    "name": "ipython",
    "version": 3
   },
   "file_extension": ".py",
   "mimetype": "text/x-python",
   "name": "python",
   "nbconvert_exporter": "python",
   "pygments_lexer": "ipython3",
   "version": "3.9.7"
  }
 },
 "nbformat": 4,
 "nbformat_minor": 5
}

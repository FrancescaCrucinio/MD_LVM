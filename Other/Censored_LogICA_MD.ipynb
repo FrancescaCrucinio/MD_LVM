{
 "cells": [
  {
   "cell_type": "code",
   "execution_count": 1,
   "id": "9e78b13e",
   "metadata": {},
   "outputs": [
    {
     "data": {
      "text/plain": [
       "<module 'md_lvm' from '/Users/francescacrucinio/Documents/MD_LVM/md_lvm.py'>"
      ]
     },
     "execution_count": 1,
     "metadata": {},
     "output_type": "execute_result"
    }
   ],
   "source": [
    "import importlib\n",
    "import numpy as np \n",
    "import math, scipy\n",
    "from scipy.stats import multivariate_normal, geom, logistic\n",
    "import matplotlib.pyplot as plt\n",
    "import sys\n",
    "\n",
    "sys.path.append('/Users/francescacrucinio/Documents/MD_LVM')\n",
    "\n",
    "# modules from particles\n",
    "import particles  # core module\n",
    "from particles import smc_samplers as ssp\n",
    "from particles import distributions as dists  # where probability distributions are defined\n",
    "from particles import resampling as rs\n",
    "\n",
    "import md_lvm\n",
    "import ica\n",
    "importlib.reload(ica)\n",
    "importlib.reload(md_lvm)"
   ]
  },
  {
   "cell_type": "code",
   "execution_count": 2,
   "id": "432973ba",
   "metadata": {},
   "outputs": [],
   "source": [
    "Y = np.loadtxt(\"censored_ica_data100.txt\")"
   ]
  },
  {
   "cell_type": "code",
   "execution_count": 3,
   "id": "a65ca83c",
   "metadata": {},
   "outputs": [],
   "source": [
    "d = Y.shape[0]\n",
    "ndata = Y.shape[1]\n",
    "p = 2"
   ]
  },
  {
   "cell_type": "code",
   "execution_count": 4,
   "id": "4d28dc90",
   "metadata": {},
   "outputs": [
    {
     "data": {
      "text/plain": [
       "100"
      ]
     },
     "execution_count": 4,
     "metadata": {},
     "output_type": "execute_result"
    }
   ],
   "source": [
    "Y.shape[1]"
   ]
  },
  {
   "cell_type": "code",
   "execution_count": 5,
   "id": "17aece04",
   "metadata": {},
   "outputs": [],
   "source": [
    "tmp = np.loadtxt(\"ica_truth.txt\")\n",
    "true_A = tmp[:d, :]\n",
    "true_sigma = tmp[d, 0]\n",
    "alpha = 0.8\n",
    "a1 = np.abs(np.reshape(true_A[:, 0], [16, 16]))\n",
    "a2 = np.abs(np.reshape(true_A[:, 1], [16, 16]))"
   ]
  },
  {
   "cell_type": "code",
   "execution_count": 6,
   "id": "2c71df80",
   "metadata": {},
   "outputs": [],
   "source": [
    "sigma0 = np.random.uniform(size = 1)\n",
    "A0 = np.reshape(np.random.uniform(size = d*p), [d, p])\n",
    "alpha = 0.8"
   ]
  },
  {
   "cell_type": "code",
   "execution_count": 7,
   "id": "e100e750",
   "metadata": {},
   "outputs": [],
   "source": [
    "N = Y.shape[1]\n",
    "Niter = 5000\n",
    "learning_rate_sigma = 0.0001\n",
    "learning_rate_A = 0.0001\n",
    "gamma = 0.00001\n",
    "\n",
    "X0 = np.random.uniform(size = (N, p))"
   ]
  },
  {
   "cell_type": "code",
   "execution_count": 8,
   "id": "b26be82c",
   "metadata": {},
   "outputs": [],
   "source": [
    "A_md = np.zeros((Niter, d, p))\n",
    "sigma_md = np.zeros((Niter))\n",
    "\n",
    "A_md[0,:,:] = A0\n",
    "sigma_md[0] = sigma0\n",
    "\n",
    "x = np.zeros((Niter, N, p))\n",
    "x[0, :, :] = X0\n",
    "W = np.ones(N)/N"
   ]
  },
  {
   "cell_type": "code",
   "execution_count": 9,
   "id": "fc8219db",
   "metadata": {},
   "outputs": [],
   "source": [
    "# A_md, sigma_md, x, W = md_lvm.md_ica_fast(Y, gamma, Niter, N, A0, sigma0, X0, alpha)"
   ]
  },
  {
   "cell_type": "code",
   "execution_count": 10,
   "id": "04ef8447",
   "metadata": {},
   "outputs": [
    {
     "name": "stderr",
     "output_type": "stream",
     "text": [
      "/Users/francescacrucinio/Documents/MD_LVM/md_lvm.py:273: RuntimeWarning: divide by zero encountered in log\n",
      "  loglikelihood[i] = -0.5*d*np.log(2*np.pi*sigma**2)-0.5*np.sum((y[:,i] - np.matmul(A, x[i,:]))**2, axis = 0)/sigma**2 + prior\n",
      "/Users/francescacrucinio/Documents/MD_LVM/md_lvm.py:273: RuntimeWarning: divide by zero encountered in double_scalars\n",
      "  loglikelihood[i] = -0.5*d*np.log(2*np.pi*sigma**2)-0.5*np.sum((y[:,i] - np.matmul(A, x[i,:]))**2, axis = 0)/sigma**2 + prior\n",
      "/Users/francescacrucinio/Documents/MD_LVM/md_lvm.py:273: RuntimeWarning: invalid value encountered in double_scalars\n",
      "  loglikelihood[i] = -0.5*d*np.log(2*np.pi*sigma**2)-0.5*np.sum((y[:,i] - np.matmul(A, x[i,:]))**2, axis = 0)/sigma**2 + prior\n"
     ]
    }
   ],
   "source": [
    "for n in range(1, Niter):\n",
    "    gradient_sigma = np.zeros((N))\n",
    "    gradient_A = np.zeros((N, d, p))\n",
    "    for i in range(N):\n",
    "        gradient_sigma[i] =ica.logICA_gradient_sigma(A_md[n-1, :, :], sigma_md[n-1], Y[:,i], x[n-1,i,:])\n",
    "        gradient_A[i,:,:] =ica.logICA_gradient_A(A_md[n-1, :, :], sigma_md[n-1], Y[:,i], x[n-1,i,:])    \n",
    "    sigma_md[n] = sigma_md[n-1] + learning_rate_sigma*np.sum(gradient_sigma*W)\n",
    "    A_md[n, :, :] = A_md[n-1, :, :] + learning_rate_A*np.sum(gradient_A.T*W, axis = 2).T\n",
    "    if (n > 1):\n",
    "        # resample\n",
    "        ancestors = rs.resampling('stratified', W)\n",
    "        x[n-1, :, :] = x[n-1, ancestors, :]\n",
    "    # MCMC move\n",
    "    prop = md_lvm.rwm_proposal(x[n-1, :, :], W)\n",
    "    x[n, :, :] = md_lvm.rwm_accept_ica_fast(x[n-1, :, :], prop, sigma_md[n-2], A_md[n-2, :, :], alpha, gamma, Y, n-1)\n",
    "    # reweight\n",
    "    logW = (1-(1-gamma)**n)*md_lvm.ll_ica(sigma_md[n-1], A_md[n-1, :, :], x[n, :, :], alpha, Y) + 0.5*gamma*(1-gamma)**(n-1)*np.sum(x[n, :, :]**2, axis = 1)\n",
    "    if(n>1):\n",
    "        logW = logW - (1-(1-gamma)**(n-1))*md_lvm.ll_ica(sigma_md[n-2], A_md[n-2, :, :], x[n, :, :], alpha, Y) \n",
    "    W = rs.exp_and_normalise(logW)"
   ]
  },
  {
   "cell_type": "code",
   "execution_count": 11,
   "id": "e42780c6",
   "metadata": {},
   "outputs": [
    {
     "data": {
      "text/plain": [
       "<matplotlib.lines.Line2D at 0x7f8b53115b50>"
      ]
     },
     "execution_count": 11,
     "metadata": {},
     "output_type": "execute_result"
    },
    {
     "data": {
      "image/png": "[encoded data removed]",
      "text/plain": [
       "<Figure size 432x288 with 1 Axes>"
      ]
     },
     "metadata": {
      "needs_background": "light"
     },
     "output_type": "display_data"
    }
   ],
   "source": [
    "plt.plot(sigma_md)\n",
    "plt.axhline(true_sigma, c='k')"
   ]
  },
  {
   "cell_type": "code",
   "execution_count": 12,
   "id": "d6af8acc",
   "metadata": {},
   "outputs": [],
   "source": [
    "A_md_tmp = np.abs(np.reshape(A_md[:, :, 0], [Niter, 16, 16]))\n",
    "A_md_tmp2 = np.abs(np.reshape(A_md[:, :, 1], [Niter, 16, 16]))"
   ]
  },
  {
   "cell_type": "code",
   "execution_count": 13,
   "id": "5390c3ff",
   "metadata": {},
   "outputs": [],
   "source": [
    "for j in range(Niter):\n",
    "    A_md_tmp[j, :, :] = A_md_tmp[j, :, :]/np.max(A_md_tmp[j, :, :])\n",
    "    A_md_tmp2[j, :, :] = A_md_tmp2[j, :, :]/np.max(A_md_tmp2[j, :, :])"
   ]
  },
  {
   "cell_type": "code",
   "execution_count": 14,
   "id": "71e2803b",
   "metadata": {},
   "outputs": [],
   "source": [
    "trace_saem = np.trace(A_md_tmp, axis1 = 1, axis2 = 2)\n",
    "trace_saem2 = np.trace(A_md_tmp2, axis1 = 1, axis2 = 2)"
   ]
  },
  {
   "cell_type": "code",
   "execution_count": 15,
   "id": "66dcb8d6",
   "metadata": {},
   "outputs": [
    {
     "data": {
      "text/plain": [
       "[<matplotlib.lines.Line2D at 0x7f8b61d3c8b0>]"
      ]
     },
     "execution_count": 15,
     "metadata": {},
     "output_type": "execute_result"
    },
    {
     "data": {
      "image/png": "[encoded data removed]",
      "text/plain": [
       "<Figure size 432x288 with 1 Axes>"
      ]
     },
     "metadata": {
      "needs_background": "light"
     },
     "output_type": "display_data"
    }
   ],
   "source": [
    "plt.plot(range(Niter), trace_saem, label = 'saem')\n",
    "plt.plot(range(Niter), trace_saem2, label = 'saem')\n",
    "# plt.legend(loc='center right', bbox_to_anchor=(1.5, 0))\n",
    "# plt.savefig('ica_a1_convergence.pdf', bbox_inches=\"tight\")"
   ]
  },
  {
   "cell_type": "code",
   "execution_count": 16,
   "id": "411a100c",
   "metadata": {},
   "outputs": [],
   "source": [
    "estimated_a1_md = np.abs(np.reshape(A_md[Niter-1, :, 0]/np.max(A_md[Niter-1, :, 0]), [16, 16]))\n",
    "estimated_a2_md = np.abs(np.reshape(A_md[Niter-1, :, 1]/np.max(A_md[Niter-1, :, 1]), [16, 16]))"
   ]
  },
  {
   "cell_type": "code",
   "execution_count": 17,
   "id": "39e09900",
   "metadata": {},
   "outputs": [
    {
     "data": {
      "text/plain": [
       "<matplotlib.image.AxesImage at 0x7f8b61ed9370>"
      ]
     },
     "execution_count": 17,
     "metadata": {},
     "output_type": "execute_result"
    },
    {
     "data": {
      "image/png": "[encoded data removed]",
      "text/plain": [
       "<Figure size 864x288 with 4 Axes>"
      ]
     },
     "metadata": {
      "needs_background": "light"
     },
     "output_type": "display_data"
    }
   ],
   "source": [
    "_, axs = plt.subplots(2, 2, figsize = (12, 4))\n",
    "plt.gray()\n",
    "axs[0,0].imshow(estimated_a1_md)\n",
    "axs[0,1].imshow(a1)\n",
    "axs[1,0].imshow(estimated_a2_md)\n",
    "axs[1,1].imshow(a2)"
   ]
  },
  {
   "cell_type": "code",
   "execution_count": 18,
   "id": "fc3decfd",
   "metadata": {},
   "outputs": [
    {
     "data": {
      "text/plain": [
       "<matplotlib.collections.PathCollection at 0x7f8b53959fa0>"
      ]
     },
     "execution_count": 18,
     "metadata": {},
     "output_type": "execute_result"
    },
    {
     "data": {
      "image/png": "[encoded data removed]",
      "text/plain": [
       "<Figure size 432x288 with 1 Axes>"
      ]
     },
     "metadata": {
      "needs_background": "light"
     },
     "output_type": "display_data"
    }
   ],
   "source": [
    "plt.scatter(x[Niter-1, :, 0], x[Niter-1,:, 1])"
   ]
  }
 ],
 "metadata": {
  "kernelspec": {
   "display_name": "Python 3 (ipykernel)",
   "language": "python",
   "name": "python3"
  },
  "language_info": {
   "codemirror_mode": {
    "name": "ipython",
    "version": 3
   },
   "file_extension": ".py",
   "mimetype": "text/x-python",
   "name": "python",
   "nbconvert_exporter": "python",
   "pygments_lexer": "ipython3",
   "version": "3.9.7"
  }
 },
 "nbformat": 4,
 "nbformat_minor": 5
}

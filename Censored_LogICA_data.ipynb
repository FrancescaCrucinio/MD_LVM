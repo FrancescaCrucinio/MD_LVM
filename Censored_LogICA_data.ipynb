{
 "cells": [
  {
   "cell_type": "markdown",
   "id": "a344a5c6",
   "metadata": {},
   "source": [
    " # Probabilistic ICA -- data\n",
    " The model we consider is the censored Log-ICA."
   ]
  },
  {
   "cell_type": "code",
   "execution_count": 1,
   "id": "6c5d3163",
   "metadata": {},
   "outputs": [],
   "source": [
    "import numpy as np \n",
    "import math, scipy\n",
    "from scipy.stats import multivariate_normal, geom\n",
    "import matplotlib.pyplot as plt"
   ]
  },
  {
   "cell_type": "code",
   "execution_count": 2,
   "id": "42fda411",
   "metadata": {},
   "outputs": [],
   "source": [
    "p = 2"
   ]
  },
  {
   "cell_type": "code",
   "execution_count": 3,
   "id": "2c06ab7e",
   "metadata": {},
   "outputs": [],
   "source": [
    "pixels = 16\n",
    "d = pixels**2\n",
    "a1 = np.zeros([pixels, pixels])\n",
    "a1[10:15, 10:15] = 1\n",
    "a2 = np.zeros([pixels, pixels])\n",
    "a2[1:9, 1:9] = 1\n",
    "a2[1:3, 1:3] = 0\n",
    "a2[7:9, 7:9] = 0\n",
    "a2[1:3, 7:9] = 0\n",
    "a2[7:9, 1:3] = 0"
   ]
  },
  {
   "cell_type": "code",
   "execution_count": 4,
   "id": "9cd7c09f",
   "metadata": {},
   "outputs": [
    {
     "data": {
      "image/png": "[encoded data removed]",
      "text/plain": [
       "<Figure size 432x288 with 1 Axes>"
      ]
     },
     "metadata": {
      "needs_background": "light"
     },
     "output_type": "display_data"
    },
    {
     "data": {
      "image/png": "[encoded data removed]",
      "text/plain": [
       "<Figure size 432x288 with 1 Axes>"
      ]
     },
     "metadata": {
      "needs_background": "light"
     },
     "output_type": "display_data"
    }
   ],
   "source": [
    "plt.gray()\n",
    "plt.axis('off')\n",
    "plt.imshow(a1)\n",
    "# plt.savefig('a1.pdf', bbox_inches=\"tight\")\n",
    "plt.show()\n",
    "plt.imshow(a2)\n",
    "plt.axis('off')\n",
    "# plt.savefig('a2.pdf', bbox_inches=\"tight\")\n",
    "plt.show()"
   ]
  },
  {
   "cell_type": "code",
   "execution_count": 5,
   "id": "74984660",
   "metadata": {},
   "outputs": [],
   "source": [
    "A = np.transpose(np.array([a1.flatten(), a2.flatten()]))\n",
    "sigma = 0.5\n",
    "alpha = 0.8\n",
    "mu = 0.0*np.ones(d)"
   ]
  },
  {
   "cell_type": "code",
   "execution_count": 6,
   "id": "511a3f95",
   "metadata": {},
   "outputs": [],
   "source": [
    "ndata = 10\n",
    "y = np.zeros([d, ndata])\n",
    "for n in range(ndata):\n",
    "    b = np.random.binomial(1, alpha, size = p)\n",
    "    beta = np.random.logistic(scale = 1/2, size = p)\n",
    "    z = b*beta\n",
    "    y[:, n] = mu + np.matmul(z, A.T) + np.random.multivariate_normal(np.zeros(d), sigma**2*np.identity(d), 1)"
   ]
  },
  {
   "cell_type": "code",
   "execution_count": 7,
   "id": "c91aed26",
   "metadata": {},
   "outputs": [],
   "source": [
    "y_tmp = np.matrix(y)\n",
    "parameters = np.matrix(A)\n",
    "parameters = np.vstack([parameters, [sigma, sigma]])\n",
    "# parameters = np.vstack([parameters, [sigma, sigma]])"
   ]
  },
  {
   "cell_type": "code",
   "execution_count": 8,
   "id": "f4f2a3c8",
   "metadata": {},
   "outputs": [],
   "source": [
    "with open('censored_ica_data100.txt','wb') as f:\n",
    "    for line in y_tmp:\n",
    "        np.savetxt(f, line)"
   ]
  },
  {
   "cell_type": "code",
   "execution_count": 9,
   "id": "4af50632",
   "metadata": {},
   "outputs": [],
   "source": [
    "with open('ica_truth.txt','wb') as f:\n",
    "    for line in parameters:\n",
    "        np.savetxt(f, line)"
   ]
  }
 ],
 "metadata": {
  "kernelspec": {
   "display_name": "Python 3 (ipykernel)",
   "language": "python",
   "name": "python3"
  },
  "language_info": {
   "codemirror_mode": {
    "name": "ipython",
    "version": 3
   },
   "file_extension": ".py",
   "mimetype": "text/x-python",
   "name": "python",
   "nbconvert_exporter": "python",
   "pygments_lexer": "ipython3",
   "version": "3.9.7"
  }
 },
 "nbformat": 4,
 "nbformat_minor": 5
}

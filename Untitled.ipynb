{
 "cells": [
  {
   "cell_type": "code",
   "execution_count": 1,
   "id": "a4ae214e",
   "metadata": {},
   "outputs": [],
   "source": [
    "import numpy as np\n",
    "from scipy import stats\n",
    "from matplotlib import pyplot as plt"
   ]
  },
  {
   "cell_type": "code",
   "execution_count": 2,
   "id": "ad09bff4",
   "metadata": {},
   "outputs": [],
   "source": [
    "theta = 1"
   ]
  },
  {
   "cell_type": "code",
   "execution_count": 74,
   "id": "ed5a60e8",
   "metadata": {},
   "outputs": [],
   "source": [
    "beta = 10\n",
    "alpha = 0.5"
   ]
  },
  {
   "cell_type": "code",
   "execution_count": 75,
   "id": "42834d9d",
   "metadata": {},
   "outputs": [],
   "source": [
    "x_data = np.random.normal(loc = theta)\n",
    "mixture_component = np.random.binomial(1, alpha)\n",
    "y_data = mixture_component*np.random.normal(loc = x_data, scale = 1) + (1-mixture_component)*np.random.normal(loc = beta*x_data)"
   ]
  },
  {
   "cell_type": "code",
   "execution_count": 76,
   "id": "0c3f27ea",
   "metadata": {},
   "outputs": [],
   "source": [
    "def posterior(y, x, theta):\n",
    "    prior = stats.norm.pdf(x, loc = theta, scale = 1)\n",
    "    joint_likelihood = alpha*stats.norm.pdf(x, loc = y, scale = 1)+(1-alpha)*stats.norm.pdf(y, loc = beta*x, scale = 1)\n",
    "    return prior*joint_likelihood"
   ]
  },
  {
   "cell_type": "code",
   "execution_count": 77,
   "id": "0cc527ef",
   "metadata": {},
   "outputs": [],
   "source": [
    "x = np.linspace(-10, 10, num = 100)"
   ]
  },
  {
   "cell_type": "code",
   "execution_count": 78,
   "id": "bd8c1d9a",
   "metadata": {},
   "outputs": [
    {
     "data": {
      "text/plain": [
       "[<matplotlib.lines.Line2D at 0x7fed69f478b0>]"
      ]
     },
     "execution_count": 78,
     "metadata": {},
     "output_type": "execute_result"
    },
    {
     "data": {
      "image/png": "[encoded data removed]",
      "text/plain": [
       "<Figure size 432x288 with 1 Axes>"
      ]
     },
     "metadata": {
      "needs_background": "light"
     },
     "output_type": "display_data"
    }
   ],
   "source": [
    "plt.plot(x, posterior(y_data, x, theta))"
   ]
  },
  {
   "cell_type": "code",
   "execution_count": 79,
   "id": "a9f118c1",
   "metadata": {},
   "outputs": [
    {
     "data": {
      "text/plain": [
       "9.578437956264164"
      ]
     },
     "execution_count": 79,
     "metadata": {},
     "output_type": "execute_result"
    }
   ],
   "source": [
    "y_data"
   ]
  }
 ],
 "metadata": {
  "kernelspec": {
   "display_name": "Python 3 (ipykernel)",
   "language": "python",
   "name": "python3"
  },
  "language_info": {
   "codemirror_mode": {
    "name": "ipython",
    "version": 3
   },
   "file_extension": ".py",
   "mimetype": "text/x-python",
   "name": "python",
   "nbconvert_exporter": "python",
   "pygments_lexer": "ipython3",
   "version": "3.9.7"
  }
 },
 "nbformat": 4,
 "nbformat_minor": 5
}

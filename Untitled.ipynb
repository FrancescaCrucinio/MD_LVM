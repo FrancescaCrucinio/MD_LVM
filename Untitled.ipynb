{
 "cells": [
  {
   "cell_type": "code",
   "execution_count": 1,
   "id": "a4ae214e",
   "metadata": {},
   "outputs": [],
   "source": [
    "import numpy as np\n",
    "from scipy import stats\n",
    "from matplotlib import pyplot as plt"
   ]
  },
  {
   "cell_type": "code",
   "execution_count": 2,
   "id": "b861dd00",
   "metadata": {},
   "outputs": [],
   "source": [
    "y = np.array([-20, 1, 2, 3])\n",
    "ndata = y.size"
   ]
  },
  {
   "cell_type": "code",
   "execution_count": 3,
   "id": "adbdc73c",
   "metadata": {},
   "outputs": [],
   "source": [
    "true_theta = 1.997"
   ]
  },
  {
   "cell_type": "code",
   "execution_count": 4,
   "id": "9aa6a77b",
   "metadata": {},
   "outputs": [],
   "source": [
    "def pgd(y, h, K, N, th0, X):\n",
    "    \"\"\"Particle Gradient Ascent Algorithm. Returns parameter estimates.\"\"\"\n",
    "    D = y.size  # Extract dimension of latent variables.\n",
    "    th = np.zeros(K)\n",
    "    th[0] = th0\n",
    "    for k in range(K-1):\n",
    "        # Update parameter estimate:\n",
    "        th[k+1] = th[k] + h*ave_grad_th(th[k], X, y)\n",
    "        # Update particle cloud:\n",
    "        X = (X + h*grad_x(th[k], X, y)\n",
    "               + np.sqrt(2*h)*np.random.normal(0, 1, (N, D)))\n",
    "    return th, X\n",
    "\n",
    "def ipla(y, h, K, N, th, X):\n",
    "    \"\"\"Particle Gradient Ascent Algorithm. Returns parameter estimates.\"\"\"\n",
    "    D = y.size  # Extract dimension of latent variables.\n",
    "    th = np.zeros(K)\n",
    "    th[0] = th0\n",
    "    for k in range(K-1):\n",
    "        # Update parameter estimate:\n",
    "        th[k+1] = th[k] + h*ave_grad_th(th[k], X, y)+ np.sqrt(2*h/N)*np.random.normal(0, 1, size = 1)\n",
    "        # Update particle cloud:\n",
    "        X = (X + h*grad_x(th[k], X, y)\n",
    "               + np.sqrt(2*h)*np.random.normal(0, 1, (N, D)))\n",
    "    return th, X"
   ]
  },
  {
   "cell_type": "code",
   "execution_count": 5,
   "id": "6f5768c7",
   "metadata": {},
   "outputs": [],
   "source": [
    "def ave_grad_th(th, x, y):\n",
    "    \"\"\"Returns theta-gradient of log density averaged over particle cloud.\"\"\"\n",
    "#     grad_theta = np.sum(y-th)*np.mean(x)\n",
    "    grad_theta = np.mean(np.sum(x*(y-th), axis = 1))\n",
    "    return grad_theta\n",
    "def grad_x(th, x, y):\n",
    "    \"\"\"Returns x-gradient of log density vectorized over particles.\"\"\"\n",
    "#     grad = 0.475/x + 0.025 +0.5*np.sum(y-th)\n",
    "    grad = 0.475/x+0.025+0.5*(y-th)**2\n",
    "    return grad"
   ]
  },
  {
   "cell_type": "code",
   "execution_count": 11,
   "id": "62e69d5d",
   "metadata": {},
   "outputs": [],
   "source": [
    "N = 10\n",
    "K = 1000\n",
    "gamma = 0.0005\n",
    "\n",
    "th0 = np.array(0)  # Initial parameter guess.\n",
    "X0 = np.random.gamma(size = (N, ndata), shape = 1)  # Initial particle cloud."
   ]
  },
  {
   "cell_type": "code",
   "execution_count": 8,
   "id": "67fca7c3",
   "metadata": {},
   "outputs": [],
   "source": [
    "th_pgd, X_pgd = pgd(y, gamma, K, N, th0, X0)\n",
    "th_ipla, X_ipla = ipla(y, gamma, K, N, th0, X0)"
   ]
  },
  {
   "cell_type": "code",
   "execution_count": 9,
   "id": "4d0009ac",
   "metadata": {},
   "outputs": [
    {
     "data": {
      "text/plain": [
       "[<matplotlib.lines.Line2D at 0x7fe1195a5e80>]"
      ]
     },
     "execution_count": 9,
     "metadata": {},
     "output_type": "execute_result"
    },
    {
     "data": {
      "image/png": "[encoded data removed]",
      "text/plain": [
       "<Figure size 432x288 with 1 Axes>"
      ]
     },
     "metadata": {
      "needs_background": "light"
     },
     "output_type": "display_data"
    }
   ],
   "source": [
    "plt.plot(th_pgd)\n",
    "plt.plot(th_ipla)\n",
    "plt.plot(true_theta*np.ones(K), c = 'black', linestyle = 'dashed', lw = 2)\n",
    "# plt.plot(np.mean(y)*np.ones(K), c = 'black', linestyle = 'dashed', lw = 2)"
   ]
  },
  {
   "cell_type": "code",
   "execution_count": 19,
   "id": "ad631388",
   "metadata": {},
   "outputs": [
    {
     "data": {
      "text/plain": [
       "array([ 0.        , -0.01440563, -0.0297527 , -0.04600186, -0.06319034,\n",
       "       -0.08128222, -0.10030439, -0.12023304, -0.141057  , -0.16274923,\n",
       "       -0.18534648, -0.2088107 , -0.23313284, -0.25830453, -0.28432402,\n",
       "       -0.3111472 , -0.33876798, -0.36722117, -0.39646812, -0.42645466,\n",
       "       -0.45716436, -0.48868107, -0.52092547, -0.55396295, -0.5877354 ,\n",
       "       -0.62218177, -0.65732932, -0.69322848, -0.72980598, -0.76705222,\n",
       "       -0.80499105, -0.84358442, -0.88279885, -0.92268936, -0.96320259,\n",
       "       -1.00438046, -1.04621581, -1.08858962, -1.1315662 , -1.1750867 ,\n",
       "       -1.21920509, -1.26388689, -1.30914718, -1.3549268 , -1.40120965,\n",
       "       -1.44800401, -1.49529007, -1.54305078, -1.59130349, -1.6399912 ,\n",
       "       -1.68912155, -1.73865646, -1.78855686, -1.83884   , -1.88950465,\n",
       "       -1.94052076, -1.991875  , -2.04362674, -2.09569366, -2.14808138,\n",
       "       -2.20078917, -2.25379721, -2.30708784, -2.36063084, -2.41443666,\n",
       "       -2.46844293, -2.52267006, -2.57712536, -2.63176445, -2.68662826,\n",
       "       -2.74169579, -2.79698148, -2.85248187, -2.90816629, -2.96399528,\n",
       "       -3.01994481, -3.07608908, -3.13235548, -3.18875854, -3.24524867,\n",
       "       -3.30181573, -3.35854035, -3.41528985, -3.47208288, -3.52887159,\n",
       "       -3.5857349 , -3.64259403, -3.69945618, -3.75631777, -3.81319309,\n",
       "       -3.87003924, -3.92685041, -3.98355995, -4.04018152, -4.09669625,\n",
       "       -4.15314024, -4.20951863, -4.26577053, -4.32195846, -4.37799821,\n",
       "       -4.43397585, -4.48983736, -4.54559213, -4.60120905, -4.65663153,\n",
       "       -4.71184481, -4.76688341, -4.82177876, -4.87645012, -4.93092374,\n",
       "       -4.98516351, -5.03920892, -5.09303192, -5.14659517, -5.1998766 ,\n",
       "       -5.25288353, -5.30563692, -5.35810375, -5.41035847, -5.46234906,\n",
       "       -5.51407887, -5.56553952, -5.61671687, -5.66758987, -5.7181278 ,\n",
       "       -5.76833666, -5.81831509, -5.86793912, -5.91723146, -5.96614108,\n",
       "       -6.01467647, -6.06280871, -6.1105979 , -6.1580279 , -6.20508646,\n",
       "       -6.25174945, -6.29806896, -6.3440369 , -6.38963439, -6.43482123,\n",
       "       -6.47961526, -6.5239897 , -6.5679812 , -6.61156886, -6.65474325,\n",
       "       -6.6975295 , -6.73988703, -6.78183278, -6.82335342, -6.86442165,\n",
       "       -6.9050815 , -6.9452798 , -6.98500284, -7.02428282, -7.06311123,\n",
       "       -7.1015169 , -7.13947549, -7.17694269, -7.21390835, -7.25041486,\n",
       "       -7.28646238, -7.3219794 , -7.35701499, -7.39159523, -7.42570024,\n",
       "       -7.45934707, -7.49252657, -7.52524408, -7.55750018, -7.58922652,\n",
       "       -7.62049703, -7.65132936, -7.68164933, -7.71145431, -7.74079663,\n",
       "       -7.76957497, -7.7978433 , -7.82556809, -7.85282809, -7.87958142,\n",
       "       -7.90586714, -7.93161012, -7.95686086, -7.98156572, -8.00579649,\n",
       "       -8.02949998, -8.05274179, -8.07551367, -8.09783729, -8.11965435,\n",
       "       -8.14096932, -8.16182648, -8.1822125 , -8.20213936, -8.221601  ,\n",
       "       -8.24059462, -8.25920174, -8.27733397, -8.29498822, -8.31221999,\n",
       "       -8.32898154, -8.34526263, -8.36108963, -8.37647271, -8.39141833,\n",
       "       -8.40589383, -8.41991259, -8.43347259, -8.44657516, -8.4592508 ,\n",
       "       -8.47151667, -8.48333453, -8.4947004 , -8.5056147 , -8.51609836,\n",
       "       -8.52621979, -8.53596569, -8.54527429, -8.55419283, -8.56272742,\n",
       "       -8.57087918, -8.57860801, -8.58590992, -8.5928599 , -8.59940522,\n",
       "       -8.60557608, -8.61135776, -8.61676726, -8.62186526, -8.62656603,\n",
       "       -8.63091087, -8.63487603, -8.63846633, -8.6417341 , -8.64467204,\n",
       "       -8.64724698, -8.64947551, -8.65143   , -8.65305241, -8.65430458,\n",
       "       -8.65523846, -8.65589778, -8.65629108, -8.65638209, -8.65616275,\n",
       "       -8.65571202, -8.65495578, -8.65394706, -8.65265831, -8.65110452,\n",
       "       -8.64924615, -8.64717119, -8.64488423, -8.64239426, -8.63967944,\n",
       "       -8.63670413, -8.633536  , -8.63014016, -8.62653307, -8.62272448,\n",
       "       -8.6187394 , -8.61453415, -8.6101432 , -8.60552547, -8.60068105,\n",
       "       -8.59562607, -8.5904112 , -8.58503235, -8.57950844, -8.57380971,\n",
       "       -8.56790972, -8.56183993, -8.5555468 , -8.54913312, -8.54254297,\n",
       "       -8.53586611, -8.52905589, -8.52217037, -8.51520525, -8.5081519 ,\n",
       "       -8.5009285 , -8.49362963, -8.48621884, -8.47872644, -8.47113664,\n",
       "       -8.46339833, -8.45559291, -8.44766329, -8.4396564 , -8.43151875,\n",
       "       -8.42331269, -8.4150175 , -8.40662585, -8.39811685, -8.38954477,\n",
       "       -8.38095954, -8.37230834, -8.36359094, -8.3548497 , -8.34607296,\n",
       "       -8.33729073, -8.32848593, -8.3196153 , -8.31071271, -8.30180862,\n",
       "       -8.29286096, -8.28384685, -8.27478105, -8.26564121, -8.2564651 ,\n",
       "       -8.24725481, -8.23808775, -8.22890386, -8.21970523, -8.21048784,\n",
       "       -8.20131239, -8.19211586, -8.18288584, -8.17363198, -8.16435534,\n",
       "       -8.15507825, -8.14575473, -8.13647487, -8.12723096, -8.11799647,\n",
       "       -8.10876712, -8.09952863, -8.09033484, -8.08110388, -8.07192582,\n",
       "       -8.06273824, -8.05352656, -8.04431743, -8.03516924, -8.02601173,\n",
       "       -8.01688758, -8.00773293, -7.99863125, -7.98960204, -7.98061198,\n",
       "       -7.97161706, -7.96260005, -7.95363113, -7.94467729, -7.93585894,\n",
       "       -7.92706846, -7.91832409, -7.9097403 , -7.9012521 , -7.89279024,\n",
       "       -7.88435168, -7.87590376, -7.86750399, -7.85914506, -7.85079465,\n",
       "       -7.84250359, -7.8342906 , -7.82617205, -7.81806384, -7.80994608,\n",
       "       -7.80183408, -7.79381717, -7.78589473, -7.77806858, -7.77030347,\n",
       "       -7.76254832, -7.75485597, -7.74717603, -7.7395902 , -7.73203461,\n",
       "       -7.72450365, -7.71703201, -7.70958898, -7.70218989, -7.69484628,\n",
       "       -7.6875709 , -7.68035771, -7.67315327, -7.66609914, -7.65913964,\n",
       "       -7.65224804, -7.64536207, -7.6384902 , -7.63172069, -7.62505083,\n",
       "       -7.6184649 , -7.61198546, -7.60556158, -7.59922257, -7.59291744,\n",
       "       -7.58664098, -7.58038462, -7.57418801, -7.56807572, -7.56203351,\n",
       "       -7.55609875, -7.55019843, -7.54435265, -7.53854019, -7.5327865 ,\n",
       "       -7.52712033, -7.52154355, -7.51600554, -7.51050493, -7.50507932,\n",
       "       -7.49972669, -7.49437722, -7.48904995, -7.48369601, -7.47832073,\n",
       "       -7.47295911, -7.46762471, -7.46235739, -7.45713079, -7.45199172,\n",
       "       -7.44691384, -7.44195845, -7.43705257, -7.43220619, -7.42741371,\n",
       "       -7.4226797 , -7.41799807, -7.41339754, -7.40883182, -7.40431419,\n",
       "       -7.39983243, -7.3954244 , -7.39104796, -7.38676909, -7.3824886 ,\n",
       "       -7.37822549, -7.3740597 , -7.36989177, -7.36574108, -7.36165784,\n",
       "       -7.3576376 , -7.35366894, -7.34974872, -7.34586139, -7.3419869 ,\n",
       "       -7.33819728, -7.3345002 , -7.33087694, -7.32724745, -7.32368483,\n",
       "       -7.32018261, -7.31670122, -7.31323062, -7.30985319, -7.306515  ,\n",
       "       -7.30322681, -7.29997924, -7.29676629, -7.2936426 , -7.29055013,\n",
       "       -7.28752429, -7.2845628 , -7.28162274, -7.27874105, -7.27585662,\n",
       "       -7.27296867, -7.27006844, -7.26715451, -7.264321  , -7.26149399,\n",
       "       -7.25871566, -7.25590297, -7.25312362, -7.25041783, -7.24772396,\n",
       "       -7.24505821, -7.24240336, -7.23979466, -7.23726055, -7.23469061,\n",
       "       -7.2321137 , -7.22960958, -7.22711195, -7.22465458, -7.2222767 ,\n",
       "       -7.21991659, -7.21754182, -7.21518948, -7.21287699, -7.21058489,\n",
       "       -7.20835133, -7.20611798, -7.2038733 , -7.2016613 , -7.19942951,\n",
       "       -7.19722443, -7.19503596, -7.1928577 , -7.19073147, -7.1887093 ,\n",
       "       -7.18677284, -7.18486469, -7.18297466, -7.18110896, -7.1792816 ,\n",
       "       -7.17749299, -7.17578486, -7.17407521, -7.172435  , -7.17083336,\n",
       "       -7.16925871, -7.16773323, -7.16620019, -7.16464424, -7.16314747,\n",
       "       -7.16158434, -7.15999869, -7.15842139, -7.15691956, -7.1554199 ,\n",
       "       -7.15393015, -7.15240111, -7.15096125, -7.14949934, -7.14804073,\n",
       "       -7.14660134, -7.14515577, -7.14373523, -7.14233056, -7.14090141,\n",
       "       -7.13950659, -7.13818302, -7.13688381, -7.13556843, -7.13429351,\n",
       "       -7.13305402, -7.13188066, -7.13073478, -7.12956674, -7.12843151,\n",
       "       -7.12732514, -7.12621691, -7.12508305, -7.12394999, -7.12283001,\n",
       "       -7.12171498, -7.12059916, -7.11950964, -7.11840027, -7.11732563,\n",
       "       -7.11629032, -7.11527047, -7.11424632, -7.11326806, -7.11230102,\n",
       "       -7.111348  , -7.11041624, -7.10953051, -7.1086573 , -7.10778468,\n",
       "       -7.10687387, -7.1059031 , -7.10490004, -7.1039342 , -7.10294026,\n",
       "       -7.10192689, -7.10094942, -7.09997971, -7.09898062, -7.09801401,\n",
       "       -7.09704609, -7.09608235, -7.09513094, -7.09414361, -7.09321275,\n",
       "       -7.09227821, -7.09136809, -7.09048666, -7.08962099, -7.08872778,\n",
       "       -7.08784878, -7.08697014, -7.0860371 , -7.08511347, -7.0842306 ,\n",
       "       -7.08334696, -7.08249009, -7.08166332, -7.08084645, -7.08002911,\n",
       "       -7.07926712, -7.07847073, -7.07770386, -7.07699184, -7.07632552,\n",
       "       -7.07568177, -7.07504324, -7.07443266, -7.07383662, -7.07323805,\n",
       "       -7.07266486, -7.07214174, -7.07163856, -7.0710906 , -7.07051187,\n",
       "       -7.06996165, -7.06941431, -7.06880724, -7.06819739, -7.06762009,\n",
       "       -7.06704952, -7.06651126, -7.06594658, -7.0653979 , -7.06485953,\n",
       "       -7.06434552, -7.0638569 , -7.06333084, -7.062772  , -7.06219102,\n",
       "       -7.06159966, -7.06100523, -7.060391  , -7.05981754, -7.05924646,\n",
       "       -7.05866213, -7.05808802, -7.05750709, -7.05691214, -7.05632231,\n",
       "       -7.05574357, -7.05515538, -7.05459935, -7.05405418, -7.05356659,\n",
       "       -7.053105  , -7.05265444, -7.05219094, -7.05172154, -7.05128384,\n",
       "       -7.05086524, -7.05044039, -7.05000709, -7.04955888, -7.04909285,\n",
       "       -7.04861229, -7.04812771, -7.04758527, -7.04711963, -7.04667379,\n",
       "       -7.04623734, -7.04578843, -7.04529013, -7.04477642, -7.04424722,\n",
       "       -7.04371867, -7.0431912 , -7.0426575 , -7.04210687, -7.04159421,\n",
       "       -7.04109008, -7.04064265, -7.04021225, -7.03984347, -7.03947198,\n",
       "       -7.0391925 , -7.0389524 , -7.03870472, -7.03839596, -7.03805881,\n",
       "       -7.03776501, -7.03740542, -7.03704675, -7.03670523, -7.0363657 ,\n",
       "       -7.03603662, -7.03570456, -7.03536994, -7.03501744, -7.03465847,\n",
       "       -7.03435234, -7.03405009, -7.03373121, -7.03343111, -7.03309376,\n",
       "       -7.0327093 , -7.03236271, -7.032063  , -7.03175789, -7.0314749 ,\n",
       "       -7.03121047, -7.03092901, -7.03063316, -7.03033197, -7.03007335,\n",
       "       -7.02977136, -7.0294943 , -7.02912471, -7.02879784, -7.02850305,\n",
       "       -7.02821414, -7.02785847, -7.02747377, -7.02705938, -7.02664691,\n",
       "       -7.02619736, -7.02568373, -7.02512289, -7.02456406, -7.02400783,\n",
       "       -7.02347531, -7.02293514, -7.02237216, -7.02183571, -7.02135555,\n",
       "       -7.02090729, -7.02046043, -7.02003889, -7.01962312, -7.01922986,\n",
       "       -7.01887012, -7.01851893, -7.0181921 , -7.01789123, -7.01763584,\n",
       "       -7.01736937, -7.017135  , -7.01693091, -7.01668283, -7.01640981,\n",
       "       -7.01614477, -7.015858  , -7.01559379, -7.01536562, -7.0151234 ,\n",
       "       -7.01490468, -7.01467111, -7.01440861, -7.01422832, -7.01407884,\n",
       "       -7.01392365, -7.01378877, -7.01366747, -7.01355216, -7.0134339 ,\n",
       "       -7.01329346, -7.01316863, -7.01308423, -7.01292623, -7.01278212,\n",
       "       -7.01266065, -7.01251419, -7.01236999, -7.01225185, -7.01215209,\n",
       "       -7.01204157, -7.01193044, -7.01185301, -7.01174646, -7.0116747 ,\n",
       "       -7.01156868, -7.01149633, -7.01142147, -7.01132655, -7.01122018,\n",
       "       -7.01110139, -7.01092958, -7.01075622, -7.01064127, -7.01053461,\n",
       "       -7.01045928, -7.01039459, -7.01033519, -7.01029365, -7.01024451,\n",
       "       -7.01016305, -7.01006064, -7.00995483, -7.00986324, -7.00975354,\n",
       "       -7.00959631, -7.00942009, -7.00933808, -7.00927186, -7.00918827,\n",
       "       -7.00915638, -7.00911489, -7.00903485, -7.00895338, -7.00886847,\n",
       "       -7.00875259, -7.00861676, -7.00845621, -7.00831658, -7.00820325,\n",
       "       -7.00810576, -7.00798248, -7.00786851, -7.00777609, -7.00763116,\n",
       "       -7.00745995, -7.00732146, -7.00713094, -7.00693817, -7.00675867,\n",
       "       -7.00656535, -7.00637272, -7.00618547, -7.0060223 , -7.00586617,\n",
       "       -7.00572021, -7.00557219, -7.0054087 , -7.0052114 , -7.00501748,\n",
       "       -7.00483612, -7.00471521, -7.00459512, -7.00449433, -7.00440048,\n",
       "       -7.0042905 , -7.00419915, -7.00411928, -7.00405802, -7.004005  ,\n",
       "       -7.00390005, -7.003827  , -7.00376344, -7.0036352 , -7.0035061 ,\n",
       "       -7.00336498, -7.00320321, -7.00300152, -7.00284112, -7.00270416,\n",
       "       -7.00261367, -7.00249826, -7.00236441, -7.00227562, -7.00218076,\n",
       "       -7.00212575, -7.00206053, -7.00198261, -7.00194553, -7.00194043,\n",
       "       -7.0019151 , -7.00187539, -7.00181593, -7.00180387, -7.00178413,\n",
       "       -7.00171512, -7.00163851, -7.00154811, -7.00144685, -7.00132602,\n",
       "       -7.00128216, -7.00117856, -7.00111687, -7.00101169, -7.00091705,\n",
       "       -7.00083038, -7.00079328, -7.00075449, -7.00070767, -7.00068988,\n",
       "       -7.00069528, -7.00071789, -7.00071357, -7.00068265, -7.0007054 ,\n",
       "       -7.00068486, -7.00073601, -7.00081192, -7.00087921, -7.00093402,\n",
       "       -7.00098825, -7.00103278, -7.00108773, -7.00113534, -7.00110237,\n",
       "       -7.00109086, -7.0010709 , -7.00108932, -7.00115343, -7.00119354,\n",
       "       -7.00124118, -7.00126081, -7.00124404, -7.00124448, -7.00127116,\n",
       "       -7.00131356, -7.00137516, -7.00145411, -7.00142838, -7.00139074,\n",
       "       -7.00129134, -7.00119452, -7.00109753, -7.00098107, -7.00086722,\n",
       "       -7.00073197, -7.00057298, -7.00039196, -7.00028602, -7.00020913,\n",
       "       -7.00011058, -7.00000325, -6.99993754, -6.999919  , -6.99996071,\n",
       "       -7.00004867, -7.00010714, -7.0002102 , -7.00028312, -7.00036767,\n",
       "       -7.00037823, -7.0003939 , -7.0003874 , -7.00031981, -7.00024572,\n",
       "       -7.00012509, -7.00003404, -6.99994225, -6.99983918, -6.99977183,\n",
       "       -6.99970662, -6.99966202, -6.99959653, -6.99954073, -6.99946264,\n",
       "       -6.99942582, -6.99938775, -6.99937157, -6.99938122, -6.99941276,\n",
       "       -6.99944862, -6.99948735, -6.99947182, -6.99939836, -6.99930452,\n",
       "       -6.9991729 , -6.99902108, -6.99889486, -6.998754  , -6.99858928,\n",
       "       -6.99841704, -6.99826465, -6.99807115, -6.99788855, -6.99767706,\n",
       "       -6.99749761, -6.99730704, -6.99707685, -6.9968229 , -6.99655822,\n",
       "       -6.99631268, -6.9960888 , -6.99590568, -6.99577622, -6.99565123,\n",
       "       -6.99556456, -6.99547432, -6.9953329 , -6.99515916, -6.99492611,\n",
       "       -6.99470493, -6.99443423, -6.99418582, -6.99392967, -6.99368783,\n",
       "       -6.99350425, -6.99330895, -6.99314341, -6.99295015, -6.99269794,\n",
       "       -6.99247227, -6.99226682, -6.99203699, -6.99177882, -6.99156257,\n",
       "       -6.99139626, -6.99119446, -6.99096845, -6.99075384, -6.99057104,\n",
       "       -6.99033598, -6.99012254, -6.98990712, -6.98970045, -6.98956946,\n",
       "       -6.98944285, -6.98931619, -6.98916314, -6.98904072, -6.98888093,\n",
       "       -6.98874152, -6.9886369 , -6.98850133, -6.98831791, -6.98813726,\n",
       "       -6.987966  , -6.98779597, -6.98763002, -6.98750535, -6.98741682])"
      ]
     },
     "execution_count": 19,
     "metadata": {},
     "output_type": "execute_result"
    }
   ],
   "source": [
    "th_pgd"
   ]
  },
  {
   "cell_type": "code",
   "execution_count": 20,
   "id": "06cd187f",
   "metadata": {},
   "outputs": [
    {
     "data": {
      "text/plain": [
       "<matplotlib.collections.PathCollection at 0x7fcc400b2b20>"
      ]
     },
     "execution_count": 20,
     "metadata": {},
     "output_type": "execute_result"
    },
    {
     "data": {
      "image/png": "[encoded data removed]",
      "text/plain": [
       "<Figure size 432x288 with 1 Axes>"
      ]
     },
     "metadata": {
      "needs_background": "light"
     },
     "output_type": "display_data"
    }
   ],
   "source": [
    "theta = np.linspace(-30, 20, num = 1000)\n",
    "fun = 0\n",
    "for i in range(4):\n",
    "    fun = fun + np.log(0.05+(y[i]-theta)**2)\n",
    "fun = -0.525*fun\n",
    "\n",
    "plt.plot(theta, fun)\n",
    "plt.scatter(-7, -0.525*np.sum(np.log(0.05+(y+7)**2)))"
   ]
  },
  {
   "cell_type": "code",
   "execution_count": 29,
   "id": "59ca7b75",
   "metadata": {},
   "outputs": [],
   "source": [
    "th = th_pgd[K - 1]\n",
    "second_derivative = 0\n",
    "for i in range(ndata):\n",
    "    second_derivative = second_derivative + (-0.05 + th**2 - 2*th*y[i] + y[i]**2)/(0.05 + th**2 - 2*th*y[i] + y[i]**2)**2"
   ]
  },
  {
   "cell_type": "code",
   "execution_count": 30,
   "id": "30d54a16",
   "metadata": {},
   "outputs": [
    {
     "data": {
      "text/plain": [
       "0.046229058879254305"
      ]
     },
     "execution_count": 30,
     "metadata": {},
     "output_type": "execute_result"
    }
   ],
   "source": [
    "second_derivative*2*0.525"
   ]
  }
 ],
 "metadata": {
  "kernelspec": {
   "display_name": "Python 3 (ipykernel)",
   "language": "python",
   "name": "python3"
  },
  "language_info": {
   "codemirror_mode": {
    "name": "ipython",
    "version": 3
   },
   "file_extension": ".py",
   "mimetype": "text/x-python",
   "name": "python",
   "nbconvert_exporter": "python",
   "pygments_lexer": "ipython3",
   "version": "3.9.7"
  }
 },
 "nbformat": 4,
 "nbformat_minor": 5
}

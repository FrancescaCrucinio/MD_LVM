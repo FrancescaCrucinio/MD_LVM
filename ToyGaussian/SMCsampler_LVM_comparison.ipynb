{
 "cells": [
  {
   "cell_type": "markdown",
   "id": "55ff5f01",
   "metadata": {},
   "source": [
    "# Toy Latent Variable Model\n",
    "Consider a simple latent variable model where we have observations $y_1, \\dots, y_n \\in \\mathbb{R}^d$ drawn from\n",
    "    \\begin{align*}\n",
    "        z|\\theta &\\sim \\mathcal{N}(\\cdot;\\theta \\textsf{1}_d, \\textsf{Id}_d)\\\\\n",
    "        y|z &\\sim \\mathcal{N}(\\cdot;z, \\textsf{Id}_d)\n",
    "    \\end{align*}\n",
    "    where $\\theta\\in\\mathbb{R}$ and $\\textsf{1}_d, \\textsf{Id}_d$ denote the $d$-dimensional vector of ones and the $d\\times d$ identity matrix respectively."
   ]
  },
  {
   "cell_type": "code",
   "execution_count": 103,
   "id": "97cbbef0",
   "metadata": {},
   "outputs": [
    {
     "data": {
      "text/plain": [
       "<module 'md_lvm' from '/Users/francescacrucinio/Documents/MD_LVM/md_lvm.py'>"
      ]
     },
     "execution_count": 103,
     "metadata": {},
     "output_type": "execute_result"
    }
   ],
   "source": [
    "# standard libraries\n",
    "import importlib\n",
    "from matplotlib import pyplot as plt\n",
    "import numpy as np\n",
    "from scipy.stats import norm\n",
    "from scipy import linalg, stats, optimize\n",
    "import sys\n",
    "sys.path.append('/Users/francescacrucinio/Documents/MD_LVM')\n",
    "\n",
    "# modules from particles\n",
    "import particles  # core module\n",
    "from particles import smc_samplers as ssp\n",
    "from particles import distributions as dists  # where probability distributions are defined\n",
    "from particles import resampling as rs\n",
    "\n",
    "import md_lvm\n",
    "importlib.reload(md_lvm)"
   ]
  },
  {
   "cell_type": "code",
   "execution_count": 149,
   "id": "564001a0",
   "metadata": {},
   "outputs": [],
   "source": [
    "D = 100  # Dimensionality of latent variables.\n",
    "thdata = 1  # Parameter value used to generate the data.\n",
    "\n",
    "# Generate the data:\n",
    "y = np.random.normal(0, 1, (D, 1)) + np.random.normal(thdata, 1, (D, 1))"
   ]
  },
  {
   "cell_type": "code",
   "execution_count": 150,
   "id": "511ec79b",
   "metadata": {},
   "outputs": [
    {
     "data": {
      "text/plain": [
       "1.0871793318123344"
      ]
     },
     "execution_count": 150,
     "metadata": {},
     "output_type": "execute_result"
    }
   ],
   "source": [
    "# get MLE\n",
    "theta_mle = np.mean(y)\n",
    "theta_mle"
   ]
  },
  {
   "cell_type": "markdown",
   "id": "52ea4015",
   "metadata": {},
   "source": [
    "## Adaptive step size"
   ]
  },
  {
   "cell_type": "code",
   "execution_count": 217,
   "id": "e417353c",
   "metadata": {},
   "outputs": [],
   "source": [
    "#Set approximation parameters:\n",
    "Niter = 500  # Number of steps.\n",
    "N = 500  # Number of particles.\n",
    "\n",
    "th0 = np.array([0])  # Initial parameter guess.\n",
    "X0 = np.random.normal(size = (D, N))  # Initial particle cloud."
   ]
  },
  {
   "cell_type": "code",
   "execution_count": 218,
   "id": "08041fff",
   "metadata": {},
   "outputs": [],
   "source": [
    "def next_gamma_md(current_gamma, alpha, logW):\n",
    "    N = logW.shape[0]\n",
    "    def f(e):\n",
    "        ess = rs.essl(e * logW) if e > 0.0 else N  # avoid 0 x inf issue when e==0\n",
    "        return ess - alpha * N\n",
    "    if f(0)*f(1) < 0.:\n",
    "        return optimize.brentq(f, 0, 1.0)\n",
    "    else:\n",
    "        return 1.0"
   ]
  },
  {
   "cell_type": "code",
   "execution_count": 219,
   "id": "5ad1ca99",
   "metadata": {},
   "outputs": [],
   "source": [
    "gamma = np.array([0])\n",
    "Cn = np.array([1])\n",
    "theta = np.array([])\n",
    "n = -1\n",
    "epsilon = 1e-5"
   ]
  },
  {
   "cell_type": "code",
   "execution_count": 220,
   "id": "4e0f3580",
   "metadata": {},
   "outputs": [
    {
     "name": "stdout",
     "output_type": "stream",
     "text": [
      "0\n",
      "1\n",
      "2\n",
      "3\n",
      "4\n",
      "5\n",
      "6\n",
      "7\n",
      "8\n",
      "9\n"
     ]
    }
   ],
   "source": [
    "while((gamma[n+1]<1) & (n < Niter)):\n",
    "    n = n+1\n",
    "    print(n)\n",
    "    if (n == 0):\n",
    "        theta = np.append(theta, theta_mle)\n",
    "        x = np.random.normal(size = (N, D))\n",
    "    else:\n",
    "        Cn = np.append(Cn, np.prod(1-gamma[1:]))\n",
    "#         theta = np.append(theta, theta[n-1] + gamma[n]*(np.sum(np.sum(x, axis = 1)*W)-D*theta[n-1]))\n",
    "        theta = np.append(theta, theta_mle)\n",
    "        # resample\n",
    "        ancestors = rs.resampling('stratified', W)\n",
    "        x = x[ancestors, :]\n",
    "        # MCMC move\n",
    "        prop = md_lvm.rwm_proposal(x, W)\n",
    "        x = md_lvm.rwm_accept_toy_lvm_varying_gamma(x, prop, theta[:n], gamma[1:(n+1)], y)\n",
    "    # reweight\n",
    "    logW = md_lvm.ll_toy_lvm(theta[n], x, y) + 0.5*np.prod(1-gamma[1:n])*np.sum(x**2, axis = 1)\n",
    "    for k in range(n-1):\n",
    "        logW = logW - gamma[k+1]*np.prod(1-gamma[(k+2):n])*md_lvm.ll_toy_lvm(theta[k], x, y)\n",
    "    new_l = next_gamma_md(gamma[n], 0.5, logW)\n",
    "    gamma = np.append(gamma, new_l)\n",
    "    logW = gamma[n+1]*logW\n",
    "    W = rs.exp_and_normalise(logW)"
   ]
  },
  {
   "cell_type": "code",
   "execution_count": 221,
   "id": "d727a7a1",
   "metadata": {},
   "outputs": [
    {
     "data": {
      "text/plain": [
       "<matplotlib.legend.Legend at 0x7fa138cde0a0>"
      ]
     },
     "execution_count": 221,
     "metadata": {},
     "output_type": "execute_result"
    },
    {
     "data": {
      "image/png": "[encoded data removed]",
      "text/plain": [
       "<Figure size 432x288 with 1 Axes>"
      ]
     },
     "metadata": {
      "needs_background": "light"
     },
     "output_type": "display_data"
    }
   ],
   "source": [
    "plt.hist(x[:, 0], density = True, bins = 50, weights = W, label='MD');\n",
    "plt.plot(np.linspace(-5, 5, 100), norm.pdf(np.linspace(-5, 5, 100), scale = np.sqrt(0.5), loc = 0.5*(np.mean(y)+1)), label = 'True posterior')\n",
    "plt.legend()\n",
    "# plt.savefig('toy_posterior_optimal_gamma.pdf', bbox_inches=\"tight\")"
   ]
  },
  {
   "cell_type": "code",
   "execution_count": 223,
   "id": "b71c0661",
   "metadata": {},
   "outputs": [
    {
     "data": {
      "text/plain": [
       "array([0.        , 0.03465484, 0.03950442, 0.05107632, 0.06793933,\n",
       "       0.10157533, 0.14685512, 0.21014793, 0.36841715, 0.75443457,\n",
       "       1.        ])"
      ]
     },
     "execution_count": 223,
     "metadata": {},
     "output_type": "execute_result"
    }
   ],
   "source": [
    "gamma"
   ]
  },
  {
   "cell_type": "code",
   "execution_count": 196,
   "id": "2c62485a",
   "metadata": {},
   "outputs": [],
   "source": [
    "class ToyBridge(ssp.TemperingBridge):\n",
    "    def logtarget(self, x):\n",
    "        log_p = -0.5*np.sum((x - theta_mle)**2, axis = 1)\n",
    "        log_p = log_p - 0.5*np.sum((x-y.T)**2, axis = 1)\n",
    "        return log_p"
   ]
  },
  {
   "cell_type": "code",
   "execution_count": 197,
   "id": "9f743167",
   "metadata": {},
   "outputs": [],
   "source": [
    "base_dist = dists.MvNormal(scale=1., cov=np.eye(D))\n",
    "toy_bridge = ToyBridge(base_dist=base_dist)"
   ]
  },
  {
   "cell_type": "code",
   "execution_count": 212,
   "id": "bdf1a3ff",
   "metadata": {},
   "outputs": [
    {
     "name": "stdout",
     "output_type": "stream",
     "text": [
      "t=0, ESS=250.00, tempering exponent=0.0345\n",
      "t=1, Metropolis acc. rate (over 9 steps): 0.268, ESS=250.00, tempering exponent=0.0744\n",
      "t=2, Metropolis acc. rate (over 9 steps): 0.305, ESS=250.00, tempering exponent=0.12\n",
      "t=3, Metropolis acc. rate (over 9 steps): 0.355, ESS=250.00, tempering exponent=0.176\n",
      "t=4, Metropolis acc. rate (over 9 steps): 0.397, ESS=250.00, tempering exponent=0.248\n",
      "t=5, Metropolis acc. rate (over 9 steps): 0.424, ESS=250.00, tempering exponent=0.335\n",
      "t=6, Metropolis acc. rate (over 9 steps): 0.473, ESS=250.00, tempering exponent=0.447\n",
      "t=7, Metropolis acc. rate (over 9 steps): 0.505, ESS=250.00, tempering exponent=0.601\n",
      "t=8, Metropolis acc. rate (over 9 steps): 0.524, ESS=250.00, tempering exponent=0.801\n",
      "t=9, Metropolis acc. rate (over 9 steps): 0.534, ESS=300.57, tempering exponent=1\n"
     ]
    }
   ],
   "source": [
    "fk_tpr = ssp.AdaptiveTempering(model=toy_bridge, wastefree = False)\n",
    "alg = particles.SMC(fk=fk_tpr, N=500, ESSrmin=1., verbose=True)\n",
    "alg.run()"
   ]
  },
  {
   "cell_type": "code",
   "execution_count": 213,
   "id": "91ef737b",
   "metadata": {},
   "outputs": [
    {
     "data": {
      "text/plain": [
       "[<matplotlib.lines.Line2D at 0x7fa138d17d60>]"
      ]
     },
     "execution_count": 213,
     "metadata": {},
     "output_type": "execute_result"
    },
    {
     "data": {
      "image/png": "[encoded data removed]",
      "text/plain": [
       "<Figure size 432x288 with 1 Axes>"
      ]
     },
     "metadata": {
      "needs_background": "light"
     },
     "output_type": "display_data"
    }
   ],
   "source": [
    "plt.hist(alg.X.theta[:, 0], density = True, weights = alg.W, bins = 50)\n",
    "plt.plot(np.linspace(-5, 5, 100), norm.pdf(np.linspace(-5, 5, 100), scale = np.sqrt(0.5), loc = 0.5*(np.mean(y)+1)))"
   ]
  },
  {
   "cell_type": "code",
   "execution_count": 214,
   "id": "c5233126",
   "metadata": {},
   "outputs": [],
   "source": [
    "l = alg.X.shared['exponents']\n",
    "gamma = np.array([0])"
   ]
  },
  {
   "cell_type": "code",
   "execution_count": 215,
   "id": "6f5c47fd",
   "metadata": {},
   "outputs": [],
   "source": [
    "for n in range(1,len(l)):\n",
    "    gamma = np.append(gamma, (l[n]-l[n-1])/(1-l[n-1]))"
   ]
  },
  {
   "cell_type": "code",
   "execution_count": 216,
   "id": "8f865198",
   "metadata": {},
   "outputs": [
    {
     "data": {
      "text/plain": [
       "array([0.        , 0.03454595, 0.04131307, 0.049529  , 0.06327398,\n",
       "       0.0878059 , 0.1148841 , 0.16922791, 0.27877389, 0.50192222,\n",
       "       1.        ])"
      ]
     },
     "execution_count": 216,
     "metadata": {},
     "output_type": "execute_result"
    }
   ],
   "source": [
    "gamma"
   ]
  }
 ],
 "metadata": {
  "kernelspec": {
   "display_name": "Python 3 (ipykernel)",
   "language": "python",
   "name": "python3"
  },
  "language_info": {
   "codemirror_mode": {
    "name": "ipython",
    "version": 3
   },
   "file_extension": ".py",
   "mimetype": "text/x-python",
   "name": "python",
   "nbconvert_exporter": "python",
   "pygments_lexer": "ipython3",
   "version": "3.9.7"
  }
 },
 "nbformat": 4,
 "nbformat_minor": 5
}

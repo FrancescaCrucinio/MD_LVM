{
 "cells": [
  {
   "cell_type": "markdown",
   "id": "55ff5f01",
   "metadata": {},
   "source": [
    "# Toy Latent Variable Model\n",
    "Consider a simple latent variable model where we have observations $y_1, \\dots, y_n \\in \\mathbb{R}^d$ drawn from\n",
    "    \\begin{align*}\n",
    "        z|\\theta &\\sim \\mathcal{N}(\\cdot;\\theta \\textsf{1}_d, \\textsf{Id}_d)\\\\\n",
    "        y|z &\\sim \\mathcal{N}(\\cdot;z, \\textsf{Id}_d)\n",
    "    \\end{align*}\n",
    "    where $\\theta\\in\\mathbb{R}$ and $\\textsf{1}_d, \\textsf{Id}_d$ denote the $d$-dimensional vector of ones and the $d\\times d$ identity matrix respectively."
   ]
  },
  {
   "cell_type": "code",
   "execution_count": 1,
   "id": "97cbbef0",
   "metadata": {},
   "outputs": [
    {
     "data": {
      "text/plain": [
       "<module 'md_lvm' from '/Users/francescacrucinio/Documents/MD_LVM/md_lvm.py'>"
      ]
     },
     "execution_count": 1,
     "metadata": {},
     "output_type": "execute_result"
    }
   ],
   "source": [
    "# standard libraries\n",
    "import importlib\n",
    "from matplotlib import pyplot as plt\n",
    "import numpy as np\n",
    "from scipy.stats import norm\n",
    "from scipy import linalg, stats, optimize\n",
    "import sys\n",
    "sys.path.append('/Users/francescacrucinio/Documents/MD_LVM')\n",
    "\n",
    "# modules from particles\n",
    "import particles  # core module\n",
    "from particles import smc_samplers as ssp\n",
    "from particles import distributions as dists  # where probability distributions are defined\n",
    "from particles import resampling as rs\n",
    "\n",
    "import md_lvm\n",
    "importlib.reload(md_lvm)"
   ]
  },
  {
   "cell_type": "code",
   "execution_count": 2,
   "id": "564001a0",
   "metadata": {},
   "outputs": [],
   "source": [
    "D = 50  # Dimensionality of latent variables.\n",
    "thdata = 1  # Parameter value used to generate the data.\n",
    "\n",
    "# Generate the data:\n",
    "y = np.random.normal(0, 1, (D, 1)) + np.random.normal(thdata, 1, (D, 1))"
   ]
  },
  {
   "cell_type": "code",
   "execution_count": 3,
   "id": "511ec79b",
   "metadata": {},
   "outputs": [
    {
     "data": {
      "text/plain": [
       "1.0473621717301405"
      ]
     },
     "execution_count": 3,
     "metadata": {},
     "output_type": "execute_result"
    }
   ],
   "source": [
    "# get MLE\n",
    "theta_mle = np.mean(y)\n",
    "theta_mle"
   ]
  },
  {
   "cell_type": "markdown",
   "id": "52ea4015",
   "metadata": {},
   "source": [
    "## Adaptive step size"
   ]
  },
  {
   "cell_type": "code",
   "execution_count": 4,
   "id": "e417353c",
   "metadata": {},
   "outputs": [],
   "source": [
    "#Set approximation parameters:\n",
    "Niter = 500  # Number of steps.\n",
    "N = 500  # Number of particles.\n",
    "\n",
    "th0 = np.array([0])  # Initial parameter guess.\n",
    "X0 = np.random.normal(size = (D, N))  # Initial particle cloud."
   ]
  },
  {
   "cell_type": "code",
   "execution_count": 41,
   "id": "08041fff",
   "metadata": {},
   "outputs": [],
   "source": [
    "def next_gamma_md(current_gamma, alpha, logW):\n",
    "    N = logW.shape[0]\n",
    "    def f(e):\n",
    "        ess = rs.essl(e * logW) if e > 0.0 else N  # avoid 0 x inf issue when e==0\n",
    "        return ess - alpha * N\n",
    "    if f(current_gamma)*f(1) < 0.:\n",
    "        return optimize.brentq(f, current_gamma, 1.0)\n",
    "    else:\n",
    "        return 1.0"
   ]
  },
  {
   "cell_type": "code",
   "execution_count": 60,
   "id": "5ad1ca99",
   "metadata": {},
   "outputs": [],
   "source": [
    "gamma = np.array([0])\n",
    "Cn = np.array([1])\n",
    "theta = np.array([])\n",
    "n = -1\n",
    "epsilon = 1e-5"
   ]
  },
  {
   "cell_type": "code",
   "execution_count": 61,
   "id": "4e0f3580",
   "metadata": {},
   "outputs": [
    {
     "ename": "LinAlgError",
     "evalue": "7-th leading minor of the array is not positive definite",
     "output_type": "error",
     "traceback": [
      "\u001b[0;31m---------------------------------------------------------------------------\u001b[0m",
      "\u001b[0;31mLinAlgError\u001b[0m                               Traceback (most recent call last)",
      "\u001b[0;32m/var/folders/yb/2yx4lkb90l57vb9ljkzffpq40000gn/T/ipykernel_89951/2423889759.py\u001b[0m in \u001b[0;36m<module>\u001b[0;34m\u001b[0m\n\u001b[1;32m     12\u001b[0m         \u001b[0mx\u001b[0m \u001b[0;34m=\u001b[0m \u001b[0mx\u001b[0m\u001b[0;34m[\u001b[0m\u001b[0mancestors\u001b[0m\u001b[0;34m,\u001b[0m \u001b[0;34m:\u001b[0m\u001b[0;34m]\u001b[0m\u001b[0;34m\u001b[0m\u001b[0;34m\u001b[0m\u001b[0m\n\u001b[1;32m     13\u001b[0m         \u001b[0;31m# MCMC move\u001b[0m\u001b[0;34m\u001b[0m\u001b[0;34m\u001b[0m\u001b[0m\n\u001b[0;32m---> 14\u001b[0;31m         \u001b[0mprop\u001b[0m \u001b[0;34m=\u001b[0m \u001b[0mmd_lvm\u001b[0m\u001b[0;34m.\u001b[0m\u001b[0mrwm_proposal\u001b[0m\u001b[0;34m(\u001b[0m\u001b[0mx\u001b[0m\u001b[0;34m,\u001b[0m \u001b[0mW\u001b[0m\u001b[0;34m)\u001b[0m\u001b[0;34m\u001b[0m\u001b[0;34m\u001b[0m\u001b[0m\n\u001b[0m\u001b[1;32m     15\u001b[0m         \u001b[0mx\u001b[0m \u001b[0;34m=\u001b[0m \u001b[0mmd_lvm\u001b[0m\u001b[0;34m.\u001b[0m\u001b[0mrwm_accept_toy_lvm\u001b[0m\u001b[0;34m(\u001b[0m\u001b[0mx\u001b[0m\u001b[0;34m,\u001b[0m \u001b[0mprop\u001b[0m\u001b[0;34m,\u001b[0m \u001b[0mtheta\u001b[0m\u001b[0;34m[\u001b[0m\u001b[0;34m:\u001b[0m\u001b[0mn\u001b[0m\u001b[0;34m]\u001b[0m\u001b[0;34m,\u001b[0m \u001b[0mgamma\u001b[0m\u001b[0;34m[\u001b[0m\u001b[0;34m:\u001b[0m\u001b[0mn\u001b[0m\u001b[0;34m]\u001b[0m\u001b[0;34m,\u001b[0m \u001b[0my\u001b[0m\u001b[0;34m)\u001b[0m\u001b[0;34m\u001b[0m\u001b[0;34m\u001b[0m\u001b[0m\n\u001b[1;32m     16\u001b[0m     \u001b[0;31m# reweight\u001b[0m\u001b[0;34m\u001b[0m\u001b[0;34m\u001b[0m\u001b[0m\n",
      "\u001b[0;32m~/Documents/MD_LVM/md_lvm.py\u001b[0m in \u001b[0;36mrwm_proposal\u001b[0;34m(v, W)\u001b[0m\n\u001b[1;32m     14\u001b[0m     \u001b[0mm\u001b[0m\u001b[0;34m,\u001b[0m \u001b[0mcov\u001b[0m \u001b[0;34m=\u001b[0m \u001b[0mrs\u001b[0m\u001b[0;34m.\u001b[0m\u001b[0mwmean_and_cov\u001b[0m\u001b[0;34m(\u001b[0m\u001b[0mW\u001b[0m\u001b[0;34m,\u001b[0m \u001b[0marr\u001b[0m\u001b[0;34m)\u001b[0m\u001b[0;34m\u001b[0m\u001b[0;34m\u001b[0m\u001b[0m\n\u001b[1;32m     15\u001b[0m     \u001b[0mscale\u001b[0m \u001b[0;34m=\u001b[0m \u001b[0;36m2.38\u001b[0m \u001b[0;34m/\u001b[0m \u001b[0mnp\u001b[0m\u001b[0;34m.\u001b[0m\u001b[0msqrt\u001b[0m\u001b[0;34m(\u001b[0m\u001b[0md\u001b[0m\u001b[0;34m)\u001b[0m\u001b[0;34m\u001b[0m\u001b[0;34m\u001b[0m\u001b[0m\n\u001b[0;32m---> 16\u001b[0;31m     \u001b[0mL\u001b[0m \u001b[0;34m=\u001b[0m \u001b[0mscale\u001b[0m \u001b[0;34m*\u001b[0m \u001b[0mlinalg\u001b[0m\u001b[0;34m.\u001b[0m\u001b[0mcholesky\u001b[0m\u001b[0;34m(\u001b[0m\u001b[0mcov\u001b[0m\u001b[0;34m,\u001b[0m \u001b[0mlower\u001b[0m\u001b[0;34m=\u001b[0m\u001b[0;32mTrue\u001b[0m\u001b[0;34m)\u001b[0m\u001b[0;34m\u001b[0m\u001b[0;34m\u001b[0m\u001b[0m\n\u001b[0m\u001b[1;32m     17\u001b[0m     \u001b[0marr_prop\u001b[0m \u001b[0;34m=\u001b[0m \u001b[0marr\u001b[0m \u001b[0;34m+\u001b[0m \u001b[0mstats\u001b[0m\u001b[0;34m.\u001b[0m\u001b[0mnorm\u001b[0m\u001b[0;34m.\u001b[0m\u001b[0mrvs\u001b[0m\u001b[0;34m(\u001b[0m\u001b[0msize\u001b[0m\u001b[0;34m=\u001b[0m\u001b[0marr\u001b[0m\u001b[0;34m.\u001b[0m\u001b[0mshape\u001b[0m\u001b[0;34m)\u001b[0m \u001b[0;34m@\u001b[0m \u001b[0mL\u001b[0m\u001b[0;34m.\u001b[0m\u001b[0mT\u001b[0m\u001b[0;34m\u001b[0m\u001b[0;34m\u001b[0m\u001b[0m\n\u001b[1;32m     18\u001b[0m     \u001b[0;32mreturn\u001b[0m \u001b[0marr_prop\u001b[0m\u001b[0;34m\u001b[0m\u001b[0;34m\u001b[0m\u001b[0m\n",
      "\u001b[0;32m~/opt/anaconda3/lib/python3.9/site-packages/scipy/linalg/decomp_cholesky.py\u001b[0m in \u001b[0;36mcholesky\u001b[0;34m(a, lower, overwrite_a, check_finite)\u001b[0m\n\u001b[1;32m     86\u001b[0m \u001b[0;34m\u001b[0m\u001b[0m\n\u001b[1;32m     87\u001b[0m     \"\"\"\n\u001b[0;32m---> 88\u001b[0;31m     c, lower = _cholesky(a, lower=lower, overwrite_a=overwrite_a, clean=True,\n\u001b[0m\u001b[1;32m     89\u001b[0m                          check_finite=check_finite)\n\u001b[1;32m     90\u001b[0m     \u001b[0;32mreturn\u001b[0m \u001b[0mc\u001b[0m\u001b[0;34m\u001b[0m\u001b[0;34m\u001b[0m\u001b[0m\n",
      "\u001b[0;32m~/opt/anaconda3/lib/python3.9/site-packages/scipy/linalg/decomp_cholesky.py\u001b[0m in \u001b[0;36m_cholesky\u001b[0;34m(a, lower, overwrite_a, clean, check_finite)\u001b[0m\n\u001b[1;32m     35\u001b[0m     \u001b[0mc\u001b[0m\u001b[0;34m,\u001b[0m \u001b[0minfo\u001b[0m \u001b[0;34m=\u001b[0m \u001b[0mpotrf\u001b[0m\u001b[0;34m(\u001b[0m\u001b[0ma1\u001b[0m\u001b[0;34m,\u001b[0m \u001b[0mlower\u001b[0m\u001b[0;34m=\u001b[0m\u001b[0mlower\u001b[0m\u001b[0;34m,\u001b[0m \u001b[0moverwrite_a\u001b[0m\u001b[0;34m=\u001b[0m\u001b[0moverwrite_a\u001b[0m\u001b[0;34m,\u001b[0m \u001b[0mclean\u001b[0m\u001b[0;34m=\u001b[0m\u001b[0mclean\u001b[0m\u001b[0;34m)\u001b[0m\u001b[0;34m\u001b[0m\u001b[0;34m\u001b[0m\u001b[0m\n\u001b[1;32m     36\u001b[0m     \u001b[0;32mif\u001b[0m \u001b[0minfo\u001b[0m \u001b[0;34m>\u001b[0m \u001b[0;36m0\u001b[0m\u001b[0;34m:\u001b[0m\u001b[0;34m\u001b[0m\u001b[0;34m\u001b[0m\u001b[0m\n\u001b[0;32m---> 37\u001b[0;31m         raise LinAlgError(\"%d-th leading minor of the array is not positive \"\n\u001b[0m\u001b[1;32m     38\u001b[0m                           \"definite\" % info)\n\u001b[1;32m     39\u001b[0m     \u001b[0;32mif\u001b[0m \u001b[0minfo\u001b[0m \u001b[0;34m<\u001b[0m \u001b[0;36m0\u001b[0m\u001b[0;34m:\u001b[0m\u001b[0;34m\u001b[0m\u001b[0;34m\u001b[0m\u001b[0m\n",
      "\u001b[0;31mLinAlgError\u001b[0m: 7-th leading minor of the array is not positive definite"
     ]
    }
   ],
   "source": [
    "while((Cn[n] > epsilon) & (n < Niter)):\n",
    "    n = n+1\n",
    "    if (n == 0):\n",
    "        theta = np.append(theta, th0)\n",
    "        x = np.random.normal(size = (N, D))\n",
    "    else:\n",
    "        Cn = np.append(Cn, np.prod(1-gamma[1:]))\n",
    "#         theta = np.append(theta, theta[n-1] + gamma[n]*(np.sum(np.sum(x, axis = 1)*W)-D*theta[n-1]))\n",
    "        theta = np.append(theta, theta_mle)\n",
    "        # resample\n",
    "        ancestors = rs.resampling('stratified', W)\n",
    "        x = x[ancestors, :]\n",
    "        # MCMC move\n",
    "        prop = md_lvm.rwm_proposal(x, W)\n",
    "        x = md_lvm.rwm_accept_toy_lvm(x, prop, theta[:n], gamma[:n], y)\n",
    "    # reweight\n",
    "    logW = md_lvm.ll_toy_lvm(theta[n], x, y) + 0.5*np.prod(1-gamma[:n])*np.sum(x**2, axis = 1)\n",
    "    for k in range(n):\n",
    "        logW = logW - gamma[k]*np.prod(1-gamma[k:n])*md_lvm.ll_toy_lvm(theta[k], x, y)\n",
    "    new_l = next_gamma_md(gamma[n], 0.5, logW)\n",
    "    gamma = np.append(gamma, new_l)\n",
    "    logW = gamma[n+1]*logW\n",
    "    W = rs.exp_and_normalise(logW)"
   ]
  },
  {
   "cell_type": "code",
   "execution_count": 52,
   "id": "4aa18aeb",
   "metadata": {},
   "outputs": [
    {
     "data": {
      "text/plain": [
       "[<matplotlib.lines.Line2D at 0x7f9072f74160>]"
      ]
     },
     "execution_count": 52,
     "metadata": {},
     "output_type": "execute_result"
    },
    {
     "data": {
      "image/png": "[encoded data removed]",
      "text/plain": [
       "<Figure size 432x288 with 1 Axes>"
      ]
     },
     "metadata": {
      "needs_background": "light"
     },
     "output_type": "display_data"
    }
   ],
   "source": [
    "# plt.yscale(\"log\")\n",
    "plt.plot(Cn)\n",
    "plt.plot(gamma)"
   ]
  },
  {
   "cell_type": "code",
   "execution_count": 62,
   "id": "ec5d8824",
   "metadata": {},
   "outputs": [
    {
     "data": {
      "text/plain": [
       "array([0.        , 0.08204945, 1.        ])"
      ]
     },
     "execution_count": 62,
     "metadata": {},
     "output_type": "execute_result"
    }
   ],
   "source": [
    "gamma"
   ]
  },
  {
   "cell_type": "code",
   "execution_count": 54,
   "id": "eea7885a",
   "metadata": {},
   "outputs": [
    {
     "data": {
      "text/plain": [
       "[<matplotlib.lines.Line2D at 0x7f9072fd7cd0>]"
      ]
     },
     "execution_count": 54,
     "metadata": {},
     "output_type": "execute_result"
    },
    {
     "data": {
      "image/png": "[encoded data removed]",
      "text/plain": [
       "<Figure size 432x288 with 1 Axes>"
      ]
     },
     "metadata": {
      "needs_background": "light"
     },
     "output_type": "display_data"
    }
   ],
   "source": [
    "plt.hist(x[:, 0], density = True, bins = 50, weights = W, label='MD');\n",
    "plt.plot(np.linspace(-5, 5, 100), norm.pdf(np.linspace(-5, 5, 100), scale = np.sqrt(0.5), loc = 0.5*(np.mean(y)+1)))\n",
    "# plt.plot(np.linspace(-5, 5, 100), norm.pdf(np.linspace(-5, 5, 100)))"
   ]
  },
  {
   "cell_type": "code",
   "execution_count": 55,
   "id": "4535a877",
   "metadata": {},
   "outputs": [
    {
     "data": {
      "text/plain": [
       "(0.0, 500.0)"
      ]
     },
     "execution_count": 55,
     "metadata": {},
     "output_type": "execute_result"
    },
    {
     "data": {
      "image/png": "[encoded data removed]",
      "text/plain": [
       "<Figure size 432x288 with 1 Axes>"
      ]
     },
     "metadata": {
      "needs_background": "light"
     },
     "output_type": "display_data"
    }
   ],
   "source": [
    "plt.plot(theta, label='MD', alpha = 0.5)\n",
    "plt.plot(y.mean()*np.ones(Niter), label='Optimal theta')\n",
    "plt.legend(loc='lower right')\n",
    "plt.ylim([0, 1.2*y.mean()])\n",
    "plt.xlim([0, Niter])\n",
    "# plt.savefig('toy_optimal_gamma.pdf', bbox_inches=\"tight\")"
   ]
  },
  {
   "cell_type": "code",
   "execution_count": 34,
   "id": "26dcc240",
   "metadata": {},
   "outputs": [
    {
     "data": {
      "text/plain": [
       "array([0.        , 0.00631077, 0.01876765, 0.04018923, 0.07233937,\n",
       "       0.11644211, 0.18654208, 0.30577744, 0.42801766, 0.48199474,\n",
       "       0.50456706, 0.51353216, 0.51290015])"
      ]
     },
     "execution_count": 34,
     "metadata": {},
     "output_type": "execute_result"
    }
   ],
   "source": [
    "theta"
   ]
  }
 ],
 "metadata": {
  "kernelspec": {
   "display_name": "Python 3 (ipykernel)",
   "language": "python",
   "name": "python3"
  },
  "language_info": {
   "codemirror_mode": {
    "name": "ipython",
    "version": 3
   },
   "file_extension": ".py",
   "mimetype": "text/x-python",
   "name": "python",
   "nbconvert_exporter": "python",
   "pygments_lexer": "ipython3",
   "version": "3.9.7"
  }
 },
 "nbformat": 4,
 "nbformat_minor": 5
}

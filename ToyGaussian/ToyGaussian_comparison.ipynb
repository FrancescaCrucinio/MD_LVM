{
 "cells": [
  {
   "cell_type": "markdown",
   "id": "5124b7cb",
   "metadata": {},
   "source": [
    "# Toy Latent Variable Model\n",
    "Consider a simple latent variable model where we have observations $y_1, \\dots, y_n \\in \\mathbb{R}^d$ drawn from\n",
    "    \\begin{align*}\n",
    "        z|\\theta &\\sim \\mathcal{N}(\\cdot;\\theta \\textsf{1}_d, \\textsf{Id}_d)\\\\\n",
    "        y|z &\\sim \\mathcal{N}(\\cdot;z, \\textsf{Id}_d)\n",
    "    \\end{align*}\n",
    "    where $\\theta\\in\\mathbb{R}$ and $\\textsf{1}_d, \\textsf{Id}_d$ denote the $d$-dimensional vector of ones and the $d\\times d$ identity matrix respectively."
   ]
  },
  {
   "cell_type": "code",
   "execution_count": 36,
   "id": "983df15f",
   "metadata": {},
   "outputs": [
    {
     "data": {
      "text/plain": [
       "<module 'md_lvm' from '/Users/francescacrucinio/Documents/MD_LVM/md_lvm.py'>"
      ]
     },
     "execution_count": 36,
     "metadata": {},
     "output_type": "execute_result"
    }
   ],
   "source": [
    "# standard libraries\n",
    "import importlib\n",
    "from matplotlib import pyplot as plt\n",
    "import numpy as np\n",
    "from scipy.stats import norm\n",
    "from scipy import linalg, stats, optimize\n",
    "import time\n",
    "import sys\n",
    "sys.path.append('/Users/francescacrucinio/Documents/MD_LVM')\n",
    "\n",
    "# modules from particles\n",
    "import particles  # core module\n",
    "from particles import smc_samplers as ssp\n",
    "from particles import distributions as dists  # where probability distributions are defined\n",
    "from particles import resampling as rs\n",
    "\n",
    "\n",
    "import pgd\n",
    "import md_lvm\n",
    "importlib.reload(pgd)\n",
    "importlib.reload(md_lvm)"
   ]
  },
  {
   "cell_type": "markdown",
   "id": "22f2ea68",
   "metadata": {},
   "source": [
    "## Data"
   ]
  },
  {
   "cell_type": "code",
   "execution_count": 19,
   "id": "c9c91eb3",
   "metadata": {},
   "outputs": [],
   "source": [
    "D = 50  # Dimensionality of latent variables.\n",
    "thdata = 1  # Parameter value used to generate the data.\n",
    "\n",
    "# Generate the data:\n",
    "y = np.random.normal(0, 1, (D, 1)) + np.random.normal(thdata, 1, (D, 1))"
   ]
  },
  {
   "cell_type": "code",
   "execution_count": 20,
   "id": "f83be260",
   "metadata": {},
   "outputs": [
    {
     "data": {
      "text/plain": [
       "0.6096408318585083"
      ]
     },
     "execution_count": 20,
     "metadata": {},
     "output_type": "execute_result"
    }
   ],
   "source": [
    "# get MLE\n",
    "theta_mle = np.mean(y)\n",
    "theta_mle"
   ]
  },
  {
   "cell_type": "markdown",
   "id": "e45b3527",
   "metadata": {},
   "source": [
    "## Compare PGD, IPLA and MD with different stepsizes"
   ]
  },
  {
   "cell_type": "code",
   "execution_count": 47,
   "id": "9bb2f9ce",
   "metadata": {},
   "outputs": [],
   "source": [
    "#Set approximation parameters:\n",
    "Niter = 1500  # Number of steps.\n",
    "N = 1000  # Number of particles.\n",
    "\n",
    "th0 = np.array([0.0])  # Initial parameter guess.\n",
    "X0 = np.random.normal(size = (D, N))  # Initial particle cloud."
   ]
  },
  {
   "cell_type": "code",
   "execution_count": 48,
   "id": "e5bd8b6b",
   "metadata": {},
   "outputs": [
    {
     "data": {
      "text/plain": [
       "0.038461538461538464"
      ]
     },
     "execution_count": 48,
     "metadata": {},
     "output_type": "execute_result"
    }
   ],
   "source": [
    "optimal_stepsize = 2/(2+D)\n",
    "optimal_stepsize"
   ]
  },
  {
   "cell_type": "markdown",
   "id": "6b4a6c58",
   "metadata": {},
   "source": [
    "### Optimal"
   ]
  },
  {
   "cell_type": "code",
   "execution_count": 49,
   "id": "4224d5eb",
   "metadata": {},
   "outputs": [
    {
     "ename": "LinAlgError",
     "evalue": "33-th leading minor of the array is not positive definite",
     "output_type": "error",
     "traceback": [
      "\u001b[0;31m---------------------------------------------------------------------------\u001b[0m",
      "\u001b[0;31mLinAlgError\u001b[0m                               Traceback (most recent call last)",
      "\u001b[0;32m/var/folders/yb/2yx4lkb90l57vb9ljkzffpq40000gn/T/ipykernel_55783/535574826.py\u001b[0m in \u001b[0;36m<module>\u001b[0;34m\u001b[0m\n\u001b[1;32m     13\u001b[0m \u001b[0;31m# print(end-start)\u001b[0m\u001b[0;34m\u001b[0m\u001b[0;34m\u001b[0m\u001b[0m\n\u001b[1;32m     14\u001b[0m \u001b[0mstart\u001b[0m \u001b[0;34m=\u001b[0m \u001b[0mtime\u001b[0m\u001b[0;34m.\u001b[0m\u001b[0mtime\u001b[0m\u001b[0;34m(\u001b[0m\u001b[0;34m)\u001b[0m\u001b[0;34m\u001b[0m\u001b[0;34m\u001b[0m\u001b[0m\n\u001b[0;32m---> 15\u001b[0;31m \u001b[0mth_md2\u001b[0m\u001b[0;34m,\u001b[0m \u001b[0mX_md2\u001b[0m\u001b[0;34m,\u001b[0m \u001b[0mW_md2\u001b[0m \u001b[0;34m=\u001b[0m \u001b[0mmd_lvm\u001b[0m\u001b[0;34m.\u001b[0m\u001b[0mmd_toy_lvm_fast\u001b[0m\u001b[0;34m(\u001b[0m\u001b[0my\u001b[0m\u001b[0;34m,\u001b[0m \u001b[0moptimal_stepsize\u001b[0m\u001b[0;34m,\u001b[0m \u001b[0mNiter\u001b[0m\u001b[0;34m,\u001b[0m \u001b[0mN\u001b[0m\u001b[0;34m,\u001b[0m \u001b[0mth0\u001b[0m\u001b[0;34m,\u001b[0m \u001b[0mX0\u001b[0m\u001b[0;34m.\u001b[0m\u001b[0mT\u001b[0m\u001b[0;34m)\u001b[0m\u001b[0;34m\u001b[0m\u001b[0;34m\u001b[0m\u001b[0m\n\u001b[0m\u001b[1;32m     16\u001b[0m \u001b[0mend\u001b[0m \u001b[0;34m=\u001b[0m \u001b[0mtime\u001b[0m\u001b[0;34m.\u001b[0m\u001b[0mtime\u001b[0m\u001b[0;34m(\u001b[0m\u001b[0;34m)\u001b[0m\u001b[0;34m\u001b[0m\u001b[0;34m\u001b[0m\u001b[0m\n\u001b[1;32m     17\u001b[0m \u001b[0mprint\u001b[0m\u001b[0;34m(\u001b[0m\u001b[0mend\u001b[0m\u001b[0;34m-\u001b[0m\u001b[0mstart\u001b[0m\u001b[0;34m)\u001b[0m\u001b[0;34m\u001b[0m\u001b[0;34m\u001b[0m\u001b[0m\n",
      "\u001b[0;32m~/Documents/MD_LVM/md_lvm.py\u001b[0m in \u001b[0;36mmd_toy_lvm_fast\u001b[0;34m(y, gamma, Niter, N, th0, X0)\u001b[0m\n\u001b[1;32m     81\u001b[0m             \u001b[0mx\u001b[0m\u001b[0;34m[\u001b[0m\u001b[0mn\u001b[0m\u001b[0;34m-\u001b[0m\u001b[0;36m1\u001b[0m\u001b[0;34m,\u001b[0m \u001b[0;34m:\u001b[0m\u001b[0;34m,\u001b[0m \u001b[0;34m:\u001b[0m\u001b[0;34m]\u001b[0m \u001b[0;34m=\u001b[0m \u001b[0mx\u001b[0m\u001b[0;34m[\u001b[0m\u001b[0mn\u001b[0m\u001b[0;34m-\u001b[0m\u001b[0;36m1\u001b[0m\u001b[0;34m,\u001b[0m \u001b[0mancestors\u001b[0m\u001b[0;34m,\u001b[0m \u001b[0;34m:\u001b[0m\u001b[0;34m]\u001b[0m\u001b[0;34m\u001b[0m\u001b[0;34m\u001b[0m\u001b[0m\n\u001b[1;32m     82\u001b[0m         \u001b[0;31m# MCMC move\u001b[0m\u001b[0;34m\u001b[0m\u001b[0;34m\u001b[0m\u001b[0m\n\u001b[0;32m---> 83\u001b[0;31m         \u001b[0mprop\u001b[0m \u001b[0;34m=\u001b[0m \u001b[0mrwm_proposal\u001b[0m\u001b[0;34m(\u001b[0m\u001b[0mx\u001b[0m\u001b[0;34m[\u001b[0m\u001b[0mn\u001b[0m\u001b[0;34m-\u001b[0m\u001b[0;36m1\u001b[0m\u001b[0;34m,\u001b[0m \u001b[0;34m:\u001b[0m\u001b[0;34m,\u001b[0m \u001b[0;34m:\u001b[0m\u001b[0;34m]\u001b[0m\u001b[0;34m,\u001b[0m \u001b[0mW\u001b[0m\u001b[0;34m)\u001b[0m\u001b[0;34m\u001b[0m\u001b[0;34m\u001b[0m\u001b[0m\n\u001b[0m\u001b[1;32m     84\u001b[0m         \u001b[0mx\u001b[0m\u001b[0;34m[\u001b[0m\u001b[0mn\u001b[0m\u001b[0;34m,\u001b[0m \u001b[0;34m:\u001b[0m\u001b[0;34m,\u001b[0m \u001b[0;34m:\u001b[0m\u001b[0;34m]\u001b[0m \u001b[0;34m=\u001b[0m \u001b[0mrwm_accept_toy_lvm_fast\u001b[0m\u001b[0;34m(\u001b[0m\u001b[0mx\u001b[0m\u001b[0;34m[\u001b[0m\u001b[0mn\u001b[0m\u001b[0;34m-\u001b[0m\u001b[0;36m1\u001b[0m\u001b[0;34m,\u001b[0m \u001b[0;34m:\u001b[0m\u001b[0;34m,\u001b[0m \u001b[0;34m:\u001b[0m\u001b[0;34m]\u001b[0m\u001b[0;34m,\u001b[0m \u001b[0mprop\u001b[0m\u001b[0;34m,\u001b[0m \u001b[0mtheta\u001b[0m\u001b[0;34m[\u001b[0m\u001b[0mn\u001b[0m\u001b[0;34m-\u001b[0m\u001b[0;36m1\u001b[0m\u001b[0;34m]\u001b[0m\u001b[0;34m,\u001b[0m \u001b[0mgamma\u001b[0m\u001b[0;34m,\u001b[0m \u001b[0my\u001b[0m\u001b[0;34m,\u001b[0m \u001b[0mn\u001b[0m\u001b[0;34m)\u001b[0m\u001b[0;34m\u001b[0m\u001b[0;34m\u001b[0m\u001b[0m\n\u001b[1;32m     85\u001b[0m         \u001b[0;31m# reweight\u001b[0m\u001b[0;34m\u001b[0m\u001b[0;34m\u001b[0m\u001b[0m\n",
      "\u001b[0;32m~/Documents/MD_LVM/md_lvm.py\u001b[0m in \u001b[0;36mrwm_proposal\u001b[0;34m(v, W)\u001b[0m\n\u001b[1;32m     14\u001b[0m     \u001b[0mm\u001b[0m\u001b[0;34m,\u001b[0m \u001b[0mcov\u001b[0m \u001b[0;34m=\u001b[0m \u001b[0mrs\u001b[0m\u001b[0;34m.\u001b[0m\u001b[0mwmean_and_cov\u001b[0m\u001b[0;34m(\u001b[0m\u001b[0mW\u001b[0m\u001b[0;34m,\u001b[0m \u001b[0marr\u001b[0m\u001b[0;34m)\u001b[0m\u001b[0;34m\u001b[0m\u001b[0;34m\u001b[0m\u001b[0m\n\u001b[1;32m     15\u001b[0m     \u001b[0mscale\u001b[0m \u001b[0;34m=\u001b[0m \u001b[0;36m2.38\u001b[0m \u001b[0;34m/\u001b[0m \u001b[0mnp\u001b[0m\u001b[0;34m.\u001b[0m\u001b[0msqrt\u001b[0m\u001b[0;34m(\u001b[0m\u001b[0md\u001b[0m\u001b[0;34m)\u001b[0m\u001b[0;34m\u001b[0m\u001b[0;34m\u001b[0m\u001b[0m\n\u001b[0;32m---> 16\u001b[0;31m     \u001b[0mL\u001b[0m \u001b[0;34m=\u001b[0m \u001b[0mscale\u001b[0m \u001b[0;34m*\u001b[0m \u001b[0mlinalg\u001b[0m\u001b[0;34m.\u001b[0m\u001b[0mcholesky\u001b[0m\u001b[0;34m(\u001b[0m\u001b[0mcov\u001b[0m\u001b[0;34m,\u001b[0m \u001b[0mlower\u001b[0m\u001b[0;34m=\u001b[0m\u001b[0;32mTrue\u001b[0m\u001b[0;34m)\u001b[0m\u001b[0;34m\u001b[0m\u001b[0;34m\u001b[0m\u001b[0m\n\u001b[0m\u001b[1;32m     17\u001b[0m     \u001b[0marr_prop\u001b[0m \u001b[0;34m=\u001b[0m \u001b[0marr\u001b[0m \u001b[0;34m+\u001b[0m \u001b[0mstats\u001b[0m\u001b[0;34m.\u001b[0m\u001b[0mnorm\u001b[0m\u001b[0;34m.\u001b[0m\u001b[0mrvs\u001b[0m\u001b[0;34m(\u001b[0m\u001b[0msize\u001b[0m\u001b[0;34m=\u001b[0m\u001b[0marr\u001b[0m\u001b[0;34m.\u001b[0m\u001b[0mshape\u001b[0m\u001b[0;34m)\u001b[0m \u001b[0;34m@\u001b[0m \u001b[0mL\u001b[0m\u001b[0;34m.\u001b[0m\u001b[0mT\u001b[0m\u001b[0;34m\u001b[0m\u001b[0;34m\u001b[0m\u001b[0m\n\u001b[1;32m     18\u001b[0m     \u001b[0;32mreturn\u001b[0m \u001b[0marr_prop\u001b[0m\u001b[0;34m\u001b[0m\u001b[0;34m\u001b[0m\u001b[0m\n",
      "\u001b[0;32m~/opt/anaconda3/lib/python3.9/site-packages/scipy/linalg/decomp_cholesky.py\u001b[0m in \u001b[0;36mcholesky\u001b[0;34m(a, lower, overwrite_a, check_finite)\u001b[0m\n\u001b[1;32m     86\u001b[0m \u001b[0;34m\u001b[0m\u001b[0m\n\u001b[1;32m     87\u001b[0m     \"\"\"\n\u001b[0;32m---> 88\u001b[0;31m     c, lower = _cholesky(a, lower=lower, overwrite_a=overwrite_a, clean=True,\n\u001b[0m\u001b[1;32m     89\u001b[0m                          check_finite=check_finite)\n\u001b[1;32m     90\u001b[0m     \u001b[0;32mreturn\u001b[0m \u001b[0mc\u001b[0m\u001b[0;34m\u001b[0m\u001b[0;34m\u001b[0m\u001b[0m\n",
      "\u001b[0;32m~/opt/anaconda3/lib/python3.9/site-packages/scipy/linalg/decomp_cholesky.py\u001b[0m in \u001b[0;36m_cholesky\u001b[0;34m(a, lower, overwrite_a, clean, check_finite)\u001b[0m\n\u001b[1;32m     35\u001b[0m     \u001b[0mc\u001b[0m\u001b[0;34m,\u001b[0m \u001b[0minfo\u001b[0m \u001b[0;34m=\u001b[0m \u001b[0mpotrf\u001b[0m\u001b[0;34m(\u001b[0m\u001b[0ma1\u001b[0m\u001b[0;34m,\u001b[0m \u001b[0mlower\u001b[0m\u001b[0;34m=\u001b[0m\u001b[0mlower\u001b[0m\u001b[0;34m,\u001b[0m \u001b[0moverwrite_a\u001b[0m\u001b[0;34m=\u001b[0m\u001b[0moverwrite_a\u001b[0m\u001b[0;34m,\u001b[0m \u001b[0mclean\u001b[0m\u001b[0;34m=\u001b[0m\u001b[0mclean\u001b[0m\u001b[0;34m)\u001b[0m\u001b[0;34m\u001b[0m\u001b[0;34m\u001b[0m\u001b[0m\n\u001b[1;32m     36\u001b[0m     \u001b[0;32mif\u001b[0m \u001b[0minfo\u001b[0m \u001b[0;34m>\u001b[0m \u001b[0;36m0\u001b[0m\u001b[0;34m:\u001b[0m\u001b[0;34m\u001b[0m\u001b[0;34m\u001b[0m\u001b[0m\n\u001b[0;32m---> 37\u001b[0;31m         raise LinAlgError(\"%d-th leading minor of the array is not positive \"\n\u001b[0m\u001b[1;32m     38\u001b[0m                           \"definite\" % info)\n\u001b[1;32m     39\u001b[0m     \u001b[0;32mif\u001b[0m \u001b[0minfo\u001b[0m \u001b[0;34m<\u001b[0m \u001b[0;36m0\u001b[0m\u001b[0;34m:\u001b[0m\u001b[0;34m\u001b[0m\u001b[0;34m\u001b[0m\u001b[0m\n",
      "\u001b[0;31mLinAlgError\u001b[0m: 33-th leading minor of the array is not positive definite"
     ]
    }
   ],
   "source": [
    "# # Run the algorithms using the optimal step-sizes:\n",
    "# start = time.time()\n",
    "# th_pgd, X_pgd = pgd.pgd_tg(y, optimal_stepsize, Niter, N, th0, X0)\n",
    "# end = time.time()\n",
    "# print(end-start)\n",
    "# start = time.time()\n",
    "# th_ipla, X_ipla = pgd.ipla_tg(y, optimal_stepsize, Niter, N, th0, X0)\n",
    "# end = time.time()\n",
    "# print(end-start)\n",
    "# start = time.time()\n",
    "# th_md, X_md, W_md = md_lvm.md_toy_lvm(y, optimal_stepsize, Niter, N, th0, X0.T)\n",
    "# end = time.time()\n",
    "# print(end-start)\n",
    "start = time.time()\n",
    "th_md2, X_md2, W_md2 = md_lvm.md_toy_lvm_fast(y, optimal_stepsize, Niter, N, th0, X0.T)\n",
    "end = time.time()\n",
    "print(end-start)"
   ]
  },
  {
   "cell_type": "code",
   "execution_count": null,
   "id": "b1663caf",
   "metadata": {},
   "outputs": [],
   "source": [
    "# Plot parameter estimates as a function of step number k:\n",
    "plt.plot(th_pgd, label='PGD', alpha = 0.5)\n",
    "plt.plot(th_ipla, label='IPLA', alpha = 0.5)\n",
    "plt.plot(th_md, label='MD', alpha = 0.5)\n",
    "plt.plot(th_md2, label='SMC', alpha = 0.5)\n",
    "plt.plot(y.mean()*np.ones(Niter), label='Optimal theta', c = 'black', linestyle = 'dashed', lw = 2)\n",
    "plt.legend(loc='lower right')\n",
    "plt.ylim([0, 1.2*y.mean()])\n",
    "plt.xlim([0, Niter])\n",
    "# plt.savefig('toy_optimal_gamma.pdf', bbox_inches=\"tight\")"
   ]
  },
  {
   "cell_type": "code",
   "execution_count": null,
   "id": "ff6f6d87",
   "metadata": {},
   "outputs": [],
   "source": [
    "fig, (ax1, ax2) = plt.subplots(2)\n",
    "ax1.hist(X_pgd[0, :], density = True, bins = 50, label='PGD');\n",
    "ax1.hist(X_ipla[0, :], density = True, bins = 50, label='IPLA');\n",
    "ax1.plot(np.linspace(-5, 5, 100), norm.pdf(np.linspace(-5, 5, 100), scale = np.sqrt(0.5), loc = 0.5*(np.mean(y)+1)), label = 'True posterior')\n",
    "ax1.legend()\n",
    "ax2.hist(X_md[Niter-1, :, 0], density = True, bins = 50, weights = W_md, label='MD');\n",
    "ax2.hist(X_md2[Niter-1, :, 0], density = True, bins = 50, weights = W_md2, label='MD');\n",
    "ax2.plot(np.linspace(-5, 5, 100), norm.pdf(np.linspace(-5, 5, 100), scale = np.sqrt(0.5), loc = 0.5*(np.mean(y)+1)), label = 'True posterior')\n",
    "ax2.legend()"
   ]
  }
 ],
 "metadata": {
  "kernelspec": {
   "display_name": "Python 3 (ipykernel)",
   "language": "python",
   "name": "python3"
  },
  "language_info": {
   "codemirror_mode": {
    "name": "ipython",
    "version": 3
   },
   "file_extension": ".py",
   "mimetype": "text/x-python",
   "name": "python",
   "nbconvert_exporter": "python",
   "pygments_lexer": "ipython3",
   "version": "3.9.7"
  }
 },
 "nbformat": 4,
 "nbformat_minor": 5
}

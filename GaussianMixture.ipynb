{
 "cells": [
  {
   "cell_type": "code",
   "execution_count": 1,
   "id": "375bf31f",
   "metadata": {},
   "outputs": [
    {
     "data": {
      "text/plain": [
       "<module 'md_lvm' from '/Users/francescacrucinio/Documents/MD_LVM/md_lvm.py'>"
      ]
     },
     "execution_count": 1,
     "metadata": {},
     "output_type": "execute_result"
    }
   ],
   "source": [
    "# standard libraries\n",
    "import importlib\n",
    "from matplotlib import pyplot as plt\n",
    "import numpy as np\n",
    "from scipy.stats import norm\n",
    "from scipy import linalg, stats, optimize\n",
    "from copy import deepcopy\n",
    "import sys\n",
    "sys.path.append('/Users/francescacrucinio/Documents/MD_LVM')\n",
    "\n",
    "import md_lvm\n",
    "importlib.reload(md_lvm)"
   ]
  },
  {
   "cell_type": "code",
   "execution_count": 2,
   "id": "6a567b35",
   "metadata": {},
   "outputs": [],
   "source": [
    "alpha = 0.7\n",
    "theta = 1\n",
    "ndata = 1000"
   ]
  },
  {
   "cell_type": "code",
   "execution_count": 3,
   "id": "b6ab492b",
   "metadata": {},
   "outputs": [],
   "source": [
    "X0 = np.random.randn(ndata, 1).astype('float32')\n",
    "X = deepcopy(X0)\n",
    "X[:int(ndata*alpha), 0] += theta\n",
    "X[int(ndata*alpha):ndata, 0] += -theta"
   ]
  },
  {
   "cell_type": "code",
   "execution_count": 4,
   "id": "1a0533f2",
   "metadata": {},
   "outputs": [],
   "source": [
    "y = X.flatten()"
   ]
  },
  {
   "cell_type": "code",
   "execution_count": 5,
   "id": "d21576c4",
   "metadata": {},
   "outputs": [],
   "source": [
    "Niter = 100\n",
    "N = ndata\n",
    "gamma = 0.05"
   ]
  },
  {
   "cell_type": "code",
   "execution_count": 6,
   "id": "069f3bf4",
   "metadata": {},
   "outputs": [],
   "source": [
    "theta_md, x_md, W_md = md_lvm.md_gmm_fast(y, gamma, Niter, N, -1, 2*np.random.binomial(1, 0.5, N)-1, alpha)"
   ]
  },
  {
   "cell_type": "code",
   "execution_count": 7,
   "id": "897ea2c9",
   "metadata": {},
   "outputs": [
    {
     "data": {
      "text/plain": [
       "<matplotlib.legend.Legend at 0x7fb079324d60>"
      ]
     },
     "execution_count": 7,
     "metadata": {},
     "output_type": "execute_result"
    },
    {
     "data": {
      "image/png": "[encoded data removed]",
      "text/plain": [
       "<Figure size 432x288 with 1 Axes>"
      ]
     },
     "metadata": {
      "needs_background": "light"
     },
     "output_type": "display_data"
    }
   ],
   "source": [
    "plt.plot(theta_md, label='SMCs-LVM')\n",
    "plt.plot(theta*np.ones(Niter), label='True theta', c = 'black', linestyle = 'dashed', lw = 2)\n",
    "plt.legend(loc='right')"
   ]
  },
  {
   "cell_type": "code",
   "execution_count": 8,
   "id": "99e184e6",
   "metadata": {},
   "outputs": [
    {
     "data": {
      "text/plain": [
       "0.9929976852118958"
      ]
     },
     "execution_count": 8,
     "metadata": {},
     "output_type": "execute_result"
    }
   ],
   "source": [
    "np.sum((x_md[Niter-1, :]==1)*W_md)"
   ]
  },
  {
   "cell_type": "code",
   "execution_count": 9,
   "id": "5143ccd2",
   "metadata": {},
   "outputs": [
    {
     "data": {
      "text/plain": [
       "0.4202806075183516"
      ]
     },
     "execution_count": 9,
     "metadata": {},
     "output_type": "execute_result"
    }
   ],
   "source": [
    "theta_md[-1]"
   ]
  }
 ],
 "metadata": {
  "kernelspec": {
   "display_name": "Python 3 (ipykernel)",
   "language": "python",
   "name": "python3"
  },
  "language_info": {
   "codemirror_mode": {
    "name": "ipython",
    "version": 3
   },
   "file_extension": ".py",
   "mimetype": "text/x-python",
   "name": "python",
   "nbconvert_exporter": "python",
   "pygments_lexer": "ipython3",
   "version": "3.9.7"
  }
 },
 "nbformat": 4,
 "nbformat_minor": 5
}

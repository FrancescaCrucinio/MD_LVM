{
 "cells": [
  {
   "cell_type": "code",
   "execution_count": 1,
   "id": "9ebd3baf",
   "metadata": {},
   "outputs": [
    {
     "data": {
      "text/plain": [
       "<module 'saem' from '/Users/francescacrucinio/Documents/PAPERS/SUBMITTED/MD_LVM/saem.py'>"
      ]
     },
     "execution_count": 1,
     "metadata": {},
     "output_type": "execute_result"
    }
   ],
   "source": [
    "# standard libraries\n",
    "import importlib\n",
    "import networkx as nx\n",
    "import pandas as pd\n",
    "import matplotlib.pyplot as plt\n",
    "import numpy as np\n",
    "import time\n",
    "\n",
    "from particles import resampling as rs\n",
    "\n",
    "import md_lvm\n",
    "importlib.reload(md_lvm)\n",
    "import saem\n",
    "importlib.reload(saem)"
   ]
  },
  {
   "cell_type": "code",
   "execution_count": 2,
   "id": "f91200cf",
   "metadata": {},
   "outputs": [],
   "source": [
    "# Load karate graph and find communities using Girvan-Newman\n",
    "G = nx.karate_club_graph()"
   ]
  },
  {
   "cell_type": "code",
   "execution_count": 3,
   "id": "02b9560d",
   "metadata": {},
   "outputs": [],
   "source": [
    "y = nx.to_numpy_array(G)\n",
    "degree = np.array(G.degree)[:, 1]"
   ]
  },
  {
   "cell_type": "code",
   "execution_count": 4,
   "id": "0f6b217e",
   "metadata": {},
   "outputs": [],
   "source": [
    "z = np.zeros(y.shape[0])\n",
    "for i in range(degree.size):\n",
    "    if (degree[i] > 8):\n",
    "        z[i] = 1"
   ]
  },
  {
   "cell_type": "code",
   "execution_count": 5,
   "id": "8d2d428f",
   "metadata": {},
   "outputs": [
    {
     "data": {
      "text/plain": [
       "array([1., 1., 1., 0., 0., 0., 0., 0., 0., 0., 0., 0., 0., 0., 0., 0., 0.,\n",
       "       0., 0., 0., 0., 0., 0., 0., 0., 0., 0., 0., 0., 0., 0., 0., 1., 1.])"
      ]
     },
     "execution_count": 5,
     "metadata": {},
     "output_type": "execute_result"
    }
   ],
   "source": [
    "z"
   ]
  },
  {
   "cell_type": "markdown",
   "id": "e129b7f0",
   "metadata": {},
   "source": [
    "## SAEM"
   ]
  },
  {
   "cell_type": "code",
   "execution_count": 6,
   "id": "3b9cbaf1",
   "metadata": {},
   "outputs": [],
   "source": [
    "Niter = 1000\n",
    "N = y.shape[0]\n",
    "theta0 = np.array([0.3, 0.3, 0.3, 0.3, 0.3])\n",
    "tol = 10**(-7)\n",
    "X0 = np.random.binomial(1, 0.5, size = N)"
   ]
  },
  {
   "cell_type": "code",
   "execution_count": 7,
   "id": "ee5dee63",
   "metadata": {},
   "outputs": [],
   "source": [
    "# SAEM\n",
    "z_iter = np.zeros([Niter, N])\n",
    "s1_iter = np.zeros(Niter)\n",
    "s2_iter = np.zeros((Niter, 4))\n",
    "s3_iter = np.zeros((Niter, 4))\n",
    "theta_saem = np.zeros((Niter, theta0.size))\n",
    "n = 0\n",
    "re = 1000\n",
    "z_iter[n, :] = X0\n",
    "theta_saem[n,:] = theta0\n",
    "while ((n < Niter-1) & (re > tol)):\n",
    "    n = n+1\n",
    "    delta = 1/n\n",
    "    z_iter[n, :] = saem.sbm_saem_proposal(y, z_iter[n-1, :], theta_saem[n-1,:])\n",
    "    s1_update, s2_update, s3_update = saem.sbm_saem_sufficient_stat(z_iter[n, :], y)\n",
    "    s1_iter[n] = s1_iter[n-1] + delta*(s1_update - s1_iter[n-1])\n",
    "    s2_iter[n, :] = s2_iter[n-1, :] + delta*(s2_update - s2_iter[n-1, :])\n",
    "    s3_iter[n, :] = s3_iter[n-1, :] + delta*(s3_update - s3_iter[n-1, :])\n",
    "    theta_saem[n,:] = saem.sbm_saem_mle(s1_iter[n], s2_iter[n,:], s3_iter[n,:], N)\n",
    "    re = np.max((theta_saem[n,:]-theta_saem[n-1,:])**2/theta_saem[n,:]**2)"
   ]
  },
  {
   "cell_type": "code",
   "execution_count": 8,
   "id": "3238bb46",
   "metadata": {},
   "outputs": [
    {
     "data": {
      "text/plain": [
       "192"
      ]
     },
     "execution_count": 8,
     "metadata": {},
     "output_type": "execute_result"
    }
   ],
   "source": [
    "n"
   ]
  },
  {
   "cell_type": "code",
   "execution_count": 9,
   "id": "1c441062",
   "metadata": {},
   "outputs": [
    {
     "data": {
      "image/png": "[encoded data removed]",
      "text/plain": [
       "<Figure size 432x288 with 1 Axes>"
      ]
     },
     "metadata": {
      "needs_background": "light"
     },
     "output_type": "display_data"
    }
   ],
   "source": [
    "plt.plot(theta_saem[:n, 1:]);"
   ]
  },
  {
   "cell_type": "code",
   "execution_count": 10,
   "id": "b6233aa2",
   "metadata": {},
   "outputs": [
    {
     "data": {
      "image/png": "[encoded data removed]",
      "text/plain": [
       "<Figure size 432x288 with 1 Axes>"
      ]
     },
     "metadata": {
      "needs_background": "light"
     },
     "output_type": "display_data"
    }
   ],
   "source": [
    "plt.plot(theta_saem[:n, 0]);"
   ]
  },
  {
   "cell_type": "code",
   "execution_count": 11,
   "id": "f4e8ccb2",
   "metadata": {},
   "outputs": [
    {
     "data": {
      "text/plain": [
       "array([1., 1., 1., 1., 0., 0., 1., 0., 0., 0., 0., 0., 0., 0., 0., 0., 0.,\n",
       "       0., 0., 0., 0., 0., 0., 1., 0., 0., 0., 0., 0., 0., 0., 0., 1., 1.])"
      ]
     },
     "execution_count": 11,
     "metadata": {},
     "output_type": "execute_result"
    }
   ],
   "source": [
    "z_iter[n,:]"
   ]
  },
  {
   "cell_type": "code",
   "execution_count": 12,
   "id": "6408af00",
   "metadata": {},
   "outputs": [
    {
     "data": {
      "text/plain": [
       "0.6211468779272836"
      ]
     },
     "execution_count": 12,
     "metadata": {},
     "output_type": "execute_result"
    }
   ],
   "source": [
    "saem.sbm_ari(z_iter[n,:], z)"
   ]
  },
  {
   "cell_type": "markdown",
   "id": "c2ca4476",
   "metadata": {},
   "source": [
    "## SMCs-LVM"
   ]
  },
  {
   "cell_type": "code",
   "execution_count": 13,
   "id": "10777781",
   "metadata": {},
   "outputs": [],
   "source": [
    "gamma = 0.1"
   ]
  },
  {
   "cell_type": "code",
   "execution_count": 14,
   "id": "77727542",
   "metadata": {},
   "outputs": [],
   "source": [
    "x_md = np.zeros((Niter, N))\n",
    "theta_md = np.zeros((Niter, theta0.size))\n",
    "n = 0\n",
    "theta_md[n, :] = theta0\n",
    "x_md[n, :] = X0\n",
    "W = np.ones(N)/N\n",
    "re = 1000"
   ]
  },
  {
   "cell_type": "code",
   "execution_count": 15,
   "id": "f2907034",
   "metadata": {},
   "outputs": [],
   "source": [
    "while ((n < Niter-1) & (re > tol)):\n",
    "    n = n+1\n",
    "#     theta_md[n, 0] = theta_md[n-1,0]+gamma*np.sum(md_lvm.sbm_gradient_p(x_md[n-1,:].astype(int), theta_md[n-1, 0])*W)\n",
    "#     theta_md[n, 1:] = theta_md[n-1, 1:]+gamma*md_lvm.sbm_gradient_nu(x_md[n-1,:].astype(int), W, theta_md[n-1, :], y)\n",
    "    theta_md[n, 0] = md_lvm.logistic_barrier_update(theta_md[n-1,0], np.sum(md_lvm.sbm_gradient_p(x_md[n-1,:].astype(int), theta_md[n-1, 0])*W), gamma)\n",
    "    gradient_nu = md_lvm.sbm_gradient_nu(x_md[n-1,:].astype(int), W, theta_md[n-1, :], y)\n",
    "    theta_md[n, 1] = md_lvm.logistic_barrier_update(theta_md[n-1,1], gradient_nu[0], gamma)\n",
    "    theta_md[n, 2] = md_lvm.logistic_barrier_update(theta_md[n-1,2], gradient_nu[1], gamma)\n",
    "    theta_md[n, 3] = md_lvm.logistic_barrier_update(theta_md[n-1,3], gradient_nu[2], gamma)\n",
    "    theta_md[n, 4] = md_lvm.logistic_barrier_update(theta_md[n-1,4], gradient_nu[3], gamma)    \n",
    "    re = np.max((theta_md[n,:]-theta_md[n-1,:])**2/theta_md[n,:]**2)\n",
    "    if (n > 1):\n",
    "        # resample\n",
    "        ancestors = rs.resampling('stratified', W)\n",
    "        x_md[n-1, :] = x_md[n-1, ancestors]\n",
    "    # MCMC move\n",
    "    x_md[n, :] = md_lvm.sbm_md_proposal(y, x_md[n-1,:].astype(int), theta_md[n-1, :], gamma, n)\n",
    "    # reweight  \n",
    "    logW = np.zeros(N)\n",
    "    for i in range(N):\n",
    "        logW[i] = (1-(1-gamma)**n)*saem.ll_sbm(theta_md[n-1, :], x_md[n, :].astype(int), y, i)+ np.log(0.5)*gamma*((1-gamma)**(n-1))\n",
    "        if(n>1):\n",
    "            logW[i] = logW[i] - (1-(1-gamma)**(n-1))*saem.ll_sbm(theta_md[n-2, :],x_md[n, :].astype(int), y, i) \n",
    "    W = rs.exp_and_normalise(logW)"
   ]
  },
  {
   "cell_type": "code",
   "execution_count": 16,
   "id": "1a934343",
   "metadata": {},
   "outputs": [
    {
     "data": {
      "text/plain": [
       "664"
      ]
     },
     "execution_count": 16,
     "metadata": {},
     "output_type": "execute_result"
    }
   ],
   "source": [
    "n"
   ]
  },
  {
   "cell_type": "code",
   "execution_count": 17,
   "id": "74b68fc1",
   "metadata": {},
   "outputs": [
    {
     "data": {
      "image/png": "[encoded data removed]",
      "text/plain": [
       "<Figure size 432x288 with 1 Axes>"
      ]
     },
     "metadata": {
      "needs_background": "light"
     },
     "output_type": "display_data"
    }
   ],
   "source": [
    "plt.plot(theta_md[:n, 1:]);"
   ]
  },
  {
   "cell_type": "code",
   "execution_count": 18,
   "id": "525f4d4d",
   "metadata": {},
   "outputs": [
    {
     "data": {
      "image/png": "[encoded data removed]",
      "text/plain": [
       "<Figure size 432x288 with 1 Axes>"
      ]
     },
     "metadata": {
      "needs_background": "light"
     },
     "output_type": "display_data"
    }
   ],
   "source": [
    "plt.plot(theta_md[:n, 0]);"
   ]
  },
  {
   "cell_type": "code",
   "execution_count": 19,
   "id": "01297490",
   "metadata": {},
   "outputs": [
    {
     "data": {
      "text/plain": [
       "array([0., 0., 0., 1., 1., 1., 1., 1., 1., 1., 1., 1., 1., 1., 1., 1., 1.,\n",
       "       1., 1., 1., 1., 1., 1., 1., 1., 1., 1., 1., 1., 1., 1., 1., 0., 0.])"
      ]
     },
     "execution_count": 19,
     "metadata": {},
     "output_type": "execute_result"
    }
   ],
   "source": [
    "x_md[n,:]"
   ]
  },
  {
   "cell_type": "code",
   "execution_count": 20,
   "id": "ac22fb57",
   "metadata": {},
   "outputs": [
    {
     "data": {
      "text/plain": [
       "1.0"
      ]
     },
     "execution_count": 20,
     "metadata": {},
     "output_type": "execute_result"
    }
   ],
   "source": [
    "saem.sbm_ari(x_md[n,:], z)"
   ]
  },
  {
   "cell_type": "markdown",
   "id": "7a6efc35",
   "metadata": {},
   "source": [
    "## Comparison"
   ]
  },
  {
   "cell_type": "code",
   "execution_count": 21,
   "id": "21aa391a",
   "metadata": {},
   "outputs": [],
   "source": [
    "Niter = 1000\n",
    "N = y.shape[0]\n",
    "tol = 10**(-7)\n",
    "X0 = np.random.binomial(1, 0.5, size = N)\n",
    "gamma = 0.1"
   ]
  },
  {
   "cell_type": "code",
   "execution_count": 22,
   "id": "25b21d40",
   "metadata": {},
   "outputs": [],
   "source": [
    "Nrep = 50\n",
    "iter_md = np.zeros(Nrep)\n",
    "times_md = np.zeros(Nrep)\n",
    "ari_md = np.zeros((Nrep))\n",
    "iter_saem = np.zeros(Nrep)\n",
    "times_saem = np.zeros(Nrep)\n",
    "ari_saem = np.zeros((Nrep))"
   ]
  },
  {
   "cell_type": "code",
   "execution_count": 23,
   "id": "45d01956",
   "metadata": {},
   "outputs": [
    {
     "name": "stderr",
     "output_type": "stream",
     "text": [
      "/Users/francescacrucinio/Documents/PAPERS/SUBMITTED/MD_LVM/saem.py:77: RuntimeWarning: divide by zero encountered in log\n",
      "  ll += y[i,j]*np.log(theta[1]) + (1-y[i,j])*np.log(1-theta[1])\n",
      "/Users/francescacrucinio/Documents/PAPERS/SUBMITTED/MD_LVM/saem.py:77: RuntimeWarning: invalid value encountered in scalar multiply\n",
      "  ll += y[i,j]*np.log(theta[1]) + (1-y[i,j])*np.log(1-theta[1])\n",
      "/Users/francescacrucinio/Documents/PAPERS/SUBMITTED/MD_LVM/saem.py:78: RuntimeWarning: divide by zero encountered in log\n",
      "  ll += y[j,i]*np.log(theta[1]) + (1-y[j,i])*np.log(1-theta[1])\n",
      "/Users/francescacrucinio/Documents/PAPERS/SUBMITTED/MD_LVM/saem.py:78: RuntimeWarning: invalid value encountered in scalar multiply\n",
      "  ll += y[j,i]*np.log(theta[1]) + (1-y[j,i])*np.log(1-theta[1])\n"
     ]
    }
   ],
   "source": [
    "for j in range(Nrep):\n",
    "    # SAEM\n",
    "    start = time.time()\n",
    "    z_iter = np.zeros([Niter, N])\n",
    "    s1_iter = np.zeros(Niter)\n",
    "    s2_iter = np.zeros((Niter, 4))\n",
    "    s3_iter = np.zeros((Niter, 4))\n",
    "    theta_saem = np.zeros((Niter, theta0.size))\n",
    "    n = 0\n",
    "    re = 1000\n",
    "    z_iter[n, :] = X0\n",
    "    theta_saem[n,:] = theta0\n",
    "    while ((n < Niter-1) & (re > tol)):\n",
    "        n = n+1\n",
    "        delta = 1/n\n",
    "        z_iter[n, :] = saem.sbm_saem_proposal(y, z_iter[n-1, :], theta_saem[n-1,:])\n",
    "        s1_update, s2_update, s3_update = saem.sbm_saem_sufficient_stat(z_iter[n, :], y)\n",
    "        s1_iter[n] = s1_iter[n-1] + delta*(s1_update - s1_iter[n-1])\n",
    "        s2_iter[n, :] = s2_iter[n-1, :] + delta*(s2_update - s2_iter[n-1, :])\n",
    "        s3_iter[n, :] = s3_iter[n-1, :] + delta*(s3_update - s3_iter[n-1, :])\n",
    "        theta_saem[n,:] = saem.sbm_saem_mle(s1_iter[n], s2_iter[n,:], s3_iter[n,:], N)\n",
    "        re = np.max((theta_saem[n,:]-theta_saem[n-1,:])**2)\n",
    "    end = time.time()\n",
    "    times_saem[j] = end-start\n",
    "    iter_saem[j] = n\n",
    "    ari_saem[j] = saem.sbm_ari(z_iter[n,:], z)\n",
    "    \n",
    "    # SMCs-LVM\n",
    "    start = time.time()\n",
    "    x_md = np.zeros((Niter, N))\n",
    "    theta_md = np.zeros((Niter, theta0.size))\n",
    "    n = 0\n",
    "    theta_md[n, :] = theta0\n",
    "    x_md[n, :] = X0\n",
    "    W = np.ones(N)/N\n",
    "    re = 1000\n",
    "    while ((n < Niter-1) & (re > tol)):\n",
    "        n = n+1\n",
    "#         theta_md[n, 0] = theta_md[n-1,0]+gamma*np.sum(md_lvm.sbm_gradient_p(x_md[n-1,:].astype(int), theta_md[n-1, 0])*W)\n",
    "#         theta_md[n, 1:] = theta_md[n-1, 1:]+gamma*md_lvm.sbm_gradient_nu(x_md[n-1,:].astype(int), W, theta_md[n-1, :], y)\n",
    "        theta_md[n, 0] = md_lvm.logistic_barrier_update(theta_md[n-1,0], np.sum(md_lvm.sbm_gradient_p(x_md[n-1,:].astype(int), theta_md[n-1, 0])*W), gamma)\n",
    "        gradient_nu = md_lvm.sbm_gradient_nu(x_md[n-1,:].astype(int), W, theta_md[n-1, :], y)\n",
    "        theta_md[n, 1] = md_lvm.logistic_barrier_update(theta_md[n-1,1], gradient_nu[0], gamma)\n",
    "        theta_md[n, 2] = md_lvm.logistic_barrier_update(theta_md[n-1,2], gradient_nu[1], gamma)\n",
    "        theta_md[n, 3] = md_lvm.logistic_barrier_update(theta_md[n-1,3], gradient_nu[2], gamma)\n",
    "        theta_md[n, 4] = md_lvm.logistic_barrier_update(theta_md[n-1,4], gradient_nu[3], gamma)    \n",
    "        re = np.max((theta_md[n,:]-theta_md[n-1,:])**2)\n",
    "        if (n > 1):\n",
    "            # resample\n",
    "            ancestors = rs.resampling('stratified', W)\n",
    "            x_md[n-1, :] = x_md[n-1, ancestors]\n",
    "        # MCMC move\n",
    "        x_md[n, :] = md_lvm.sbm_md_proposal(y, x_md[n-1,:].astype(int), theta_md[n-1, :], gamma, n)\n",
    "        # reweight  \n",
    "        logW = np.zeros(N)\n",
    "        for i in range(N):\n",
    "            logW[i] = (1-(1-gamma)**n)*saem.ll_sbm(theta_md[n-1, :], x_md[n, :].astype(int), y, i)+ np.log(0.5)*gamma*((1-gamma)**(n-1))\n",
    "            if(n>1):\n",
    "                logW[i] = logW[i] - (1-(1-gamma)**(n-1))*saem.ll_sbm(theta_md[n-2, :],x_md[n, :].astype(int), y, i) \n",
    "        W = rs.exp_and_normalise(logW)\n",
    "    end = time.time()\n",
    "    times_md[j] = end-start\n",
    "    iter_md[j] = n\n",
    "    ari_md[j] = saem.sbm_ari(x_md[n,:], z)"
   ]
  },
  {
   "cell_type": "code",
   "execution_count": 24,
   "id": "82211b10",
   "metadata": {},
   "outputs": [
    {
     "data": {
      "text/plain": [
       "(160.88, 98.86)"
      ]
     },
     "execution_count": 24,
     "metadata": {},
     "output_type": "execute_result"
    }
   ],
   "source": [
    "np.mean(iter_md), np.mean(iter_saem)"
   ]
  },
  {
   "cell_type": "code",
   "execution_count": 25,
   "id": "f6bb0da5",
   "metadata": {},
   "outputs": [
    {
     "data": {
      "text/plain": [
       "(4.661584968566895, 1.0606270837783813)"
      ]
     },
     "execution_count": 25,
     "metadata": {},
     "output_type": "execute_result"
    }
   ],
   "source": [
    "np.mean(times_md), np.mean(times_saem)"
   ]
  },
  {
   "cell_type": "code",
   "execution_count": 26,
   "id": "d9e88d1a",
   "metadata": {},
   "outputs": [
    {
     "data": {
      "text/plain": [
       "(0.9934965090238441, 0.7733035762826277)"
      ]
     },
     "execution_count": 26,
     "metadata": {},
     "output_type": "execute_result"
    }
   ],
   "source": [
    "np.mean(ari_md), np.mean(ari_saem)"
   ]
  }
 ],
 "metadata": {
  "kernelspec": {
   "display_name": "Python 3 (ipykernel)",
   "language": "python",
   "name": "python3"
  },
  "language_info": {
   "codemirror_mode": {
    "name": "ipython",
    "version": 3
   },
   "file_extension": ".py",
   "mimetype": "text/x-python",
   "name": "python",
   "nbconvert_exporter": "python",
   "pygments_lexer": "ipython3",
   "version": "3.9.7"
  }
 },
 "nbformat": 4,
 "nbformat_minor": 5
}

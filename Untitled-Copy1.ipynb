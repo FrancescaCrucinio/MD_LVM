{
 "cells": [
  {
   "cell_type": "code",
   "execution_count": 1,
   "id": "a4ae214e",
   "metadata": {},
   "outputs": [
    {
     "data": {
      "text/plain": [
       "<module 'md_lvm' from '/Users/francescacrucinio/Documents/MD_LVM/md_lvm.py'>"
      ]
     },
     "execution_count": 1,
     "metadata": {},
     "output_type": "execute_result"
    }
   ],
   "source": [
    "import numpy as np\n",
    "from scipy import stats\n",
    "from matplotlib import pyplot as plt\n",
    "import importlib\n",
    "import sys\n",
    "sys.path.append('/Users/francescacrucinio/Documents/MD_LVM')\n",
    "\n",
    "# modules from particles\n",
    "import particles  # core module\n",
    "from particles import smc_samplers as ssp\n",
    "from particles import distributions as dists  # where probability distributions are defined\n",
    "from particles import resampling as rs\n",
    "\n",
    "\n",
    "import md_lvm\n",
    "importlib.reload(md_lvm)"
   ]
  },
  {
   "cell_type": "code",
   "execution_count": 65,
   "id": "b861dd00",
   "metadata": {},
   "outputs": [],
   "source": [
    "y = np.array([-20, 1, 2, 3])\n",
    "ndata = y.size"
   ]
  },
  {
   "cell_type": "code",
   "execution_count": 66,
   "id": "adbdc73c",
   "metadata": {},
   "outputs": [],
   "source": [
    "true_theta = 1.997"
   ]
  },
  {
   "cell_type": "code",
   "execution_count": 92,
   "id": "62e69d5d",
   "metadata": {},
   "outputs": [],
   "source": [
    "N = 100\n",
    "Niter = 10000\n",
    "gamma = 0.05\n",
    "\n",
    "th0 = np.array(0)  # Initial parameter guess.\n",
    "X0 = np.random.gamma(size = (N, ndata), shape = 1)  # Initial particle cloud."
   ]
  },
  {
   "cell_type": "code",
   "execution_count": 93,
   "id": "3d926cd8",
   "metadata": {},
   "outputs": [],
   "source": [
    "def ll_multimodal(theta, x, y):\n",
    "    return -np.sum(0.475*np.log(x)+0.025*x+0.5*x*(y-theta)**2, axis = 1)"
   ]
  },
  {
   "cell_type": "code",
   "execution_count": 94,
   "id": "52413f5f",
   "metadata": {},
   "outputs": [],
   "source": [
    "def rwm_accept_multimodal_fast(v, prop, theta_current, gamma, data, n):\n",
    "    log_acceptance = 0.5*(1-gamma)**n*np.sum(v**2 - prop**2, axis = 1)+(1-(1-gamma)**n)*(ll_multimodal(theta_current, prop, data) - ll_multimodal(theta_current, v, data))\n",
    "    accepted = np.log(np.random.uniform(size = v.shape[0])) <= log_acceptance\n",
    "    ssp.view_2d_array(v)\n",
    "    output = ssp.view_2d_array(v)\n",
    "    output[accepted, :] = prop[accepted, :]\n",
    "    return output\n",
    "\n",
    "def md_multinomial_fast(y, gamma, Niter, N, th0, X0):\n",
    "    ndata = y.size\n",
    "    x = np.zeros((Niter, N, ndata))\n",
    "    theta = np.zeros(Niter)\n",
    "    theta[0] = th0\n",
    "    x[0, :, :] = X0\n",
    "    W = np.ones(N)/N\n",
    "    for n in range(1, Niter):\n",
    "        theta[n] = theta[n-1] + gamma*np.sum(np.sum(x[n-1, :, :]*(y-theta[n-1]), axis = 1)*W)\n",
    "        if (n > 1):\n",
    "            # resample\n",
    "            ancestors = rs.resampling('stratified', W)\n",
    "            x[n-1, :, :] = x[n-1, ancestors, :]\n",
    "        # MCMC move\n",
    "        prop = md_lvm.rwm_proposal(x[n-1, :, :], W)\n",
    "        x[n, :] = rwm_accept_multimodal_fast(x[n-1, :, :], prop, theta[n-1], gamma, y, n)\n",
    "        # reweight  \n",
    "        logW = (1-(1-gamma)**n)*ll_multimodal(theta[n-1], x[n, :, :], y) + 0.5*gamma*(1-gamma)**(n-1)*np.sum(x[n, :, :]**2, axis = 1)\n",
    "        if(n>1):\n",
    "            logW = logW - (1-(1-gamma)**(n-1))*ll_multimodal(theta[n-2], x[n, :, :], y) \n",
    "        W = rs.exp_and_normalise(logW)\n",
    "    return theta, x, W"
   ]
  },
  {
   "cell_type": "code",
   "execution_count": 95,
   "id": "a267cdac",
   "metadata": {},
   "outputs": [
    {
     "name": "stderr",
     "output_type": "stream",
     "text": [
      "/var/folders/yb/2yx4lkb90l57vb9ljkzffpq40000gn/T/ipykernel_39828/3906661019.py:2: RuntimeWarning: invalid value encountered in log\n",
      "  return -np.sum(0.475*np.log(x)+0.025*x+0.5*x*(y-theta)**2, axis = 1)\n"
     ]
    }
   ],
   "source": [
    "th_md, X_md, W_md = md_multinomial_fast(y, gamma, Niter, N, th0, X0)"
   ]
  },
  {
   "cell_type": "code",
   "execution_count": 96,
   "id": "c77abe32",
   "metadata": {},
   "outputs": [
    {
     "data": {
      "text/plain": [
       "[<matplotlib.lines.Line2D at 0x7fc059f7c640>]"
      ]
     },
     "execution_count": 96,
     "metadata": {},
     "output_type": "execute_result"
    },
    {
     "data": {
      "image/png": "[encoded data removed]",
      "text/plain": [
       "<Figure size 432x288 with 1 Axes>"
      ]
     },
     "metadata": {
      "needs_background": "light"
     },
     "output_type": "display_data"
    }
   ],
   "source": [
    "plt.plot(th_md)\n",
    "plt.plot(true_theta*np.ones(Niter), c = 'black', linestyle = 'dashed', lw = 2)\n"
   ]
  },
  {
   "cell_type": "code",
   "execution_count": 91,
   "id": "2f80d2e1",
   "metadata": {},
   "outputs": [
    {
     "data": {
      "text/plain": [
       "[<matplotlib.lines.Line2D at 0x7fc06ba76cd0>]"
      ]
     },
     "execution_count": 91,
     "metadata": {},
     "output_type": "execute_result"
    },
    {
     "data": {
      "image/png": "[encoded data removed]",
      "text/plain": [
       "<Figure size 432x288 with 1 Axes>"
      ]
     },
     "metadata": {
      "needs_background": "light"
     },
     "output_type": "display_data"
    }
   ],
   "source": [
    "plt.hist(X_md[Niter-1, :, 0], density = True, weights = W_md);\n",
    "plt.plot(x, stats.gamma.pdf(x, a = 0.5+0.525, scale = 1/(0.025+(y[0]-np.mean(y))**2/2)))"
   ]
  },
  {
   "cell_type": "code",
   "execution_count": 39,
   "id": "eac8ad4a",
   "metadata": {},
   "outputs": [],
   "source": [
    "x = np.linspace(0.001, 0.3, num = 1000)\n",
    "# y1 = -(0.475*np.log(x)+0.025*x+0.5*x*np.sum((y-true_theta)**2))+0.525*np.sum(np.log(0.05+(y-true_theta)**2))"
   ]
  },
  {
   "cell_type": "code",
   "execution_count": 46,
   "id": "92e965f0",
   "metadata": {},
   "outputs": [
    {
     "data": {
      "text/plain": [
       "[<matplotlib.lines.Line2D at 0x7fc0281152e0>]"
      ]
     },
     "execution_count": 46,
     "metadata": {},
     "output_type": "execute_result"
    },
    {
     "data": {
      "image/png": "[encoded data removed]",
      "text/plain": [
       "<Figure size 432x288 with 1 Axes>"
      ]
     },
     "metadata": {
      "needs_background": "light"
     },
     "output_type": "display_data"
    }
   ],
   "source": [
    "# plt.plot(x, np.exp(y1))\n",
    "plt.plot(x, stats.gamma.pdf(x, a = 0.5+0.525, scale = 1/(0.025+(y[0]-np.mean(y))**2/2)))"
   ]
  },
  {
   "cell_type": "code",
   "execution_count": 48,
   "id": "66c0dd80",
   "metadata": {},
   "outputs": [
    {
     "data": {
      "text/plain": [
       "0.004132931535515555"
      ]
     },
     "execution_count": 48,
     "metadata": {},
     "output_type": "execute_result"
    }
   ],
   "source": [
    "1/(0.025+(y[0]-true_theta)**2/2)"
   ]
  }
 ],
 "metadata": {
  "kernelspec": {
   "display_name": "Python 3 (ipykernel)",
   "language": "python",
   "name": "python3"
  },
  "language_info": {
   "codemirror_mode": {
    "name": "ipython",
    "version": 3
   },
   "file_extension": ".py",
   "mimetype": "text/x-python",
   "name": "python",
   "nbconvert_exporter": "python",
   "pygments_lexer": "ipython3",
   "version": "3.9.7"
  }
 },
 "nbformat": 4,
 "nbformat_minor": 5
}

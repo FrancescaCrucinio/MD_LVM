{
 "cells": [
  {
   "cell_type": "markdown",
   "id": "5124b7cb",
   "metadata": {},
   "source": [
    "# Toy Latent Variable Model\n",
    "Consider a simple latent variable model where we have observations $y_1, \\dots, y_n \\in \\mathbb{R}^d$ drawn from\n",
    "    \\begin{align*}\n",
    "        z|\\theta &\\sim \\mathcal{N}(\\cdot;\\theta \\textsf{1}_d, \\textsf{Id}_d)\\\\\n",
    "        y|z &\\sim \\mathcal{N}(\\cdot;z, \\textsf{Id}_d)\n",
    "    \\end{align*}\n",
    "    where $\\theta\\in\\mathbb{R}$ and $\\textsf{1}_d, \\textsf{Id}_d$ denote the $d$-dimensional vector of ones and the $d\\times d$ identity matrix respectively."
   ]
  },
  {
   "cell_type": "code",
   "execution_count": 1,
   "id": "983df15f",
   "metadata": {},
   "outputs": [
    {
     "data": {
      "text/plain": [
       "<module 'md_lvm' from '/Users/francescacrucinio/Documents/MD_LVM/md_lvm.py'>"
      ]
     },
     "execution_count": 1,
     "metadata": {},
     "output_type": "execute_result"
    }
   ],
   "source": [
    "# standard libraries\n",
    "import importlib\n",
    "from matplotlib import pyplot as plt\n",
    "import numpy as np\n",
    "from scipy.stats import norm\n",
    "from scipy import linalg, stats, optimize\n",
    "import time\n",
    "import sys\n",
    "sys.path.append('/Users/francescacrucinio/Documents/MD_LVM')\n",
    "\n",
    "import md_lvm\n",
    "importlib.reload(md_lvm)"
   ]
  },
  {
   "cell_type": "markdown",
   "id": "22f2ea68",
   "metadata": {},
   "source": [
    "## Data"
   ]
  },
  {
   "cell_type": "code",
   "execution_count": 2,
   "id": "c9c91eb3",
   "metadata": {},
   "outputs": [],
   "source": [
    "D = 50  # Dimensionality of latent variables.\n",
    "thdata = 1  # Parameter value used to generate the data.\n",
    "\n",
    "# Generate the data:\n",
    "y = np.random.normal(0, 1, (D, 1)) + np.random.normal(thdata, 1, (D, 1))"
   ]
  },
  {
   "cell_type": "code",
   "execution_count": 3,
   "id": "f83be260",
   "metadata": {},
   "outputs": [
    {
     "data": {
      "text/plain": [
       "0.8913917423315919"
      ]
     },
     "execution_count": 3,
     "metadata": {},
     "output_type": "execute_result"
    }
   ],
   "source": [
    "# get MLE\n",
    "theta_mle = np.mean(y)\n",
    "theta_mle"
   ]
  },
  {
   "cell_type": "markdown",
   "id": "e45b3527",
   "metadata": {},
   "source": [
    "## Compare PGD, IPLA and MD with different stepsizes"
   ]
  },
  {
   "cell_type": "code",
   "execution_count": 4,
   "id": "9bb2f9ce",
   "metadata": {},
   "outputs": [],
   "source": [
    "#Set approximation parameters:\n",
    "Niter = 2000  # Number of steps.\n",
    "N = 200  # Number of particles.\n",
    "\n",
    "th0 = np.array([0.0])  # Initial parameter guess.\n",
    "X0 = np.random.normal(size = (D, N))  # Initial particle cloud."
   ]
  },
  {
   "cell_type": "code",
   "execution_count": 5,
   "id": "e5bd8b6b",
   "metadata": {},
   "outputs": [],
   "source": [
    "gamma = 0.01"
   ]
  },
  {
   "cell_type": "markdown",
   "id": "6b4a6c58",
   "metadata": {},
   "source": [
    "### Optimal"
   ]
  },
  {
   "cell_type": "code",
   "execution_count": 6,
   "id": "4224d5eb",
   "metadata": {},
   "outputs": [
    {
     "name": "stdout",
     "output_type": "stream",
     "text": [
      "210.03084874153137\n",
      "1.7811260223388672\n"
     ]
    }
   ],
   "source": [
    "start = time.time()\n",
    "th_md, X_md, W_md = md_lvm.md_toy_lvm(y, gamma, Niter, N, th0, X0.T)\n",
    "end = time.time()\n",
    "print(end-start)\n",
    "start = time.time()\n",
    "th_md2, X_md2, W_md2 = md_lvm.md_toy_lvm_fast(y, gamma, Niter, N, th0, X0.T)\n",
    "end = time.time()\n",
    "print(end-start)"
   ]
  },
  {
   "cell_type": "code",
   "execution_count": 7,
   "id": "b1663caf",
   "metadata": {},
   "outputs": [
    {
     "data": {
      "text/plain": [
       "(array([0. , 0.2, 0.4, 0.6, 0.8, 1. , 1.2]),\n",
       " [Text(0, 0, ''),\n",
       "  Text(0, 0, ''),\n",
       "  Text(0, 0, ''),\n",
       "  Text(0, 0, ''),\n",
       "  Text(0, 0, ''),\n",
       "  Text(0, 0, ''),\n",
       "  Text(0, 0, '')])"
      ]
     },
     "execution_count": 7,
     "metadata": {},
     "output_type": "execute_result"
    },
    {
     "data": {
      "image/png": "[encoded data removed]",
      "text/plain": [
       "<Figure size 432x288 with 1 Axes>"
      ]
     },
     "metadata": {
      "needs_background": "light"
     },
     "output_type": "display_data"
    }
   ],
   "source": [
    "# # Plot parameter estimates as a function of step number k:\n",
    "plt.plot(th_md, label='MD', alpha = 0.7)\n",
    "plt.plot(th_md2, label='SMC', alpha = 0.7)\n",
    "plt.plot(y.mean()*np.ones(Niter), label='Optimal theta', c = 'black', linestyle = 'dashed', lw = 2)\n",
    "plt.legend(loc='lower right', fontsize = 15)\n",
    "plt.ylim([0, 1.2*y.mean()])\n",
    "plt.xlim([0, Niter])\n",
    "plt.xticks(fontsize=14)\n",
    "plt.yticks(fontsize=14)\n",
    "# plt.savefig('toy_optimal_gamma.pdf', bbox_inches=\"tight\")"
   ]
  },
  {
   "cell_type": "code",
   "execution_count": 8,
   "id": "ff6f6d87",
   "metadata": {},
   "outputs": [
    {
     "data": {
      "text/plain": [
       "(array([0. , 0.2, 0.4, 0.6, 0.8, 1. , 1.2]),\n",
       " [Text(0, 0, ''),\n",
       "  Text(0, 0, ''),\n",
       "  Text(0, 0, ''),\n",
       "  Text(0, 0, ''),\n",
       "  Text(0, 0, ''),\n",
       "  Text(0, 0, ''),\n",
       "  Text(0, 0, '')])"
      ]
     },
     "execution_count": 8,
     "metadata": {},
     "output_type": "execute_result"
    },
    {
     "data": {
      "image/png": "[encoded data removed]",
      "text/plain": [
       "<Figure size 432x288 with 1 Axes>"
      ]
     },
     "metadata": {
      "needs_background": "light"
     },
     "output_type": "display_data"
    }
   ],
   "source": [
    "plt.hist(X_md[Niter-1, :, 0], density = True, bins = 30, weights = W_md, label='MD', alpha = 0.7);\n",
    "plt.hist(X_md2[Niter-1, :, 0], density = True, bins = 30, weights = W_md2, label='SMC', alpha = 0.7);\n",
    "plt.plot(np.linspace(-3, 3, 100), norm.pdf(np.linspace(-5, 5, 100), scale = np.sqrt(0.5), \n",
    "        loc = 0.5*(np.mean(y)+y[0])), label = 'True posterior',\n",
    "        c = 'black')\n",
    "plt.legend(fontsize = 15)\n",
    "plt.xticks(fontsize=14)\n",
    "plt.yticks(fontsize=14)\n",
    "# plt.savefig('toy_optimal_gamma_posterior.pdf', bbox_inches=\"tight\")"
   ]
  }
 ],
 "metadata": {
  "kernelspec": {
   "display_name": "Python 3 (ipykernel)",
   "language": "python",
   "name": "python3"
  },
  "language_info": {
   "codemirror_mode": {
    "name": "ipython",
    "version": 3
   },
   "file_extension": ".py",
   "mimetype": "text/x-python",
   "name": "python",
   "nbconvert_exporter": "python",
   "pygments_lexer": "ipython3",
   "version": "3.9.7"
  }
 },
 "nbformat": 4,
 "nbformat_minor": 5
}

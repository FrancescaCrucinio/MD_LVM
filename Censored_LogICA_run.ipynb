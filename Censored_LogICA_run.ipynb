{
 "cells": [
  {
   "cell_type": "markdown",
   "id": "b4e65b61",
   "metadata": {},
   "source": [
    " # Probabilistic ICA\n",
    "  The model we consider is the censored Log-ICA."
   ]
  },
  {
   "cell_type": "code",
   "execution_count": 1,
   "id": "761f7b82",
   "metadata": {},
   "outputs": [
    {
     "data": {
      "text/plain": [
       "<module 'ica' from '/Users/francescacrucinio/Documents/MD_LVM/ica.py'>"
      ]
     },
     "execution_count": 1,
     "metadata": {},
     "output_type": "execute_result"
    }
   ],
   "source": [
    "import importlib\n",
    "import numpy as np \n",
    "import math, scipy\n",
    "from scipy.stats import multivariate_normal, geom, logistic\n",
    "import matplotlib.pyplot as plt\n",
    "import ica\n",
    "importlib.reload(ica)"
   ]
  },
  {
   "cell_type": "code",
   "execution_count": 2,
   "id": "662cbdb8",
   "metadata": {},
   "outputs": [],
   "source": [
    "Y = np.loadtxt(\"censored_ica_data100.txt\")"
   ]
  },
  {
   "cell_type": "code",
   "execution_count": 3,
   "id": "caeeb15b",
   "metadata": {},
   "outputs": [],
   "source": [
    "d = Y.shape[0]\n",
    "ndata = Y.shape[1]\n",
    "p = 2"
   ]
  },
  {
   "cell_type": "code",
   "execution_count": 4,
   "id": "cb9f285c",
   "metadata": {},
   "outputs": [
    {
     "data": {
      "text/plain": [
       "10"
      ]
     },
     "execution_count": 4,
     "metadata": {},
     "output_type": "execute_result"
    }
   ],
   "source": [
    "Y.shape[1]"
   ]
  },
  {
   "cell_type": "code",
   "execution_count": 5,
   "id": "25a267b4",
   "metadata": {},
   "outputs": [],
   "source": [
    "tmp = np.loadtxt(\"ica_truth.txt\")\n",
    "true_A = tmp[:d, :]\n",
    "true_sigma = tmp[d, 0]\n",
    "alpha = 0.8\n",
    "a1 = np.abs(np.reshape(true_A[:, 0], [16, 16]))\n",
    "a2 = np.abs(np.reshape(true_A[:, 1], [16, 16]))"
   ]
  },
  {
   "cell_type": "code",
   "execution_count": 6,
   "id": "ca0ee5ee",
   "metadata": {},
   "outputs": [],
   "source": [
    "sigma0 = 0\n",
    "A0 = np.zeros((d, p))\n",
    "alpha = 0.8"
   ]
  },
  {
   "cell_type": "code",
   "execution_count": 7,
   "id": "f825ceb2",
   "metadata": {},
   "outputs": [],
   "source": [
    "Niter = 3000\n",
    "multilevel_start = 1\n",
    "learning_rate_sigma = 0.0000001\n",
    "learning_rate_A = 0.0001\n",
    "M = 2\n",
    "H = 10\n",
    "p_exp = 1/H"
   ]
  },
  {
   "cell_type": "code",
   "execution_count": 8,
   "id": "64283903",
   "metadata": {},
   "outputs": [],
   "source": [
    "# initialize SAEM\n",
    "z_iter = np.zeros([Niter, ndata, p])\n",
    "s1_iter = np.zeros((Niter, p, p))\n",
    "s2_iter = np.zeros((Niter, d, p))\n",
    "sigma_iter_saem = np.zeros((Niter))\n",
    "A_iter_saem = np.zeros((Niter, d, p))"
   ]
  },
  {
   "cell_type": "code",
   "execution_count": 9,
   "id": "13a6b69f",
   "metadata": {},
   "outputs": [
    {
     "name": "stderr",
     "output_type": "stream",
     "text": [
      "/Users/francescacrucinio/Documents/MD_LVM/ica.py:63: RuntimeWarning: invalid value encountered in double_scalars\n",
      "  log_acceptance_ratio = (likelihood_past - likelihood_proposal)/(2*sigma**2)\n"
     ]
    }
   ],
   "source": [
    "z_past = np.random.binomial(1, alpha, size = ndata*p)*np.random.logistic(scale = 1/2, size = ndata*p)\n",
    "z_past = np.reshape(z_past, [ndata, p])\n",
    "A_iter_saem[0,:,:] = A0\n",
    "sigma_iter_saem[0] = sigma0\n",
    "n = 1\n",
    "s1_new = np.zeros((ndata, p, p))\n",
    "s2_new = np.zeros((ndata, d, p))\n",
    "for j in range(ndata):\n",
    "    data = Y[:, j]\n",
    "    z_iter[n, j, :] = ica.censored_logICA_sample_posterior(z_past[j, :], A_iter_saem[n-1, :, :], sigma_iter_saem[n-1], alpha, data)\n",
    "    s1_new[j, :, :], s2_new[j, :, :] = ica.logICA_sufficient_statistic(z_iter[n, j, :], data)\n",
    "s1_iter[n, :, :] = np.mean(s1_new, axis = 0)\n",
    "s2_iter[n, :, :] = np.mean(s2_new, axis = 0)\n",
    "A_iter_saem[n, :, :], sigma_iter_saem[n] = ica.logICA_mle(s1_iter[n, :, :], s2_iter[n, :, :], Y)"
   ]
  },
  {
   "cell_type": "code",
   "execution_count": 10,
   "id": "c97033cb",
   "metadata": {},
   "outputs": [],
   "source": [
    "for n in range(1, Niter-1):\n",
    "    # SAEM\n",
    "    delta = 1/n\n",
    "    s1_new = np.zeros((ndata, p, p))\n",
    "    s2_new = np.zeros((ndata, d, p))\n",
    "    for j in range(ndata):\n",
    "        data = Y[:, j]\n",
    "        z_iter[n+1, j, :] = ica.censored_logICA_sample_posterior(z_iter[n, j, :], A_iter_saem[n, :, :], sigma_iter_saem[n], alpha, data)\n",
    "        s1_new[j, :, :], s2_new[j, :, :] = ica.logICA_sufficient_statistic(z_iter[n+1, j, :], data)\n",
    "    s1_update = np.mean(s1_new, axis = 0)\n",
    "    s2_update = np.mean(s2_new, axis = 0)\n",
    "    s1_iter[n+1, :, :] = s1_iter[n, :, :] + delta*(s1_update - s1_iter[n, :, :])\n",
    "    s2_iter[n+1, :, :] = s2_iter[n, :, :] + delta*(s2_update - s2_iter[n, :, :])\n",
    "    A_iter_saem[n+1,:,:], sigma_iter_saem[n+1] = ica.logICA_mle(s1_iter[n+1, :], s2_iter[n+1, :], Y)"
   ]
  },
  {
   "cell_type": "markdown",
   "id": "77ceb245",
   "metadata": {},
   "source": [
    "## Check convergence: $\\sigma$"
   ]
  },
  {
   "cell_type": "code",
   "execution_count": 11,
   "id": "31435165",
   "metadata": {},
   "outputs": [
    {
     "data": {
      "text/plain": [
       "<matplotlib.lines.Line2D at 0x7f9300ef9e50>"
      ]
     },
     "execution_count": 11,
     "metadata": {},
     "output_type": "execute_result"
    },
    {
     "data": {
      "image/png": "[encoded data removed]",
      "text/plain": [
       "<Figure size 432x288 with 1 Axes>"
      ]
     },
     "metadata": {
      "needs_background": "light"
     },
     "output_type": "display_data"
    }
   ],
   "source": [
    "# plt.xscale('log')\n",
    "# plt.yscale('log')\n",
    "plt.plot(range(Niter), sigma_iter_saem, label = 'saem', lw = 2)\n",
    "plt.axhline(true_sigma, c='k')\n",
    "# legend = plt.legend(loc='center', bbox_to_anchor=(0.5, -0.4), ncol = 4)\n",
    "# plt.savefig('ica_sigma_convergence.pdf', bbox_inches=\"tight\")"
   ]
  },
  {
   "cell_type": "code",
   "execution_count": 12,
   "id": "68b893b0",
   "metadata": {},
   "outputs": [
    {
     "data": {
      "text/plain": [
       "array([0.        , 0.5035504 , 0.50043382, ..., 0.43813158, 0.43812925,\n",
       "       0.43812691])"
      ]
     },
     "execution_count": 12,
     "metadata": {},
     "output_type": "execute_result"
    }
   ],
   "source": [
    "sigma_iter_saem"
   ]
  },
  {
   "cell_type": "markdown",
   "id": "35f546be",
   "metadata": {},
   "source": [
    "## Check convergence: $A$"
   ]
  },
  {
   "cell_type": "code",
   "execution_count": 13,
   "id": "6868daa0",
   "metadata": {},
   "outputs": [],
   "source": [
    "A_iter_saem_tmp = np.abs(np.reshape(A_iter_saem[:, :, 0], [Niter, 16, 16]))\n",
    "A_iter_saem_tmp2 = np.abs(np.reshape(A_iter_saem[:, :, 1], [Niter, 16, 16]))"
   ]
  },
  {
   "cell_type": "code",
   "execution_count": 14,
   "id": "66c88f3d",
   "metadata": {},
   "outputs": [
    {
     "name": "stderr",
     "output_type": "stream",
     "text": [
      "/var/folders/yb/2yx4lkb90l57vb9ljkzffpq40000gn/T/ipykernel_42994/468290391.py:2: RuntimeWarning: invalid value encountered in true_divide\n",
      "  A_iter_saem_tmp[j, :, :] = A_iter_saem_tmp[j, :, :]/np.max(A_iter_saem_tmp[j, :, :])\n",
      "/var/folders/yb/2yx4lkb90l57vb9ljkzffpq40000gn/T/ipykernel_42994/468290391.py:3: RuntimeWarning: invalid value encountered in true_divide\n",
      "  A_iter_saem_tmp2[j, :, :] = A_iter_saem_tmp2[j, :, :]/np.max(A_iter_saem_tmp2[j, :, :])\n"
     ]
    }
   ],
   "source": [
    "for j in range(Niter):\n",
    "    A_iter_saem_tmp[j, :, :] = A_iter_saem_tmp[j, :, :]/np.max(A_iter_saem_tmp[j, :, :])\n",
    "    A_iter_saem_tmp2[j, :, :] = A_iter_saem_tmp2[j, :, :]/np.max(A_iter_saem_tmp2[j, :, :])"
   ]
  },
  {
   "cell_type": "code",
   "execution_count": 15,
   "id": "e420f843",
   "metadata": {},
   "outputs": [],
   "source": [
    "trace_saem = np.trace(A_iter_saem_tmp, axis1 = 1, axis2 = 2)\n",
    "trace_saem2 = np.trace(A_iter_saem_tmp2, axis1 = 1, axis2 = 2)"
   ]
  },
  {
   "cell_type": "code",
   "execution_count": 16,
   "id": "7e3d1c9f",
   "metadata": {},
   "outputs": [
    {
     "data": {
      "text/plain": [
       "[<matplotlib.lines.Line2D at 0x7f92f013a9a0>]"
      ]
     },
     "execution_count": 16,
     "metadata": {},
     "output_type": "execute_result"
    },
    {
     "data": {
      "image/png": "[encoded data removed]",
      "text/plain": [
       "<Figure size 432x288 with 1 Axes>"
      ]
     },
     "metadata": {
      "needs_background": "light"
     },
     "output_type": "display_data"
    }
   ],
   "source": [
    "plt.plot(range(Niter), trace_saem, label = 'saem')\n",
    "plt.plot(range(Niter), trace_saem2, label = 'saem')\n",
    "# plt.legend(loc='center right', bbox_to_anchor=(1.5, 0))\n",
    "# plt.savefig('ica_a1_convergence.pdf', bbox_inches=\"tight\")"
   ]
  },
  {
   "cell_type": "markdown",
   "id": "55ffce1b",
   "metadata": {},
   "source": [
    "## Plot results"
   ]
  },
  {
   "cell_type": "code",
   "execution_count": 17,
   "id": "f56c97eb",
   "metadata": {},
   "outputs": [],
   "source": [
    "estimated_a1_saem = np.abs(np.reshape(A_iter_saem[Niter-1, :, 0]/np.max(A_iter_saem[Niter-1, :, 0]), [16, 16]))\n",
    "estimated_a2_saem = np.abs(np.reshape(A_iter_saem[Niter-1, :, 1]/np.max(A_iter_saem[Niter-1, :, 1]), [16, 16]))"
   ]
  },
  {
   "cell_type": "code",
   "execution_count": 18,
   "id": "0a5b0318",
   "metadata": {},
   "outputs": [
    {
     "data": {
      "text/plain": [
       "<matplotlib.image.AxesImage at 0x7f9301c76400>"
      ]
     },
     "execution_count": 18,
     "metadata": {},
     "output_type": "execute_result"
    },
    {
     "data": {
      "image/png": "[encoded data removed]",
      "text/plain": [
       "<Figure size 864x288 with 4 Axes>"
      ]
     },
     "metadata": {
      "needs_background": "light"
     },
     "output_type": "display_data"
    }
   ],
   "source": [
    "_, axs = plt.subplots(2, 2, figsize = (12, 4))\n",
    "plt.gray()\n",
    "axs[0,0].imshow(estimated_a1_saem)\n",
    "axs[0,1].imshow(a1)\n",
    "axs[1,0].imshow(estimated_a2_saem)\n",
    "axs[1,1].imshow(a2)"
   ]
  },
  {
   "cell_type": "code",
   "execution_count": 19,
   "id": "ba80905b",
   "metadata": {},
   "outputs": [
    {
     "data": {
      "text/plain": [
       "(10, 2)"
      ]
     },
     "execution_count": 19,
     "metadata": {},
     "output_type": "execute_result"
    }
   ],
   "source": [
    "z_iter[Niter-1,:,:].shape"
   ]
  },
  {
   "cell_type": "code",
   "execution_count": 20,
   "id": "ecf44269",
   "metadata": {},
   "outputs": [
    {
     "data": {
      "text/plain": [
       "<matplotlib.collections.PathCollection at 0x7f9300f54520>"
      ]
     },
     "execution_count": 20,
     "metadata": {},
     "output_type": "execute_result"
    },
    {
     "data": {
      "image/png": "[encoded data removed]",
      "text/plain": [
       "<Figure size 432x288 with 1 Axes>"
      ]
     },
     "metadata": {
      "needs_background": "light"
     },
     "output_type": "display_data"
    }
   ],
   "source": [
    "plt.scatter(z_iter[Niter-1,:,0], z_iter[Niter-1,:,1])"
   ]
  }
 ],
 "metadata": {
  "kernelspec": {
   "display_name": "Python 3 (ipykernel)",
   "language": "python",
   "name": "python3"
  },
  "language_info": {
   "codemirror_mode": {
    "name": "ipython",
    "version": 3
   },
   "file_extension": ".py",
   "mimetype": "text/x-python",
   "name": "python",
   "nbconvert_exporter": "python",
   "pygments_lexer": "ipython3",
   "version": "3.9.7"
  }
 },
 "nbformat": 4,
 "nbformat_minor": 5
}

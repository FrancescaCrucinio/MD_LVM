{
 "cells": [
  {
   "cell_type": "code",
   "execution_count": 1,
   "id": "88b5893c",
   "metadata": {},
   "outputs": [
    {
     "data": {
      "text/plain": [
       "<module 'saem' from '/Users/francescacrucinio/Documents/MD_LVM/saem.py'>"
      ]
     },
     "execution_count": 1,
     "metadata": {},
     "output_type": "execute_result"
    }
   ],
   "source": [
    "# standard libraries\n",
    "import importlib\n",
    "from matplotlib import pyplot as plt\n",
    "import numpy as np\n",
    "from scipy.stats import norm\n",
    "from scipy import linalg, stats, optimize\n",
    "import time\n",
    "import sys\n",
    "sys.path.append('/Users/francescacrucinio/Documents/MD_LVM')\n",
    "\n",
    "import md_lvm\n",
    "importlib.reload(md_lvm)\n",
    "import saem\n",
    "importlib.reload(saem)"
   ]
  },
  {
   "cell_type": "code",
   "execution_count": 2,
   "id": "f23de63a",
   "metadata": {},
   "outputs": [],
   "source": [
    "nodes = 100\n",
    "pi = np.array([0.6, 0.4])\n",
    "probs = np.array([[0.25, 0.1], [0.1, 0.2]])"
   ]
  },
  {
   "cell_type": "code",
   "execution_count": 3,
   "id": "c6a424b2",
   "metadata": {},
   "outputs": [],
   "source": [
    "# def sbm_sample(pi, nu, nodes):\n",
    "#     # block allocation\n",
    "#     x = np.random.choice(np.arange(len(pi)), nodes, p=pi)\n",
    "#     # adjacency matrix \n",
    "#     A = np.zeros((nodes, nodes))\n",
    "#     for i in range(nodes):\n",
    "#         A[i, np.delete(np.arange(nodes), i)] = np.random.binomial(1, p = probs[x[i], np.delete(x, i)], size = nodes-1)\n",
    "#     return A, x"
   ]
  },
  {
   "cell_type": "code",
   "execution_count": 4,
   "id": "bc86798b",
   "metadata": {},
   "outputs": [],
   "source": [
    "# y, res_z = sbm_sample(pi, probs, nodes)\n",
    "# # y = np.loadtxt(\"adj.txt\")"
   ]
  },
  {
   "cell_type": "code",
   "execution_count": 5,
   "id": "325366ad",
   "metadata": {},
   "outputs": [],
   "source": [
    "z = np.loadtxt(\"z.txt\")\n",
    "y = np.loadtxt(\"adj.txt\")"
   ]
  },
  {
   "cell_type": "code",
   "execution_count": 6,
   "id": "6a737c54",
   "metadata": {},
   "outputs": [],
   "source": [
    "th0 = np.array([0.3, 0.3, 0.3, 0.3, 0.3])  # Initial parameter guess.\n",
    "X0 = np.random.binomial(1, 0.5, nodes)  # Initial particle cloud."
   ]
  },
  {
   "cell_type": "code",
   "execution_count": 7,
   "id": "b847a6b0",
   "metadata": {},
   "outputs": [],
   "source": [
    "Niter = 500\n",
    "Nrep = 50\n",
    "N = nodes\n",
    "gamma = 0.02\n",
    "theta_saem_est = np.zeros((Nrep, 5))\n",
    "runtime_saem = np.zeros(Nrep)\n",
    "ari_saem = np.zeros(Nrep)\n",
    "theta_md_est = np.zeros((Nrep, 5))\n",
    "ari_md = np.zeros(Nrep)\n",
    "runtime_md = np.zeros(Nrep)"
   ]
  },
  {
   "cell_type": "code",
   "execution_count": 8,
   "id": "ece0275f",
   "metadata": {},
   "outputs": [
    {
     "name": "stdout",
     "output_type": "stream",
     "text": [
      "0\n",
      "1\n",
      "2\n",
      "3\n",
      "4\n",
      "5\n",
      "6\n",
      "7\n",
      "8\n",
      "9\n",
      "10\n",
      "11\n",
      "12\n",
      "13\n",
      "14\n",
      "15\n",
      "16\n",
      "17\n",
      "18\n",
      "19\n",
      "20\n",
      "21\n",
      "22\n",
      "23\n",
      "24\n",
      "25\n",
      "26\n",
      "27\n",
      "28\n",
      "29\n",
      "30\n",
      "31\n",
      "32\n",
      "33\n",
      "34\n",
      "35\n",
      "36\n",
      "37\n",
      "38\n",
      "39\n",
      "40\n",
      "41\n",
      "42\n",
      "43\n",
      "44\n",
      "45\n",
      "46\n",
      "47\n",
      "48\n",
      "49\n"
     ]
    }
   ],
   "source": [
    "for j in range(Nrep):\n",
    "    start = time.time()\n",
    "    # SAEM\n",
    "    z_iter = np.zeros([Niter, nodes])\n",
    "    s1_iter = np.zeros(Niter)\n",
    "    s2_iter = np.zeros((Niter, 4))\n",
    "    s3_iter = np.zeros((Niter, 4))\n",
    "    theta_saem = np.zeros((Niter, th0.size))\n",
    "    n = 0\n",
    "    z_iter[n, :] =  np.random.binomial(1, 0.5, size = nodes)\n",
    "    theta_saem[n,:] = th0\n",
    "    for n in range(1, Niter):\n",
    "        delta = 1/n\n",
    "        z_iter[n, :] = saem.sbm_saem_proposal(y, z_iter[n-1, :], theta_saem[n-1,:])\n",
    "        s1_update, s2_update, s3_update = saem.sbm_saem_sufficient_stat(z_iter[n, :], y)\n",
    "        s1_iter[n] = s1_iter[n-1] + delta*(s1_update - s1_iter[n-1])\n",
    "        s2_iter[n, :] = s2_iter[n-1, :] + delta*(s2_update - s2_iter[n-1, :])\n",
    "        s3_iter[n, :] = s3_iter[n-1, :] + delta*(s3_update - s3_iter[n-1, :])\n",
    "        theta_saem[n,:] = saem.sbm_saem_mle(s1_iter[n], s2_iter[n,:], s3_iter[n,:], nodes)\n",
    "    ari_saem[j] = saem.sbm_ari(z-1, z_iter[-1,:])\n",
    "    theta_saem_est[j, :] = theta_saem[-1,:]\n",
    "    end = time.time()\n",
    "    runtime_saem[j] = end-start\n",
    "    # SMC-LVMs\n",
    "    start = time.time()\n",
    "    theta_md, x_md, W = md_lvm.md_sbm_fast(y, gamma, Niter, N, th0, X0)\n",
    "    end = time.time()\n",
    "    runtime_md[j] = end-start\n",
    "    ari_md[j] = saem.sbm_ari(z-1, x_md[-1,:])\n",
    "    theta_md_est[j, :] = theta_md[-1,:]\n",
    "    print(j)"
   ]
  },
  {
   "cell_type": "code",
   "execution_count": 9,
   "id": "02f8c8aa",
   "metadata": {},
   "outputs": [
    {
     "data": {
      "text/plain": [
       "(0.5141737373737373, 0.8249535353535353)"
      ]
     },
     "execution_count": 9,
     "metadata": {},
     "output_type": "execute_result"
    }
   ],
   "source": [
    "np.mean(ari_saem), np.mean(ari_md)"
   ]
  },
  {
   "cell_type": "code",
   "execution_count": 72,
   "id": "7317658e",
   "metadata": {},
   "outputs": [
    {
     "data": {
      "text/plain": [
       "2.6061143219437906"
      ]
     },
     "execution_count": 72,
     "metadata": {},
     "output_type": "execute_result"
    }
   ],
   "source": [
    "np.mean(runtime_md)/np.mean(runtime_saem)"
   ]
  },
  {
   "cell_type": "code",
   "execution_count": 78,
   "id": "3ec37d49",
   "metadata": {},
   "outputs": [
    {
     "data": {
      "text/plain": [
       "92.10110195135935"
      ]
     },
     "execution_count": 78,
     "metadata": {},
     "output_type": "execute_result"
    }
   ],
   "source": [
    "np.mean(np.mean(se_saem, axis = 0)/np.mean(se_md, axis = 0))"
   ]
  },
  {
   "cell_type": "code",
   "execution_count": 28,
   "id": "25ccb6a7",
   "metadata": {},
   "outputs": [],
   "source": [
    "rse_saem = np.zeros((Nrep, 5))\n",
    "se_saem = np.zeros((Nrep, 5))\n",
    "switched_saem = np.zeros((Nrep))\n",
    "rse_md = np.zeros((Nrep, 5))\n",
    "se_md = np.zeros((Nrep, 5))\n",
    "switched_md = np.zeros((Nrep))\n",
    "for j in range(Nrep):\n",
    "    se_saem[j, :], rse_saem[j, :], switched_saem[j] = saem.se_sbm(theta_saem_est[j], pi, probs)\n",
    "    se_md[j, :], rse_md[j, :], switched_md[j] = saem.se_sbm(theta_md_est[j], pi, probs)"
   ]
  },
  {
   "cell_type": "code",
   "execution_count": 67,
   "id": "a83b95ea",
   "metadata": {},
   "outputs": [],
   "source": [
    "prop_cycle = plt.rcParams['axes.prop_cycle']\n",
    "colors = prop_cycle.by_key()['color']"
   ]
  },
  {
   "cell_type": "code",
   "execution_count": 68,
   "id": "dae5c140",
   "metadata": {},
   "outputs": [
    {
     "data": {
      "image/png": "[encoded data removed]",
      "text/plain": [
       "<Figure size 432x288 with 1 Axes>"
      ]
     },
     "metadata": {
      "needs_background": "light"
     },
     "output_type": "display_data"
    }
   ],
   "source": [
    "boxp = plt.boxplot([ari_saem, ari_md], labels = [\"SAEM\", \"SMC-LVMs\"], whis = 15, patch_artist=True);\n",
    "for patch, color in zip(boxp['boxes'], colors):\n",
    "    patch.set_alpha(0.6)\n",
    "    patch.set_facecolor(color)\n",
    "for median in boxp['medians']:\n",
    "    median.set(color='k', linewidth=1.5)\n",
    "plt.xticks(fontsize=14)\n",
    "plt.yticks(fontsize=14);\n",
    "# plt.yscale('log')\n",
    "# plt.savefig('sbm_ari.pdf', bbox_inches=\"tight\")"
   ]
  },
  {
   "cell_type": "code",
   "execution_count": 48,
   "id": "d2aeff97",
   "metadata": {},
   "outputs": [
    {
     "data": {
      "image/png": "[encoded data removed]",
      "text/plain": [
       "<Figure size 432x288 with 1 Axes>"
      ]
     },
     "metadata": {
      "needs_background": "light"
     },
     "output_type": "display_data"
    }
   ],
   "source": [
    "i = 0\n",
    "boxp = plt.boxplot([se_saem[:, i], se_md[:, i]], whis = 15, patch_artist=True, labels = [\"SAEM\", \"SMC-LVMs\"]);\n",
    "for patch, color in zip(boxp['boxes'], colors):\n",
    "    patch.set_alpha(0.6)\n",
    "    patch.set_facecolor(color)\n",
    "for median in boxp['medians']:\n",
    "    median.set(color='k', linewidth=1.5)\n",
    "plt.xticks(fontsize=14)\n",
    "plt.yticks(fontsize=14);\n",
    "plt.yscale('log')"
   ]
  },
  {
   "cell_type": "code",
   "execution_count": 69,
   "id": "c056f329",
   "metadata": {},
   "outputs": [
    {
     "data": {
      "text/plain": [
       "array(['#1f77b4', '#1f77b4', '#1f77b4', '#1f77b4', '#1f77b4', '#ff7f0e',\n",
       "       '#ff7f0e', '#ff7f0e', '#ff7f0e', '#ff7f0e'], dtype='<U7')"
      ]
     },
     "execution_count": 69,
     "metadata": {},
     "output_type": "execute_result"
    }
   ],
   "source": [
    "prop_cycle = plt.rcParams['axes.prop_cycle']\n",
    "colors = np.repeat(prop_cycle.by_key()['color'][:2], 5)\n",
    "colors "
   ]
  },
  {
   "cell_type": "code",
   "execution_count": 71,
   "id": "f21ff99a",
   "metadata": {},
   "outputs": [
    {
     "data": {
      "image/png": "[encoded data removed]",
      "text/plain": [
       "<Figure size 432x288 with 1 Axes>"
      ]
     },
     "metadata": {
      "needs_background": "light"
     },
     "output_type": "display_data"
    }
   ],
   "source": [
    "boxp = plt.boxplot(np.concatenate((se_saem, se_md), axis = 1), whis = 50, patch_artist=True, labels = [f\"${{p_{{1}}}}$\",f\"${{\\\\nu_{{11}}}}$\", f\"${{\\\\nu_{{12}}}}$\", f\"${{\\\\nu_{{21}}}}$\", \n",
    "                                                                                f\"${{\\\\nu_{{22}}}}$\", f\"${{p_{{1}}}}$\", f\"${{\\\\nu_{{11}}}}$\", f\"${{\\\\nu_{{12}}}}$\", f\"${{\\\\nu_{{21}}}}$\", \n",
    "                                                                                f\"${{\\\\nu_{{22}}}}$\"]);\n",
    "plt.yscale('log')\n",
    "for patch, color in zip(boxp['boxes'], colors):\n",
    "    patch.set_alpha(0.6)\n",
    "    patch.set_facecolor(color)\n",
    "for median in boxp['medians']:\n",
    "    median.set(color='k', linewidth=1.5)\n",
    "plt.legend([boxp[\"boxes\"][0], boxp[\"boxes\"][5]], [\"SAEM\", \"SMC-LVMs\"], fontsize=15)\n",
    "plt.xticks(fontsize=14)\n",
    "plt.yticks(fontsize=14);\n",
    "# plt.savefig('sbm_mse.pdf', bbox_inches=\"tight\")"
   ]
  },
  {
   "cell_type": "code",
   "execution_count": 19,
   "id": "9e9bc902",
   "metadata": {},
   "outputs": [
    {
     "data": {
      "text/plain": [
       "(0.8, 0.1)"
      ]
     },
     "execution_count": 19,
     "metadata": {},
     "output_type": "execute_result"
    }
   ],
   "source": [
    "np.sum(switched_saem)/Nrep, np.sum(switched_md)/Nrep"
   ]
  },
  {
   "cell_type": "code",
   "execution_count": 22,
   "id": "c5716f08",
   "metadata": {},
   "outputs": [],
   "source": [
    "theta_saem_est_tmp = np.matrix(theta_saem_est)\n",
    "with open('sbm_saem.txt','wb') as f:\n",
    "    for line in theta_saem_est_tmp:\n",
    "        np.savetxt(f, line)"
   ]
  },
  {
   "cell_type": "code",
   "execution_count": 23,
   "id": "fc6178dd",
   "metadata": {},
   "outputs": [],
   "source": [
    "theta_md_est_tmp = np.matrix(theta_md_est)\n",
    "with open('sbm_md.txt','wb') as f:\n",
    "    for line in theta_md_est_tmp:\n",
    "        np.savetxt(f, line)"
   ]
  },
  {
   "cell_type": "code",
   "execution_count": 25,
   "id": "a9a87b22",
   "metadata": {},
   "outputs": [],
   "source": [
    "parameters = np.matrix([ari_md, runtime_md])\n",
    "with open('sbm_md_ari_time.txt','wb') as f:\n",
    "    for line in parameters:\n",
    "        np.savetxt(f, line)"
   ]
  },
  {
   "cell_type": "code",
   "execution_count": 26,
   "id": "d19ae9ae",
   "metadata": {},
   "outputs": [],
   "source": [
    "parameters = np.matrix([ari_saem, runtime_saem])\n",
    "with open('sbm_saem_ari_time.txt','wb') as f:\n",
    "    for line in parameters:\n",
    "        np.savetxt(f, line)"
   ]
  }
 ],
 "metadata": {
  "kernelspec": {
   "display_name": "Python 3 (ipykernel)",
   "language": "python",
   "name": "python3"
  },
  "language_info": {
   "codemirror_mode": {
    "name": "ipython",
    "version": 3
   },
   "file_extension": ".py",
   "mimetype": "text/x-python",
   "name": "python",
   "nbconvert_exporter": "python",
   "pygments_lexer": "ipython3",
   "version": "3.9.7"
  }
 },
 "nbformat": 4,
 "nbformat_minor": 5
}

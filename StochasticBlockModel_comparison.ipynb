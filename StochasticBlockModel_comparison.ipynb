{
 "cells": [
  {
   "cell_type": "code",
   "execution_count": 1,
   "id": "88b5893c",
   "metadata": {},
   "outputs": [
    {
     "data": {
      "text/plain": [
       "<module 'saem' from '/Users/francescacrucinio/Documents/MD_LVM/saem.py'>"
      ]
     },
     "execution_count": 1,
     "metadata": {},
     "output_type": "execute_result"
    }
   ],
   "source": [
    "# standard libraries\n",
    "import importlib\n",
    "from matplotlib import pyplot as plt\n",
    "import numpy as np\n",
    "from scipy.stats import norm\n",
    "from scipy import linalg, stats, optimize\n",
    "import time\n",
    "import sys\n",
    "sys.path.append('/Users/francescacrucinio/Documents/MD_LVM')\n",
    "\n",
    "import md_lvm\n",
    "importlib.reload(md_lvm)\n",
    "import saem\n",
    "importlib.reload(saem)"
   ]
  },
  {
   "cell_type": "code",
   "execution_count": 2,
   "id": "f23de63a",
   "metadata": {},
   "outputs": [],
   "source": [
    "nodes = 100\n",
    "pi = np.array([0.6, 0.4])\n",
    "probs = np.array([[0.25, 0.1], [0.1, 0.2]])"
   ]
  },
  {
   "cell_type": "code",
   "execution_count": 3,
   "id": "c6a424b2",
   "metadata": {},
   "outputs": [],
   "source": [
    "# def sbm_sample(pi, nu, nodes):\n",
    "#     # block allocation\n",
    "#     x = np.random.choice(np.arange(len(pi)), nodes, p=pi)\n",
    "#     # adjacency matrix \n",
    "#     A = np.zeros((nodes, nodes))\n",
    "#     for i in range(nodes):\n",
    "#         A[i, np.delete(np.arange(nodes), i)] = np.random.binomial(1, p = probs[x[i], np.delete(x, i)], size = nodes-1)\n",
    "#     return A, x"
   ]
  },
  {
   "cell_type": "code",
   "execution_count": 4,
   "id": "bc86798b",
   "metadata": {},
   "outputs": [],
   "source": [
    "# y, res_z = sbm_sample(pi, probs, nodes)\n",
    "# # y = np.loadtxt(\"adj.txt\")"
   ]
  },
  {
   "cell_type": "code",
   "execution_count": 5,
   "id": "325366ad",
   "metadata": {},
   "outputs": [],
   "source": [
    "z = np.loadtxt(\"z.txt\")\n",
    "y = np.loadtxt(\"adj.txt\")"
   ]
  },
  {
   "cell_type": "code",
   "execution_count": 6,
   "id": "6a737c54",
   "metadata": {},
   "outputs": [],
   "source": [
    "th0 = np.array([0.3, 0.3, 0.3, 0.3, 0.3])  # Initial parameter guess.\n",
    "X0 = np.random.binomial(1, 0.5, nodes)  # Initial particle cloud."
   ]
  },
  {
   "cell_type": "code",
   "execution_count": 7,
   "id": "b847a6b0",
   "metadata": {},
   "outputs": [],
   "source": [
    "Niter = 500\n",
    "Nrep = 5\n",
    "N = nodes\n",
    "gamma = 0.02\n",
    "theta_saem_est = np.zeros((Nrep, 5))\n",
    "runtime_saem = np.zeros(Nrep)\n",
    "ari_saem = np.zeros(Nrep)\n",
    "theta_md_est = np.zeros((Nrep, 5))\n",
    "ari_md = np.zeros(Nrep)\n",
    "runtime_md = np.zeros(Nrep)"
   ]
  },
  {
   "cell_type": "code",
   "execution_count": 8,
   "id": "ece0275f",
   "metadata": {},
   "outputs": [
    {
     "name": "stdout",
     "output_type": "stream",
     "text": [
      "0\n",
      "1\n",
      "2\n",
      "3\n",
      "4\n"
     ]
    }
   ],
   "source": [
    "for j in range(Nrep):\n",
    "    start = time.time()\n",
    "    # SAEM\n",
    "    z_iter = np.zeros([Niter, nodes])\n",
    "    s1_iter = np.zeros(Niter)\n",
    "    s2_iter = np.zeros((Niter, 4))\n",
    "    s3_iter = np.zeros((Niter, 4))\n",
    "    theta_saem = np.zeros((Niter, th0.size))\n",
    "    n = 0\n",
    "    z_iter[n, :] =  np.random.binomial(1, 0.5, size = nodes)\n",
    "    theta_saem[n,:] = th0\n",
    "    for n in range(1, Niter):\n",
    "        delta = 1/n\n",
    "        z_iter[n, :] = saem.sbm_saem_proposal(y, z_iter[n-1, :], theta_saem[n-1,:])\n",
    "        s1_update, s2_update, s3_update = saem.sbm_saem_sufficient_stat(z_iter[n, :], y)\n",
    "        s1_iter[n] = s1_iter[n-1] + delta*(s1_update - s1_iter[n-1])\n",
    "        s2_iter[n, :] = s2_iter[n-1, :] + delta*(s2_update - s2_iter[n-1, :])\n",
    "        s3_iter[n, :] = s3_iter[n-1, :] + delta*(s3_update - s3_iter[n-1, :])\n",
    "        theta_saem[n,:] = saem.sbm_saem_mle(s1_iter[n], s2_iter[n,:], s3_iter[n,:], nodes)\n",
    "    ari_saem[j] = saem.sbm_ari(z-1, z_iter[-1,:])\n",
    "    theta_saem_est[j, :] = theta_saem[-1,:]\n",
    "    end = time.time()\n",
    "    runtime_saem[j] = end-start\n",
    "    # SMC-LVMs\n",
    "    start = time.time()\n",
    "    theta_md, x_md, W = md_lvm.md_sbm_fast(y, gamma, Niter, N, th0, X0)\n",
    "    end = time.time()\n",
    "    runtime_md[j] = end-start\n",
    "    ari_md[j] = saem.sbm_ari(z-1, x_md[-1,:])\n",
    "    theta_md_est[j, :] = theta_md[-1,:]\n",
    "    print(j)"
   ]
  },
  {
   "cell_type": "code",
   "execution_count": 9,
   "id": "02f8c8aa",
   "metadata": {},
   "outputs": [
    {
     "data": {
      "text/plain": [
       "(0.7554747474747475, 0.860848484848485)"
      ]
     },
     "execution_count": 9,
     "metadata": {},
     "output_type": "execute_result"
    }
   ],
   "source": [
    "np.mean(ari_saem), np.mean(ari_md)"
   ]
  },
  {
   "cell_type": "code",
   "execution_count": 10,
   "id": "7317658e",
   "metadata": {},
   "outputs": [
    {
     "data": {
      "text/plain": [
       "(38.95623345375061, 102.50589027404786)"
      ]
     },
     "execution_count": 10,
     "metadata": {},
     "output_type": "execute_result"
    }
   ],
   "source": [
    "np.mean(runtime_saem), np.mean(runtime_md)"
   ]
  },
  {
   "cell_type": "code",
   "execution_count": 12,
   "id": "aa0c599a",
   "metadata": {},
   "outputs": [
    {
     "data": {
      "text/plain": [
       "(array([[0.42146293, 0.1867626 , 0.12797724, 0.11486839, 0.21946691],\n",
       "        [0.47945892, 0.25792881, 0.1021332 , 0.11809259, 0.18768296],\n",
       "        [0.52633267, 0.24766893, 0.09931943, 0.11111415, 0.20125409],\n",
       "        [0.35480962, 0.14250042, 0.1722092 , 0.1353741 , 0.18597611],\n",
       "        [0.52210421, 0.25068388, 0.09736222, 0.11016297, 0.20157458]]),\n",
       " array([[0.55431564, 0.23525233, 0.10435922, 0.11660999, 0.19788041],\n",
       "        [0.54530207, 0.24246199, 0.09842128, 0.10855397, 0.20682939],\n",
       "        [0.53997371, 0.24330593, 0.09933175, 0.11106793, 0.20295609],\n",
       "        [0.5308103 , 0.24489859, 0.1001208 , 0.1116264 , 0.20337422],\n",
       "        [0.53608305, 0.24639253, 0.09712495, 0.10829456, 0.20458207]]))"
      ]
     },
     "execution_count": 12,
     "metadata": {},
     "output_type": "execute_result"
    }
   ],
   "source": [
    "theta_saem_est, theta_md_est"
   ]
  },
  {
   "cell_type": "code",
   "execution_count": 13,
   "id": "25ccb6a7",
   "metadata": {},
   "outputs": [
    {
     "name": "stdout",
     "output_type": "stream",
     "text": [
      "0\n",
      "1\n",
      "2\n",
      "3\n",
      "4\n"
     ]
    }
   ],
   "source": [
    "rse_saem = np.zeros((Nrep, 5))\n",
    "se_saem = np.zeros((Nrep, 5))\n",
    "switched_saem = np.zeros((Nrep))\n",
    "rse_md = np.zeros((Nrep, 5))\n",
    "se_md = np.zeros((Nrep, 5))\n",
    "switched_md = np.zeros((Nrep))\n",
    "for j in range(Nrep):\n",
    "    se_saem[j, :], rse_saem[j, :], switched_saem[j] = saem.se_sbm(theta_saem_est[j], pi, probs)\n",
    "    se_md[j, :], rse_md[j, :], switched_md[j] = saem.se_sbm(theta_md_est[j], pi, probs)\n",
    "    print(j)"
   ]
  },
  {
   "cell_type": "code",
   "execution_count": 28,
   "id": "dae5c140",
   "metadata": {},
   "outputs": [
    {
     "data": {
      "image/png": "[encoded data removed]",
      "text/plain": [
       "<Figure size 432x288 with 1 Axes>"
      ]
     },
     "metadata": {
      "needs_background": "light"
     },
     "output_type": "display_data"
    }
   ],
   "source": [
    "plt.boxplot([ari_saem, ari_md], labels = [\"SAEM\", \"SMC-LVMs\"]);\n",
    "# plt.yscale('log')"
   ]
  },
  {
   "cell_type": "code",
   "execution_count": 42,
   "id": "8f03fba0",
   "metadata": {},
   "outputs": [
    {
     "data": {
      "text/plain": [
       "<matplotlib.collections.PathCollection at 0x7ff2313aee50>"
      ]
     },
     "execution_count": 42,
     "metadata": {},
     "output_type": "execute_result"
    },
    {
     "data": {
      "image/png": "[encoded data removed]",
      "text/plain": [
       "<Figure size 432x288 with 1 Axes>"
      ]
     },
     "metadata": {
      "needs_background": "light"
     },
     "output_type": "display_data"
    }
   ],
   "source": [
    "plt.scatter(ari_saem, runtime_saem);\n",
    "plt.scatter(ari_md, runtime_md)"
   ]
  },
  {
   "cell_type": "code",
   "execution_count": 79,
   "id": "c056f329",
   "metadata": {},
   "outputs": [
    {
     "data": {
      "text/plain": [
       "array(['#1f77b4', '#1f77b4', '#1f77b4', '#1f77b4', '#ff7f0e', '#ff7f0e',\n",
       "       '#ff7f0e', '#ff7f0e'], dtype='<U7')"
      ]
     },
     "execution_count": 79,
     "metadata": {},
     "output_type": "execute_result"
    }
   ],
   "source": [
    "prop_cycle = plt.rcParams['axes.prop_cycle']\n",
    "colors = np.repeat(prop_cycle.by_key()['color'][:2], 4)\n",
    "colors "
   ]
  },
  {
   "cell_type": "code",
   "execution_count": 80,
   "id": "f21ff99a",
   "metadata": {},
   "outputs": [
    {
     "data": {
      "image/png": "[encoded data removed]",
      "text/plain": [
       "<Figure size 432x288 with 1 Axes>"
      ]
     },
     "metadata": {
      "needs_background": "light"
     },
     "output_type": "display_data"
    }
   ],
   "source": [
    "boxp = plt.boxplot(np.concatenate((se_saem[:, 1:], se_md[:, 1:]), axis = 1), whis = 15, patch_artist=True, labels = [f\"${{\\\\nu_{{11}}}}$\", f\"${{\\\\nu_{{12}}}}$\", f\"${{\\\\nu_{{21}}}}$\", \n",
    "                                                                                f\"${{\\\\nu_{{22}}}}$\", f\"${{\\\\nu_{{11}}}}$\", f\"${{\\\\nu_{{12}}}}$\", f\"${{\\\\nu_{{21}}}}$\", \n",
    "                                                                                f\"${{\\\\nu_{{22}}}}$\"]);\n",
    "plt.yscale('log')\n",
    "for patch, color in zip(boxp['boxes'], colors):\n",
    "    patch.set_alpha(0.6)\n",
    "    patch.set_facecolor(color)\n",
    "for median in boxp['medians']:\n",
    "    median.set(color='k', linewidth=1.5)"
   ]
  },
  {
   "cell_type": "code",
   "execution_count": 84,
   "id": "00857a58",
   "metadata": {},
   "outputs": [],
   "source": [
    "prop_cycle = plt.rcParams['axes.prop_cycle']\n",
    "colors = prop_cycle.by_key()['color']"
   ]
  },
  {
   "cell_type": "code",
   "execution_count": 85,
   "id": "e4d101bf",
   "metadata": {},
   "outputs": [
    {
     "data": {
      "image/png": "[encoded data removed]",
      "text/plain": [
       "<Figure size 432x288 with 1 Axes>"
      ]
     },
     "metadata": {
      "needs_background": "light"
     },
     "output_type": "display_data"
    }
   ],
   "source": [
    "i = 0\n",
    "boxp = plt.boxplot([se_saem[:, i], se_md[:, i]], whis = 15, patch_artist=True, labels = [\"SAEM\", \"SMC-LVMs\"]);\n",
    "for patch, color in zip(boxp['boxes'], colors):\n",
    "    patch.set_alpha(0.6)\n",
    "    patch.set_facecolor(color)\n",
    "for median in boxp['medians']:\n",
    "    median.set(color='k', linewidth=1.5)\n",
    "# plt.yscale('log')"
   ]
  },
  {
   "cell_type": "code",
   "execution_count": 16,
   "id": "9e9bc902",
   "metadata": {},
   "outputs": [
    {
     "data": {
      "text/plain": [
       "(0.6, 0.0)"
      ]
     },
     "execution_count": 16,
     "metadata": {},
     "output_type": "execute_result"
    }
   ],
   "source": [
    "np.sum(switched_saem)/Nrep, np.sum(switched_md)/Nrep"
   ]
  }
 ],
 "metadata": {
  "kernelspec": {
   "display_name": "Python 3 (ipykernel)",
   "language": "python",
   "name": "python3"
  },
  "language_info": {
   "codemirror_mode": {
    "name": "ipython",
    "version": 3
   },
   "file_extension": ".py",
   "mimetype": "text/x-python",
   "name": "python",
   "nbconvert_exporter": "python",
   "pygments_lexer": "ipython3",
   "version": "3.9.7"
  }
 },
 "nbformat": 4,
 "nbformat_minor": 5
}
